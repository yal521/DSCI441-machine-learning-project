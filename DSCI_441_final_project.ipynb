{
  "nbformat": 4,
  "nbformat_minor": 0,
  "metadata": {
    "colab": {
      "provenance": [],
      "mount_file_id": "1seOicWCcnirqOztYKxvMEo_T6E-HSXJS",
      "authorship_tag": "ABX9TyM6O2V1hx9W3OBSviPkuJzi",
      "include_colab_link": true
    },
    "kernelspec": {
      "name": "python3",
      "display_name": "Python 3"
    },
    "language_info": {
      "name": "python"
    }
  },
  "cells": [
    {
      "cell_type": "markdown",
      "metadata": {
        "id": "view-in-github",
        "colab_type": "text"
      },
      "source": [
        "<a href=\"https://colab.research.google.com/github/yal521/DSCI441-machine-learning-project/blob/main/DSCI_441_final_project.ipynb\" target=\"_parent\"><img src=\"https://colab.research.google.com/assets/colab-badge.svg\" alt=\"Open In Colab\"/></a>"
      ]
    },
    {
      "cell_type": "code",
      "source": [
        "# Import libraries\n",
        "import numpy as np\n",
        "from numpy import where\n",
        "import pandas as pd\n",
        "from pandas import Series\n",
        "import matplotlib.pyplot as plt\n",
        "from collections import Counter\n",
        "import sklearn.metrics as metrique\n",
        "from numpy import loadtxt\n",
        "from keras.models import load_model\n",
        "from imblearn.over_sampling import SMOTE\n",
        "from matplotlib import pyplot\n",
        "from numpy import where\n",
        "from sklearn.model_selection import train_test_split\n",
        "from sklearn.preprocessing import StandardScaler, MinMaxScaler\n",
        "from keras.utils import np_utils\n",
        "from keras.callbacks import EarlyStopping\n",
        "from sklearn.metrics import accuracy_score\n",
        "from keras.callbacks import ModelCheckpoint\n",
        "from sklearn.metrics import classification_report, confusion_matrix\n",
        "from sklearn.metrics import precision_score\n",
        "from sklearn.metrics import recall_score\n",
        "from sklearn.metrics import confusion_matrix\n",
        "%matplotlib inline\n",
        "from sklearn.metrics import confusion_matrix\n",
        "import itertools\n",
        "import matplotlib.pyplot as plt\n",
        "from keras.backend import cast\n",
        "from keras.utils import np_utils\n",
        "from keras.models import Sequential\n",
        "from keras import backend as K, regularizers, Model, metrics\n",
        "from keras.layers import RepeatVector, Dense, Activation, Lambda\n",
        "from keras.layers import LSTM, Dense, Embedding, Dropout,Input, Attention, Layer, Concatenate, Permute, Dot, Multiply, Flatten\n",
        "from google.colab import drive\n",
        "import os"
      ],
      "metadata": {
        "id": "yqWNNoxo3KHJ"
      },
      "execution_count": 99,
      "outputs": []
    },
    {
      "cell_type": "markdown",
      "source": [
        "Load and read the data set"
      ],
      "metadata": {
        "id": "CjLOwIZjNu3V"
      }
    },
    {
      "cell_type": "code",
      "source": [
        "# Load the data and read the first few lines of data\n",
        "drive.mount('/content/drive')\n",
        "os.chdir('/content/drive/MyDrive/Yang_DSCI441_Final_Project')\n",
        "Credit_data = pd.read_csv(\"sampled_Credit_data-2.csv\")\n",
        "Credit_data.head()"
      ],
      "metadata": {
        "colab": {
          "base_uri": "https://localhost:8080/",
          "height": 314
        },
        "id": "q48TnHTON4Rn",
        "outputId": "337afbf3-9965-4df8-be2a-af6c0ddfd6a4"
      },
      "execution_count": 100,
      "outputs": [
        {
          "output_type": "stream",
          "name": "stdout",
          "text": [
            "Drive already mounted at /content/drive; to attempt to forcibly remount, call drive.mount(\"/content/drive\", force_remount=True).\n"
          ]
        },
        {
          "output_type": "execute_result",
          "data": {
            "text/plain": [
              "       Time         V1        V2        V3        V4        V5        V6  \\\n",
              "0  136495.0   1.891340 -0.941703 -0.465693  0.822444 -1.053182 -0.418160   \n",
              "1   38571.0  -0.429903  0.167311  0.647957 -1.936330  0.660004 -0.624739   \n",
              "2   26672.0  -1.204670  0.074550  1.778099  1.433339  0.167659  0.349178   \n",
              "3  156508.0 -11.521712  9.654525 -9.368721 -0.983806 -6.521962 -2.304209   \n",
              "4   79672.0  -1.406149 -0.054912  2.723919 -0.979521  0.449242  0.560431   \n",
              "\n",
              "         V7        V8        V9  ...       V21       V22       V23       V24  \\\n",
              "0 -0.599302 -0.038268  0.063975  ... -0.713578 -1.674146  0.424086 -0.271521   \n",
              "1  0.575645  0.100204  0.642102  ...  0.125645  0.444372 -0.290911 -0.292411   \n",
              "2  0.858258  0.177383 -0.940010  ...  0.165821  0.247312  0.166215  0.231063   \n",
              "3 -6.099734  8.252839  0.976392  ...  0.536635  0.732827  1.127417 -0.059780   \n",
              "4 -0.245460  0.676369  0.245946  ...  0.086798  0.154142 -0.159691 -0.285275   \n",
              "\n",
              "        V25       V26       V27       V28  Amount  Class  \n",
              "0 -0.533762 -1.065501  0.049795 -0.011126  100.11      0  \n",
              "1  0.440147 -0.694727  0.039023 -0.010394    1.00      0  \n",
              "2  0.497426 -0.168165  0.030430  0.087186  177.00      0  \n",
              "3  0.766781 -0.088046  0.561914  0.504720   19.99      0  \n",
              "4  0.213553  0.118448  0.011163  0.048650    4.99      0  \n",
              "\n",
              "[5 rows x 31 columns]"
            ],
            "text/html": [
              "\n",
              "  <div id=\"df-2e57dbe4-5f93-4f2e-be59-6e75e2f7e82d\">\n",
              "    <div class=\"colab-df-container\">\n",
              "      <div>\n",
              "<style scoped>\n",
              "    .dataframe tbody tr th:only-of-type {\n",
              "        vertical-align: middle;\n",
              "    }\n",
              "\n",
              "    .dataframe tbody tr th {\n",
              "        vertical-align: top;\n",
              "    }\n",
              "\n",
              "    .dataframe thead th {\n",
              "        text-align: right;\n",
              "    }\n",
              "</style>\n",
              "<table border=\"1\" class=\"dataframe\">\n",
              "  <thead>\n",
              "    <tr style=\"text-align: right;\">\n",
              "      <th></th>\n",
              "      <th>Time</th>\n",
              "      <th>V1</th>\n",
              "      <th>V2</th>\n",
              "      <th>V3</th>\n",
              "      <th>V4</th>\n",
              "      <th>V5</th>\n",
              "      <th>V6</th>\n",
              "      <th>V7</th>\n",
              "      <th>V8</th>\n",
              "      <th>V9</th>\n",
              "      <th>...</th>\n",
              "      <th>V21</th>\n",
              "      <th>V22</th>\n",
              "      <th>V23</th>\n",
              "      <th>V24</th>\n",
              "      <th>V25</th>\n",
              "      <th>V26</th>\n",
              "      <th>V27</th>\n",
              "      <th>V28</th>\n",
              "      <th>Amount</th>\n",
              "      <th>Class</th>\n",
              "    </tr>\n",
              "  </thead>\n",
              "  <tbody>\n",
              "    <tr>\n",
              "      <th>0</th>\n",
              "      <td>136495.0</td>\n",
              "      <td>1.891340</td>\n",
              "      <td>-0.941703</td>\n",
              "      <td>-0.465693</td>\n",
              "      <td>0.822444</td>\n",
              "      <td>-1.053182</td>\n",
              "      <td>-0.418160</td>\n",
              "      <td>-0.599302</td>\n",
              "      <td>-0.038268</td>\n",
              "      <td>0.063975</td>\n",
              "      <td>...</td>\n",
              "      <td>-0.713578</td>\n",
              "      <td>-1.674146</td>\n",
              "      <td>0.424086</td>\n",
              "      <td>-0.271521</td>\n",
              "      <td>-0.533762</td>\n",
              "      <td>-1.065501</td>\n",
              "      <td>0.049795</td>\n",
              "      <td>-0.011126</td>\n",
              "      <td>100.11</td>\n",
              "      <td>0</td>\n",
              "    </tr>\n",
              "    <tr>\n",
              "      <th>1</th>\n",
              "      <td>38571.0</td>\n",
              "      <td>-0.429903</td>\n",
              "      <td>0.167311</td>\n",
              "      <td>0.647957</td>\n",
              "      <td>-1.936330</td>\n",
              "      <td>0.660004</td>\n",
              "      <td>-0.624739</td>\n",
              "      <td>0.575645</td>\n",
              "      <td>0.100204</td>\n",
              "      <td>0.642102</td>\n",
              "      <td>...</td>\n",
              "      <td>0.125645</td>\n",
              "      <td>0.444372</td>\n",
              "      <td>-0.290911</td>\n",
              "      <td>-0.292411</td>\n",
              "      <td>0.440147</td>\n",
              "      <td>-0.694727</td>\n",
              "      <td>0.039023</td>\n",
              "      <td>-0.010394</td>\n",
              "      <td>1.00</td>\n",
              "      <td>0</td>\n",
              "    </tr>\n",
              "    <tr>\n",
              "      <th>2</th>\n",
              "      <td>26672.0</td>\n",
              "      <td>-1.204670</td>\n",
              "      <td>0.074550</td>\n",
              "      <td>1.778099</td>\n",
              "      <td>1.433339</td>\n",
              "      <td>0.167659</td>\n",
              "      <td>0.349178</td>\n",
              "      <td>0.858258</td>\n",
              "      <td>0.177383</td>\n",
              "      <td>-0.940010</td>\n",
              "      <td>...</td>\n",
              "      <td>0.165821</td>\n",
              "      <td>0.247312</td>\n",
              "      <td>0.166215</td>\n",
              "      <td>0.231063</td>\n",
              "      <td>0.497426</td>\n",
              "      <td>-0.168165</td>\n",
              "      <td>0.030430</td>\n",
              "      <td>0.087186</td>\n",
              "      <td>177.00</td>\n",
              "      <td>0</td>\n",
              "    </tr>\n",
              "    <tr>\n",
              "      <th>3</th>\n",
              "      <td>156508.0</td>\n",
              "      <td>-11.521712</td>\n",
              "      <td>9.654525</td>\n",
              "      <td>-9.368721</td>\n",
              "      <td>-0.983806</td>\n",
              "      <td>-6.521962</td>\n",
              "      <td>-2.304209</td>\n",
              "      <td>-6.099734</td>\n",
              "      <td>8.252839</td>\n",
              "      <td>0.976392</td>\n",
              "      <td>...</td>\n",
              "      <td>0.536635</td>\n",
              "      <td>0.732827</td>\n",
              "      <td>1.127417</td>\n",
              "      <td>-0.059780</td>\n",
              "      <td>0.766781</td>\n",
              "      <td>-0.088046</td>\n",
              "      <td>0.561914</td>\n",
              "      <td>0.504720</td>\n",
              "      <td>19.99</td>\n",
              "      <td>0</td>\n",
              "    </tr>\n",
              "    <tr>\n",
              "      <th>4</th>\n",
              "      <td>79672.0</td>\n",
              "      <td>-1.406149</td>\n",
              "      <td>-0.054912</td>\n",
              "      <td>2.723919</td>\n",
              "      <td>-0.979521</td>\n",
              "      <td>0.449242</td>\n",
              "      <td>0.560431</td>\n",
              "      <td>-0.245460</td>\n",
              "      <td>0.676369</td>\n",
              "      <td>0.245946</td>\n",
              "      <td>...</td>\n",
              "      <td>0.086798</td>\n",
              "      <td>0.154142</td>\n",
              "      <td>-0.159691</td>\n",
              "      <td>-0.285275</td>\n",
              "      <td>0.213553</td>\n",
              "      <td>0.118448</td>\n",
              "      <td>0.011163</td>\n",
              "      <td>0.048650</td>\n",
              "      <td>4.99</td>\n",
              "      <td>0</td>\n",
              "    </tr>\n",
              "  </tbody>\n",
              "</table>\n",
              "<p>5 rows × 31 columns</p>\n",
              "</div>\n",
              "      <button class=\"colab-df-convert\" onclick=\"convertToInteractive('df-2e57dbe4-5f93-4f2e-be59-6e75e2f7e82d')\"\n",
              "              title=\"Convert this dataframe to an interactive table.\"\n",
              "              style=\"display:none;\">\n",
              "        \n",
              "  <svg xmlns=\"http://www.w3.org/2000/svg\" height=\"24px\"viewBox=\"0 0 24 24\"\n",
              "       width=\"24px\">\n",
              "    <path d=\"M0 0h24v24H0V0z\" fill=\"none\"/>\n",
              "    <path d=\"M18.56 5.44l.94 2.06.94-2.06 2.06-.94-2.06-.94-.94-2.06-.94 2.06-2.06.94zm-11 1L8.5 8.5l.94-2.06 2.06-.94-2.06-.94L8.5 2.5l-.94 2.06-2.06.94zm10 10l.94 2.06.94-2.06 2.06-.94-2.06-.94-.94-2.06-.94 2.06-2.06.94z\"/><path d=\"M17.41 7.96l-1.37-1.37c-.4-.4-.92-.59-1.43-.59-.52 0-1.04.2-1.43.59L10.3 9.45l-7.72 7.72c-.78.78-.78 2.05 0 2.83L4 21.41c.39.39.9.59 1.41.59.51 0 1.02-.2 1.41-.59l7.78-7.78 2.81-2.81c.8-.78.8-2.07 0-2.86zM5.41 20L4 18.59l7.72-7.72 1.47 1.35L5.41 20z\"/>\n",
              "  </svg>\n",
              "      </button>\n",
              "      \n",
              "  <style>\n",
              "    .colab-df-container {\n",
              "      display:flex;\n",
              "      flex-wrap:wrap;\n",
              "      gap: 12px;\n",
              "    }\n",
              "\n",
              "    .colab-df-convert {\n",
              "      background-color: #E8F0FE;\n",
              "      border: none;\n",
              "      border-radius: 50%;\n",
              "      cursor: pointer;\n",
              "      display: none;\n",
              "      fill: #1967D2;\n",
              "      height: 32px;\n",
              "      padding: 0 0 0 0;\n",
              "      width: 32px;\n",
              "    }\n",
              "\n",
              "    .colab-df-convert:hover {\n",
              "      background-color: #E2EBFA;\n",
              "      box-shadow: 0px 1px 2px rgba(60, 64, 67, 0.3), 0px 1px 3px 1px rgba(60, 64, 67, 0.15);\n",
              "      fill: #174EA6;\n",
              "    }\n",
              "\n",
              "    [theme=dark] .colab-df-convert {\n",
              "      background-color: #3B4455;\n",
              "      fill: #D2E3FC;\n",
              "    }\n",
              "\n",
              "    [theme=dark] .colab-df-convert:hover {\n",
              "      background-color: #434B5C;\n",
              "      box-shadow: 0px 1px 3px 1px rgba(0, 0, 0, 0.15);\n",
              "      filter: drop-shadow(0px 1px 2px rgba(0, 0, 0, 0.3));\n",
              "      fill: #FFFFFF;\n",
              "    }\n",
              "  </style>\n",
              "\n",
              "      <script>\n",
              "        const buttonEl =\n",
              "          document.querySelector('#df-2e57dbe4-5f93-4f2e-be59-6e75e2f7e82d button.colab-df-convert');\n",
              "        buttonEl.style.display =\n",
              "          google.colab.kernel.accessAllowed ? 'block' : 'none';\n",
              "\n",
              "        async function convertToInteractive(key) {\n",
              "          const element = document.querySelector('#df-2e57dbe4-5f93-4f2e-be59-6e75e2f7e82d');\n",
              "          const dataTable =\n",
              "            await google.colab.kernel.invokeFunction('convertToInteractive',\n",
              "                                                     [key], {});\n",
              "          if (!dataTable) return;\n",
              "\n",
              "          const docLinkHtml = 'Like what you see? Visit the ' +\n",
              "            '<a target=\"_blank\" href=https://colab.research.google.com/notebooks/data_table.ipynb>data table notebook</a>'\n",
              "            + ' to learn more about interactive tables.';\n",
              "          element.innerHTML = '';\n",
              "          dataTable['output_type'] = 'display_data';\n",
              "          await google.colab.output.renderOutput(dataTable, element);\n",
              "          const docLink = document.createElement('div');\n",
              "          docLink.innerHTML = docLinkHtml;\n",
              "          element.appendChild(docLink);\n",
              "        }\n",
              "      </script>\n",
              "    </div>\n",
              "  </div>\n",
              "  "
            ]
          },
          "metadata": {},
          "execution_count": 100
        }
      ]
    },
    {
      "cell_type": "code",
      "source": [
        "Credit_data.shape"
      ],
      "metadata": {
        "colab": {
          "base_uri": "https://localhost:8080/"
        },
        "id": "8eCTrTIW-CHl",
        "outputId": "7c1feaaa-253b-4493-82a6-36f0b735a1a0"
      },
      "execution_count": 101,
      "outputs": [
        {
          "output_type": "execute_result",
          "data": {
            "text/plain": [
              "(180000, 31)"
            ]
          },
          "metadata": {},
          "execution_count": 101
        }
      ]
    },
    {
      "cell_type": "markdown",
      "source": [
        "Data Preprocessing"
      ],
      "metadata": {
        "id": "E9RxP9sUPqYP"
      }
    },
    {
      "cell_type": "code",
      "source": [
        "Credit_data.dtypes"
      ],
      "metadata": {
        "colab": {
          "base_uri": "https://localhost:8080/"
        },
        "id": "oOg12NmGQWNc",
        "outputId": "b4f71498-9892-466c-f51d-ecea837e7768"
      },
      "execution_count": 102,
      "outputs": [
        {
          "output_type": "execute_result",
          "data": {
            "text/plain": [
              "Time      float64\n",
              "V1        float64\n",
              "V2        float64\n",
              "V3        float64\n",
              "V4        float64\n",
              "V5        float64\n",
              "V6        float64\n",
              "V7        float64\n",
              "V8        float64\n",
              "V9        float64\n",
              "V10       float64\n",
              "V11       float64\n",
              "V12       float64\n",
              "V13       float64\n",
              "V14       float64\n",
              "V15       float64\n",
              "V16       float64\n",
              "V17       float64\n",
              "V18       float64\n",
              "V19       float64\n",
              "V20       float64\n",
              "V21       float64\n",
              "V22       float64\n",
              "V23       float64\n",
              "V24       float64\n",
              "V25       float64\n",
              "V26       float64\n",
              "V27       float64\n",
              "V28       float64\n",
              "Amount    float64\n",
              "Class       int64\n",
              "dtype: object"
            ]
          },
          "metadata": {},
          "execution_count": 102
        }
      ]
    },
    {
      "cell_type": "code",
      "source": [
        "print(Credit_data.isnull().sum())\n",
        "\n",
        "# this is a pretty clean dataset without missing values"
      ],
      "metadata": {
        "colab": {
          "base_uri": "https://localhost:8080/"
        },
        "id": "UnsyQ557PsZO",
        "outputId": "58e1f792-7ebe-4e5a-beb7-4a75072af38e"
      },
      "execution_count": 103,
      "outputs": [
        {
          "output_type": "stream",
          "name": "stdout",
          "text": [
            "Time      0\n",
            "V1        0\n",
            "V2        0\n",
            "V3        0\n",
            "V4        0\n",
            "V5        0\n",
            "V6        0\n",
            "V7        0\n",
            "V8        0\n",
            "V9        0\n",
            "V10       0\n",
            "V11       0\n",
            "V12       0\n",
            "V13       0\n",
            "V14       0\n",
            "V15       0\n",
            "V16       0\n",
            "V17       0\n",
            "V18       0\n",
            "V19       0\n",
            "V20       0\n",
            "V21       0\n",
            "V22       0\n",
            "V23       0\n",
            "V24       0\n",
            "V25       0\n",
            "V26       0\n",
            "V27       0\n",
            "V28       0\n",
            "Amount    0\n",
            "Class     0\n",
            "dtype: int64\n"
          ]
        }
      ]
    },
    {
      "cell_type": "code",
      "source": [
        "# Generate and plot a synthetic imbalanced classification dataset\n",
        "\n",
        "from collections import Counter\n",
        "from sklearn.datasets import make_classification\n",
        "from matplotlib import pyplot\n",
        "from numpy import where\n",
        "\n",
        "# define dataset\n",
        "TR0 = Credit_data.drop(['Class'], axis = 'columns')\n",
        "Label0 = Credit_data['Class']\n",
        "\n",
        "# summarize class distribution\n",
        "counter_V0 = Counter(Credit_data['Class'])\n",
        "print(counter_V0)\n",
        "\n",
        "# scatter plot of examples by class label\n",
        "TR1 = TR0.to_numpy()\n",
        "Label1 = Label0.to_numpy()\n",
        "for label, _ in counter_V0.items():\n",
        "    row_ix = where(Label1 == label)[0]\n",
        "    pyplot.scatter(TR1[row_ix, 1], TR1[row_ix, 3], label=str(label))\n",
        "pyplot.legend()\n",
        "pyplot.title('Plot Before SMOTE')\n",
        "pyplot.xlabel('V1')\n",
        "pyplot.ylabel('V3')\n",
        "pyplot.show()"
      ],
      "metadata": {
        "colab": {
          "base_uri": "https://localhost:8080/",
          "height": 489
        },
        "id": "wzjupzFRI66H",
        "outputId": "c5f77159-0dc0-4c4a-d3c5-42a84809c116"
      },
      "execution_count": 105,
      "outputs": [
        {
          "output_type": "stream",
          "name": "stdout",
          "text": [
            "Counter({0: 179710, 1: 290})\n"
          ]
        },
        {
          "output_type": "display_data",
          "data": {
            "text/plain": [
              "<Figure size 640x480 with 1 Axes>"
            ],
            "image/png": "[encoded data removed]"
          },
          "metadata": {}
        }
      ]
    },
    {
      "cell_type": "code",
      "source": [
        "# transform the dataset\n",
        "oversample = SMOTE()\n",
        "X, y = oversample.fit_resample(TR1, Label1)\n",
        "# summarize the new class distribution\n",
        "counter_V1 = Counter(y)\n",
        "print(counter_V1)\n",
        "# scatter plot of examples by class label\n",
        "for label, _ in counter_V1.items():\n",
        " row_ix = where(y == label)[0]\n",
        " pyplot.scatter(X[row_ix, 1], X[row_ix, 3], label=str(label))\n",
        "pyplot.legend()\n",
        "pyplot.title('Plot After SMOTE')\n",
        "pyplot.xlabel('V1')\n",
        "pyplot.ylabel('V3')\n",
        "pyplot.show()"
      ],
      "metadata": {
        "colab": {
          "base_uri": "https://localhost:8080/",
          "height": 489
        },
        "id": "t1HwkwdDLTxR",
        "outputId": "8856927e-777d-4e25-afa7-7edaeb4dabc0"
      },
      "execution_count": 106,
      "outputs": [
        {
          "output_type": "stream",
          "name": "stdout",
          "text": [
            "Counter({0: 179710, 1: 179710})\n"
          ]
        },
        {
          "output_type": "display_data",
          "data": {
            "text/plain": [
              "<Figure size 640x480 with 1 Axes>"
            ],
            "image/png": "[encoded data removed]"
          },
          "metadata": {}
        }
      ]
    },
    {
      "cell_type": "code",
      "source": [
        "TR2 = pd.DataFrame(X)\n",
        "TR2 .set_axis(['Time','V1','V2','V3','V4','V5','V6','V7','V8','V9','V10','V11','V12','V13','V14','V15','V16','V17','V18','V19','V20','V21','V22','V23','V24','V25','V26','V27','V28','Amount'], axis=1, inplace=True)\n",
        "Label = pd.DataFrame(y)"
      ],
      "metadata": {
        "colab": {
          "base_uri": "https://localhost:8080/"
        },
        "id": "WB_Xgsi5WuzO",
        "outputId": "143b3521-2b49-4d4f-ebf8-eb4d3a017a7b"
      },
      "execution_count": 107,
      "outputs": [
        {
          "output_type": "stream",
          "name": "stderr",
          "text": [
            "<ipython-input-107-5efcc4622ad7>:2: FutureWarning: DataFrame.set_axis 'inplace' keyword is deprecated and will be removed in a future version. Use `obj = obj.set_axis(..., copy=False)` instead\n",
            "  TR .set_axis(['Time','V1','V2','V3','V4','V5','V6','V7','V8','V9','V10','V11','V12','V13','V14','V15','V16','V17','V18','V19','V20','V21','V22','V23','V24','V25','V26','V27','V28','Amount'], axis=1, inplace=True)\n"
          ]
        }
      ]
    },
    {
      "cell_type": "code",
      "source": [
        "#TR.to_csv('/content/drive/MyDrive/Yang_DSCI441_Final_Project/Credit_data_TR_after_SMOTE.csv', index=False)\n",
        "#Label.to_csv('/content/drive/MyDrive/Yang_DSCI441_Final_Project/Credit_data_Label_after_SMOTE.csv', index=False)"
      ],
      "metadata": {
        "id": "xEMCAAwpbXEM"
      },
      "execution_count": 33,
      "outputs": []
    },
    {
      "cell_type": "markdown",
      "source": [
        "Feature Selection\n",
        "\n",
        "There is another code file using particle swarm optimization to select optimal features. It takes long time to get the results so that I put codes of feature selection into a seperate code file. I will use the results from feature selection code to build the model and assess its performance "
      ],
      "metadata": {
        "id": "2qGWHjwlRHmr"
      }
    },
    {
      "cell_type": "code",
      "source": [
        "data = pd.read_csv(\"sampled_Credit_data-2.csv\", na_filter=True)\n",
        "col_del = ['Time','V2','V4','V5','V8','V12','V13','V15','V16','V20', 'V21', 'V22','V23','V25', 'V27', 'V28','Amount']"
      ],
      "metadata": {
        "id": "JUynIq6ixWiv"
      },
      "execution_count": 108,
      "outputs": []
    },
    {
      "cell_type": "code",
      "source": [
        "col_keep = data.drop(col_del,axis =1)\n",
        "col_keep.head()"
      ],
      "metadata": {
        "colab": {
          "base_uri": "https://localhost:8080/",
          "height": 204
        },
        "id": "6_nlwSj2xfAe",
        "outputId": "c706cc78-4f3e-46b1-ca49-c5211c7b377f"
      },
      "execution_count": 109,
      "outputs": [
        {
          "output_type": "execute_result",
          "data": {
            "text/plain": [
              "          V1        V3        V6        V7        V9       V10       V11  \\\n",
              "0   1.891340 -0.465693 -0.418160 -0.599302  0.063975  0.901621 -1.614820   \n",
              "1  -0.429903  0.647957 -0.624739  0.575645  0.642102 -1.434134  0.884435   \n",
              "2  -1.204670  1.778099  0.349178  0.858258 -0.940010 -0.375711  1.363183   \n",
              "3 -11.521712 -9.368721 -2.304209 -6.099734  0.976392  2.731320 -1.477849   \n",
              "4  -1.406149  2.723919  0.560431 -0.245460  0.245946 -1.173967  0.954686   \n",
              "\n",
              "        V14       V17       V18       V19       V24       V26  Class  \n",
              "0  0.060331 -0.111284  0.998965 -0.854616 -0.271521 -1.065501      0  \n",
              "1  0.492651 -0.179842  0.012926  0.252973 -0.292411 -0.694727      0  \n",
              "2  0.195961  0.477333 -0.221437  0.998297  0.231063 -0.168165      0  \n",
              "3  5.115545  2.389038  0.947493 -0.561312 -0.059780 -0.088046      0  \n",
              "4 -0.190234 -0.401608 -0.563545 -1.964878 -0.285275  0.118448      0  "
            ],
            "text/html": [
              "\n",
              "  <div id=\"df-dcb6174e-81bd-48b9-972c-9a046011d3b6\">\n",
              "    <div class=\"colab-df-container\">\n",
              "      <div>\n",
              "<style scoped>\n",
              "    .dataframe tbody tr th:only-of-type {\n",
              "        vertical-align: middle;\n",
              "    }\n",
              "\n",
              "    .dataframe tbody tr th {\n",
              "        vertical-align: top;\n",
              "    }\n",
              "\n",
              "    .dataframe thead th {\n",
              "        text-align: right;\n",
              "    }\n",
              "</style>\n",
              "<table border=\"1\" class=\"dataframe\">\n",
              "  <thead>\n",
              "    <tr style=\"text-align: right;\">\n",
              "      <th></th>\n",
              "      <th>V1</th>\n",
              "      <th>V3</th>\n",
              "      <th>V6</th>\n",
              "      <th>V7</th>\n",
              "      <th>V9</th>\n",
              "      <th>V10</th>\n",
              "      <th>V11</th>\n",
              "      <th>V14</th>\n",
              "      <th>V17</th>\n",
              "      <th>V18</th>\n",
              "      <th>V19</th>\n",
              "      <th>V24</th>\n",
              "      <th>V26</th>\n",
              "      <th>Class</th>\n",
              "    </tr>\n",
              "  </thead>\n",
              "  <tbody>\n",
              "    <tr>\n",
              "      <th>0</th>\n",
              "      <td>1.891340</td>\n",
              "      <td>-0.465693</td>\n",
              "      <td>-0.418160</td>\n",
              "      <td>-0.599302</td>\n",
              "      <td>0.063975</td>\n",
              "      <td>0.901621</td>\n",
              "      <td>-1.614820</td>\n",
              "      <td>0.060331</td>\n",
              "      <td>-0.111284</td>\n",
              "      <td>0.998965</td>\n",
              "      <td>-0.854616</td>\n",
              "      <td>-0.271521</td>\n",
              "      <td>-1.065501</td>\n",
              "      <td>0</td>\n",
              "    </tr>\n",
              "    <tr>\n",
              "      <th>1</th>\n",
              "      <td>-0.429903</td>\n",
              "      <td>0.647957</td>\n",
              "      <td>-0.624739</td>\n",
              "      <td>0.575645</td>\n",
              "      <td>0.642102</td>\n",
              "      <td>-1.434134</td>\n",
              "      <td>0.884435</td>\n",
              "      <td>0.492651</td>\n",
              "      <td>-0.179842</td>\n",
              "      <td>0.012926</td>\n",
              "      <td>0.252973</td>\n",
              "      <td>-0.292411</td>\n",
              "      <td>-0.694727</td>\n",
              "      <td>0</td>\n",
              "    </tr>\n",
              "    <tr>\n",
              "      <th>2</th>\n",
              "      <td>-1.204670</td>\n",
              "      <td>1.778099</td>\n",
              "      <td>0.349178</td>\n",
              "      <td>0.858258</td>\n",
              "      <td>-0.940010</td>\n",
              "      <td>-0.375711</td>\n",
              "      <td>1.363183</td>\n",
              "      <td>0.195961</td>\n",
              "      <td>0.477333</td>\n",
              "      <td>-0.221437</td>\n",
              "      <td>0.998297</td>\n",
              "      <td>0.231063</td>\n",
              "      <td>-0.168165</td>\n",
              "      <td>0</td>\n",
              "    </tr>\n",
              "    <tr>\n",
              "      <th>3</th>\n",
              "      <td>-11.521712</td>\n",
              "      <td>-9.368721</td>\n",
              "      <td>-2.304209</td>\n",
              "      <td>-6.099734</td>\n",
              "      <td>0.976392</td>\n",
              "      <td>2.731320</td>\n",
              "      <td>-1.477849</td>\n",
              "      <td>5.115545</td>\n",
              "      <td>2.389038</td>\n",
              "      <td>0.947493</td>\n",
              "      <td>-0.561312</td>\n",
              "      <td>-0.059780</td>\n",
              "      <td>-0.088046</td>\n",
              "      <td>0</td>\n",
              "    </tr>\n",
              "    <tr>\n",
              "      <th>4</th>\n",
              "      <td>-1.406149</td>\n",
              "      <td>2.723919</td>\n",
              "      <td>0.560431</td>\n",
              "      <td>-0.245460</td>\n",
              "      <td>0.245946</td>\n",
              "      <td>-1.173967</td>\n",
              "      <td>0.954686</td>\n",
              "      <td>-0.190234</td>\n",
              "      <td>-0.401608</td>\n",
              "      <td>-0.563545</td>\n",
              "      <td>-1.964878</td>\n",
              "      <td>-0.285275</td>\n",
              "      <td>0.118448</td>\n",
              "      <td>0</td>\n",
              "    </tr>\n",
              "  </tbody>\n",
              "</table>\n",
              "</div>\n",
              "      <button class=\"colab-df-convert\" onclick=\"convertToInteractive('df-dcb6174e-81bd-48b9-972c-9a046011d3b6')\"\n",
              "              title=\"Convert this dataframe to an interactive table.\"\n",
              "              style=\"display:none;\">\n",
              "        \n",
              "  <svg xmlns=\"http://www.w3.org/2000/svg\" height=\"24px\"viewBox=\"0 0 24 24\"\n",
              "       width=\"24px\">\n",
              "    <path d=\"M0 0h24v24H0V0z\" fill=\"none\"/>\n",
              "    <path d=\"M18.56 5.44l.94 2.06.94-2.06 2.06-.94-2.06-.94-.94-2.06-.94 2.06-2.06.94zm-11 1L8.5 8.5l.94-2.06 2.06-.94-2.06-.94L8.5 2.5l-.94 2.06-2.06.94zm10 10l.94 2.06.94-2.06 2.06-.94-2.06-.94-.94-2.06-.94 2.06-2.06.94z\"/><path d=\"M17.41 7.96l-1.37-1.37c-.4-.4-.92-.59-1.43-.59-.52 0-1.04.2-1.43.59L10.3 9.45l-7.72 7.72c-.78.78-.78 2.05 0 2.83L4 21.41c.39.39.9.59 1.41.59.51 0 1.02-.2 1.41-.59l7.78-7.78 2.81-2.81c.8-.78.8-2.07 0-2.86zM5.41 20L4 18.59l7.72-7.72 1.47 1.35L5.41 20z\"/>\n",
              "  </svg>\n",
              "      </button>\n",
              "      \n",
              "  <style>\n",
              "    .colab-df-container {\n",
              "      display:flex;\n",
              "      flex-wrap:wrap;\n",
              "      gap: 12px;\n",
              "    }\n",
              "\n",
              "    .colab-df-convert {\n",
              "      background-color: #E8F0FE;\n",
              "      border: none;\n",
              "      border-radius: 50%;\n",
              "      cursor: pointer;\n",
              "      display: none;\n",
              "      fill: #1967D2;\n",
              "      height: 32px;\n",
              "      padding: 0 0 0 0;\n",
              "      width: 32px;\n",
              "    }\n",
              "\n",
              "    .colab-df-convert:hover {\n",
              "      background-color: #E2EBFA;\n",
              "      box-shadow: 0px 1px 2px rgba(60, 64, 67, 0.3), 0px 1px 3px 1px rgba(60, 64, 67, 0.15);\n",
              "      fill: #174EA6;\n",
              "    }\n",
              "\n",
              "    [theme=dark] .colab-df-convert {\n",
              "      background-color: #3B4455;\n",
              "      fill: #D2E3FC;\n",
              "    }\n",
              "\n",
              "    [theme=dark] .colab-df-convert:hover {\n",
              "      background-color: #434B5C;\n",
              "      box-shadow: 0px 1px 3px 1px rgba(0, 0, 0, 0.15);\n",
              "      filter: drop-shadow(0px 1px 2px rgba(0, 0, 0, 0.3));\n",
              "      fill: #FFFFFF;\n",
              "    }\n",
              "  </style>\n",
              "\n",
              "      <script>\n",
              "        const buttonEl =\n",
              "          document.querySelector('#df-dcb6174e-81bd-48b9-972c-9a046011d3b6 button.colab-df-convert');\n",
              "        buttonEl.style.display =\n",
              "          google.colab.kernel.accessAllowed ? 'block' : 'none';\n",
              "\n",
              "        async function convertToInteractive(key) {\n",
              "          const element = document.querySelector('#df-dcb6174e-81bd-48b9-972c-9a046011d3b6');\n",
              "          const dataTable =\n",
              "            await google.colab.kernel.invokeFunction('convertToInteractive',\n",
              "                                                     [key], {});\n",
              "          if (!dataTable) return;\n",
              "\n",
              "          const docLinkHtml = 'Like what you see? Visit the ' +\n",
              "            '<a target=\"_blank\" href=https://colab.research.google.com/notebooks/data_table.ipynb>data table notebook</a>'\n",
              "            + ' to learn more about interactive tables.';\n",
              "          element.innerHTML = '';\n",
              "          dataTable['output_type'] = 'display_data';\n",
              "          await google.colab.output.renderOutput(dataTable, element);\n",
              "          const docLink = document.createElement('div');\n",
              "          docLink.innerHTML = docLinkHtml;\n",
              "          element.appendChild(docLink);\n",
              "        }\n",
              "      </script>\n",
              "    </div>\n",
              "  </div>\n",
              "  "
            ]
          },
          "metadata": {},
          "execution_count": 109
        }
      ]
    },
    {
      "cell_type": "code",
      "source": [
        "col_keep.shape"
      ],
      "metadata": {
        "colab": {
          "base_uri": "https://localhost:8080/"
        },
        "id": "MPtll2ZLxtXb",
        "outputId": "ef220cdf-5df5-4414-b6a7-2faa0a26698c"
      },
      "execution_count": 110,
      "outputs": [
        {
          "output_type": "execute_result",
          "data": {
            "text/plain": [
              "(180000, 14)"
            ]
          },
          "metadata": {},
          "execution_count": 110
        }
      ]
    },
    {
      "cell_type": "code",
      "source": [
        "# Dividing the col_keep data into two parts: observation part and label part\n",
        "TR3 = col_keep.drop(['Class'], axis = 'columns')\n",
        "Label3 = col_keep['Class']"
      ],
      "metadata": {
        "id": "Y9ZjbYoWxyVD"
      },
      "execution_count": 111,
      "outputs": []
    },
    {
      "cell_type": "code",
      "source": [
        "# dataset transformation\n",
        "oversple = SMOTE()\n",
        "X_rw, y = oversple.fit_resample(TR3, col_keep['Class'])\n",
        "# summarize the new class distribution\n",
        "counter_V1 = Counter(y)\n",
        "print(counter_V1)"
      ],
      "metadata": {
        "id": "qDFGLSXly_my",
        "colab": {
          "base_uri": "https://localhost:8080/"
        },
        "outputId": "61b3d7e4-d875-449f-e52a-a069c40f1237"
      },
      "execution_count": 112,
      "outputs": [
        {
          "output_type": "stream",
          "name": "stdout",
          "text": [
            "Counter({0: 179710, 1: 179710})\n"
          ]
        }
      ]
    },
    {
      "cell_type": "markdown",
      "source": [
        "Model Construction 1: LSTM"
      ],
      "metadata": {
        "id": "Vint-97RznqJ"
      }
    },
    {
      "cell_type": "code",
      "source": [
        "# regularizing the data\n",
        "X_rw2 = StandardScaler().fit_transform(X_rw)\n",
        "X_rw2.shape"
      ],
      "metadata": {
        "colab": {
          "base_uri": "https://localhost:8080/"
        },
        "id": "5VK2eW9_zjts",
        "outputId": "c71f6e9c-8169-4db2-cd90-c5eda0bf102c"
      },
      "execution_count": 113,
      "outputs": [
        {
          "output_type": "execute_result",
          "data": {
            "text/plain": [
              "(359420, 13)"
            ]
          },
          "metadata": {},
          "execution_count": 113
        }
      ]
    },
    {
      "cell_type": "code",
      "source": [
        "X_train,X_test,y_train,y_test = train_test_split(X_rw2, y, test_size=0.2)\n",
        "X_train.shape"
      ],
      "metadata": {
        "colab": {
          "base_uri": "https://localhost:8080/"
        },
        "id": "0FWtFAyv2EVq",
        "outputId": "084259f6-07ba-4641-8bbc-f2f73a940364"
      },
      "execution_count": 114,
      "outputs": [
        {
          "output_type": "execute_result",
          "data": {
            "text/plain": [
              "(287536, 13)"
            ]
          },
          "metadata": {},
          "execution_count": 114
        }
      ]
    },
    {
      "cell_type": "code",
      "source": [
        "X_test.shape"
      ],
      "metadata": {
        "colab": {
          "base_uri": "https://localhost:8080/"
        },
        "id": "VQ74pDNO2Xfs",
        "outputId": "a9d3a2fe-b819-449b-f737-bfe92a33fedb"
      },
      "execution_count": 115,
      "outputs": [
        {
          "output_type": "execute_result",
          "data": {
            "text/plain": [
              "(71884, 13)"
            ]
          },
          "metadata": {},
          "execution_count": 115
        }
      ]
    },
    {
      "cell_type": "code",
      "source": [
        "# build the LSTM model\n",
        "np.random.seed(7)\n",
        "# train/test for transactions features\n",
        "train_LSTM_X=X_train\n",
        "val_LSTM_X=X_test\n",
        "\n",
        "# Reshape to 3D LSTM input[samples, timesteps, features]\n",
        "train_LSTM_X = train_LSTM_X.reshape((train_LSTM_X.shape[0], 1, train_LSTM_X.shape[1]))\n",
        "val_LSTM_X = val_LSTM_X.reshape((val_LSTM_X.shape[0], 1, val_LSTM_X.shape[1]))\n",
        "\n",
        "# train/test for labels\n",
        "train_LSTM_y=y_train\n",
        "val_LSTM_y=y_test"
      ],
      "metadata": {
        "id": "-3neosLS2t7w"
      },
      "execution_count": 116,
      "outputs": []
    },
    {
      "cell_type": "code",
      "source": [
        "# expected input data shape: (batch_size, timesteps, data_dim)\n",
        "model = Sequential()\n",
        "model.add(LSTM(32,dropout=0.3,recurrent_dropout=0.2,return_sequences=True,input_shape=(1, 13)))  # returns a sequence of vectors of dimension 32\n",
        "model.add(LSTM(32,dropout=0.3,recurrent_dropout=0.2,return_sequences=True))  # returns a sequence of vectors of dimension 32\n",
        "model.add(Dense(1, activation='sigmoid'))\n",
        "model.compile(loss='binary_crossentropy', optimizer='adam', metrics=['accuracy'])"
      ],
      "metadata": {
        "id": "Za6w0e0W3az4"
      },
      "execution_count": 119,
      "outputs": []
    },
    {
      "cell_type": "code",
      "source": [
        "train_model = model.fit(train_LSTM_X, train_LSTM_y, epochs = 100, batch_size = 10000, validation_data=(val_LSTM_X, val_LSTM_y))"
      ],
      "metadata": {
        "colab": {
          "base_uri": "https://localhost:8080/"
        },
        "id": "7K-B_ByJ6Fhm",
        "outputId": "b7e4e16c-1ce1-4531-b103-debc12d18cca"
      },
      "execution_count": 120,
      "outputs": [
        {
          "output_type": "stream",
          "name": "stdout",
          "text": [
            "Epoch 1/100\n",
            "29/29 [==============================] - 12s 176ms/step - loss: 0.6715 - accuracy: 0.7518 - val_loss: 0.6334 - val_accuracy: 0.8700\n",
            "Epoch 2/100\n",
            "29/29 [==============================] - 3s 104ms/step - loss: 0.5809 - accuracy: 0.8583 - val_loss: 0.4918 - val_accuracy: 0.8681\n",
            "Epoch 3/100\n",
            "29/29 [==============================] - 3s 109ms/step - loss: 0.4341 - accuracy: 0.8630 - val_loss: 0.3516 - val_accuracy: 0.8774\n",
            "Epoch 4/100\n",
            "29/29 [==============================] - 4s 140ms/step - loss: 0.3308 - accuracy: 0.8836 - val_loss: 0.2778 - val_accuracy: 0.9011\n",
            "Epoch 5/100\n",
            "29/29 [==============================] - 4s 139ms/step - loss: 0.2780 - accuracy: 0.9038 - val_loss: 0.2346 - val_accuracy: 0.9181\n",
            "Epoch 6/100\n",
            "29/29 [==============================] - 3s 104ms/step - loss: 0.2492 - accuracy: 0.9147 - val_loss: 0.2087 - val_accuracy: 0.9266\n",
            "Epoch 7/100\n",
            "29/29 [==============================] - 3s 105ms/step - loss: 0.2331 - accuracy: 0.9191 - val_loss: 0.1936 - val_accuracy: 0.9332\n",
            "Epoch 8/100\n",
            "29/29 [==============================] - 4s 128ms/step - loss: 0.2227 - accuracy: 0.9210 - val_loss: 0.1850 - val_accuracy: 0.9354\n",
            "Epoch 9/100\n",
            "29/29 [==============================] - 4s 147ms/step - loss: 0.2148 - accuracy: 0.9224 - val_loss: 0.1784 - val_accuracy: 0.9368\n",
            "Epoch 10/100\n",
            "29/29 [==============================] - 3s 107ms/step - loss: 0.2086 - accuracy: 0.9243 - val_loss: 0.1739 - val_accuracy: 0.9375\n",
            "Epoch 11/100\n",
            "29/29 [==============================] - 3s 105ms/step - loss: 0.2036 - accuracy: 0.9258 - val_loss: 0.1704 - val_accuracy: 0.9379\n",
            "Epoch 12/100\n",
            "29/29 [==============================] - 3s 113ms/step - loss: 0.1996 - accuracy: 0.9270 - val_loss: 0.1669 - val_accuracy: 0.9385\n",
            "Epoch 13/100\n",
            "29/29 [==============================] - 5s 164ms/step - loss: 0.1963 - accuracy: 0.9280 - val_loss: 0.1652 - val_accuracy: 0.9388\n",
            "Epoch 14/100\n",
            "29/29 [==============================] - 3s 104ms/step - loss: 0.1932 - accuracy: 0.9294 - val_loss: 0.1631 - val_accuracy: 0.9392\n",
            "Epoch 15/100\n",
            "29/29 [==============================] - 3s 104ms/step - loss: 0.1906 - accuracy: 0.9299 - val_loss: 0.1610 - val_accuracy: 0.9398\n",
            "Epoch 16/100\n",
            "29/29 [==============================] - 3s 107ms/step - loss: 0.1890 - accuracy: 0.9304 - val_loss: 0.1589 - val_accuracy: 0.9401\n",
            "Epoch 17/100\n",
            "29/29 [==============================] - 5s 176ms/step - loss: 0.1869 - accuracy: 0.9310 - val_loss: 0.1581 - val_accuracy: 0.9402\n",
            "Epoch 18/100\n",
            "29/29 [==============================] - 3s 103ms/step - loss: 0.1856 - accuracy: 0.9314 - val_loss: 0.1565 - val_accuracy: 0.9404\n",
            "Epoch 19/100\n",
            "29/29 [==============================] - 3s 106ms/step - loss: 0.1836 - accuracy: 0.9322 - val_loss: 0.1543 - val_accuracy: 0.9408\n",
            "Epoch 20/100\n",
            "29/29 [==============================] - 3s 107ms/step - loss: 0.1829 - accuracy: 0.9328 - val_loss: 0.1533 - val_accuracy: 0.9409\n",
            "Epoch 21/100\n",
            "29/29 [==============================] - 5s 168ms/step - loss: 0.1811 - accuracy: 0.9329 - val_loss: 0.1524 - val_accuracy: 0.9412\n",
            "Epoch 22/100\n",
            "29/29 [==============================] - 3s 109ms/step - loss: 0.1790 - accuracy: 0.9338 - val_loss: 0.1516 - val_accuracy: 0.9413\n",
            "Epoch 23/100\n",
            "29/29 [==============================] - 3s 104ms/step - loss: 0.1786 - accuracy: 0.9339 - val_loss: 0.1505 - val_accuracy: 0.9417\n",
            "Epoch 24/100\n",
            "29/29 [==============================] - 3s 104ms/step - loss: 0.1778 - accuracy: 0.9342 - val_loss: 0.1493 - val_accuracy: 0.9419\n",
            "Epoch 25/100\n",
            "29/29 [==============================] - 4s 155ms/step - loss: 0.1768 - accuracy: 0.9347 - val_loss: 0.1483 - val_accuracy: 0.9419\n",
            "Epoch 26/100\n",
            "29/29 [==============================] - 4s 120ms/step - loss: 0.1749 - accuracy: 0.9347 - val_loss: 0.1472 - val_accuracy: 0.9422\n",
            "Epoch 27/100\n",
            "29/29 [==============================] - 3s 105ms/step - loss: 0.1750 - accuracy: 0.9354 - val_loss: 0.1461 - val_accuracy: 0.9424\n",
            "Epoch 28/100\n",
            "29/29 [==============================] - 3s 105ms/step - loss: 0.1737 - accuracy: 0.9354 - val_loss: 0.1451 - val_accuracy: 0.9424\n",
            "Epoch 29/100\n",
            "29/29 [==============================] - 4s 142ms/step - loss: 0.1723 - accuracy: 0.9356 - val_loss: 0.1442 - val_accuracy: 0.9425\n",
            "Epoch 30/100\n",
            "29/29 [==============================] - 4s 135ms/step - loss: 0.1718 - accuracy: 0.9361 - val_loss: 0.1434 - val_accuracy: 0.9425\n",
            "Epoch 31/100\n",
            "29/29 [==============================] - 3s 106ms/step - loss: 0.1705 - accuracy: 0.9363 - val_loss: 0.1416 - val_accuracy: 0.9429\n",
            "Epoch 32/100\n",
            "29/29 [==============================] - 3s 106ms/step - loss: 0.1695 - accuracy: 0.9365 - val_loss: 0.1407 - val_accuracy: 0.9431\n",
            "Epoch 33/100\n",
            "29/29 [==============================] - 4s 130ms/step - loss: 0.1687 - accuracy: 0.9372 - val_loss: 0.1395 - val_accuracy: 0.9433\n",
            "Epoch 34/100\n",
            "29/29 [==============================] - 4s 144ms/step - loss: 0.1678 - accuracy: 0.9370 - val_loss: 0.1384 - val_accuracy: 0.9435\n",
            "Epoch 35/100\n",
            "29/29 [==============================] - 3s 112ms/step - loss: 0.1666 - accuracy: 0.9373 - val_loss: 0.1378 - val_accuracy: 0.9435\n",
            "Epoch 36/100\n",
            "29/29 [==============================] - 3s 103ms/step - loss: 0.1663 - accuracy: 0.9376 - val_loss: 0.1367 - val_accuracy: 0.9438\n",
            "Epoch 37/100\n",
            "29/29 [==============================] - 3s 118ms/step - loss: 0.1652 - accuracy: 0.9379 - val_loss: 0.1354 - val_accuracy: 0.9439\n",
            "Epoch 38/100\n",
            "29/29 [==============================] - 5s 160ms/step - loss: 0.1639 - accuracy: 0.9385 - val_loss: 0.1343 - val_accuracy: 0.9440\n",
            "Epoch 39/100\n",
            "29/29 [==============================] - 3s 105ms/step - loss: 0.1634 - accuracy: 0.9385 - val_loss: 0.1332 - val_accuracy: 0.9443\n",
            "Epoch 40/100\n",
            "29/29 [==============================] - 3s 105ms/step - loss: 0.1619 - accuracy: 0.9389 - val_loss: 0.1324 - val_accuracy: 0.9445\n",
            "Epoch 41/100\n",
            "29/29 [==============================] - 3s 103ms/step - loss: 0.1622 - accuracy: 0.9388 - val_loss: 0.1313 - val_accuracy: 0.9448\n",
            "Epoch 42/100\n",
            "29/29 [==============================] - 5s 184ms/step - loss: 0.1612 - accuracy: 0.9393 - val_loss: 0.1304 - val_accuracy: 0.9450\n",
            "Epoch 43/100\n",
            "29/29 [==============================] - 5s 168ms/step - loss: 0.1603 - accuracy: 0.9393 - val_loss: 0.1295 - val_accuracy: 0.9449\n",
            "Epoch 44/100\n",
            "29/29 [==============================] - 3s 104ms/step - loss: 0.1588 - accuracy: 0.9398 - val_loss: 0.1281 - val_accuracy: 0.9456\n",
            "Epoch 45/100\n",
            "29/29 [==============================] - 3s 105ms/step - loss: 0.1586 - accuracy: 0.9397 - val_loss: 0.1265 - val_accuracy: 0.9464\n",
            "Epoch 46/100\n",
            "29/29 [==============================] - 4s 135ms/step - loss: 0.1577 - accuracy: 0.9400 - val_loss: 0.1253 - val_accuracy: 0.9466\n",
            "Epoch 47/100\n",
            "29/29 [==============================] - 4s 139ms/step - loss: 0.1570 - accuracy: 0.9404 - val_loss: 0.1253 - val_accuracy: 0.9463\n",
            "Epoch 48/100\n",
            "29/29 [==============================] - 3s 105ms/step - loss: 0.1559 - accuracy: 0.9406 - val_loss: 0.1235 - val_accuracy: 0.9471\n",
            "Epoch 49/100\n",
            "29/29 [==============================] - 3s 104ms/step - loss: 0.1554 - accuracy: 0.9408 - val_loss: 0.1234 - val_accuracy: 0.9469\n",
            "Epoch 50/100\n",
            "29/29 [==============================] - 3s 115ms/step - loss: 0.1548 - accuracy: 0.9415 - val_loss: 0.1226 - val_accuracy: 0.9469\n",
            "Epoch 51/100\n",
            "29/29 [==============================] - 5s 160ms/step - loss: 0.1549 - accuracy: 0.9409 - val_loss: 0.1220 - val_accuracy: 0.9470\n",
            "Epoch 52/100\n",
            "29/29 [==============================] - 3s 105ms/step - loss: 0.1541 - accuracy: 0.9409 - val_loss: 0.1207 - val_accuracy: 0.9473\n",
            "Epoch 53/100\n",
            "29/29 [==============================] - 3s 107ms/step - loss: 0.1528 - accuracy: 0.9413 - val_loss: 0.1199 - val_accuracy: 0.9477\n",
            "Epoch 54/100\n",
            "29/29 [==============================] - 3s 105ms/step - loss: 0.1528 - accuracy: 0.9414 - val_loss: 0.1185 - val_accuracy: 0.9482\n",
            "Epoch 55/100\n",
            "29/29 [==============================] - 5s 179ms/step - loss: 0.1517 - accuracy: 0.9417 - val_loss: 0.1185 - val_accuracy: 0.9476\n",
            "Epoch 56/100\n",
            "29/29 [==============================] - 3s 105ms/step - loss: 0.1514 - accuracy: 0.9421 - val_loss: 0.1174 - val_accuracy: 0.9482\n",
            "Epoch 57/100\n",
            "29/29 [==============================] - 3s 104ms/step - loss: 0.1514 - accuracy: 0.9419 - val_loss: 0.1182 - val_accuracy: 0.9472\n",
            "Epoch 58/100\n",
            "29/29 [==============================] - 3s 105ms/step - loss: 0.1499 - accuracy: 0.9424 - val_loss: 0.1162 - val_accuracy: 0.9484\n",
            "Epoch 59/100\n",
            "29/29 [==============================] - 5s 169ms/step - loss: 0.1495 - accuracy: 0.9424 - val_loss: 0.1158 - val_accuracy: 0.9485\n",
            "Epoch 60/100\n",
            "29/29 [==============================] - 3s 104ms/step - loss: 0.1498 - accuracy: 0.9424 - val_loss: 0.1151 - val_accuracy: 0.9487\n",
            "Epoch 61/100\n",
            "29/29 [==============================] - 3s 105ms/step - loss: 0.1480 - accuracy: 0.9431 - val_loss: 0.1149 - val_accuracy: 0.9487\n",
            "Epoch 62/100\n",
            "29/29 [==============================] - 3s 105ms/step - loss: 0.1480 - accuracy: 0.9430 - val_loss: 0.1138 - val_accuracy: 0.9492\n",
            "Epoch 63/100\n",
            "29/29 [==============================] - 4s 157ms/step - loss: 0.1473 - accuracy: 0.9431 - val_loss: 0.1135 - val_accuracy: 0.9493\n",
            "Epoch 64/100\n",
            "29/29 [==============================] - 3s 118ms/step - loss: 0.1463 - accuracy: 0.9436 - val_loss: 0.1135 - val_accuracy: 0.9487\n",
            "Epoch 65/100\n",
            "29/29 [==============================] - 3s 104ms/step - loss: 0.1462 - accuracy: 0.9433 - val_loss: 0.1127 - val_accuracy: 0.9491\n",
            "Epoch 66/100\n",
            "29/29 [==============================] - 3s 109ms/step - loss: 0.1458 - accuracy: 0.9435 - val_loss: 0.1126 - val_accuracy: 0.9490\n",
            "Epoch 67/100\n",
            "29/29 [==============================] - 4s 148ms/step - loss: 0.1455 - accuracy: 0.9436 - val_loss: 0.1122 - val_accuracy: 0.9490\n",
            "Epoch 68/100\n",
            "29/29 [==============================] - 4s 128ms/step - loss: 0.1452 - accuracy: 0.9441 - val_loss: 0.1117 - val_accuracy: 0.9493\n",
            "Epoch 69/100\n",
            "29/29 [==============================] - 3s 105ms/step - loss: 0.1448 - accuracy: 0.9441 - val_loss: 0.1104 - val_accuracy: 0.9500\n",
            "Epoch 70/100\n",
            "29/29 [==============================] - 3s 104ms/step - loss: 0.1442 - accuracy: 0.9440 - val_loss: 0.1106 - val_accuracy: 0.9496\n",
            "Epoch 71/100\n",
            "29/29 [==============================] - 4s 133ms/step - loss: 0.1434 - accuracy: 0.9444 - val_loss: 0.1108 - val_accuracy: 0.9496\n",
            "Epoch 72/100\n",
            "29/29 [==============================] - 4s 141ms/step - loss: 0.1423 - accuracy: 0.9446 - val_loss: 0.1100 - val_accuracy: 0.9499\n",
            "Epoch 73/100\n",
            "29/29 [==============================] - 3s 106ms/step - loss: 0.1423 - accuracy: 0.9446 - val_loss: 0.1106 - val_accuracy: 0.9496\n",
            "Epoch 74/100\n",
            "29/29 [==============================] - 3s 104ms/step - loss: 0.1417 - accuracy: 0.9453 - val_loss: 0.1094 - val_accuracy: 0.9500\n",
            "Epoch 75/100\n",
            "29/29 [==============================] - 3s 117ms/step - loss: 0.1407 - accuracy: 0.9454 - val_loss: 0.1094 - val_accuracy: 0.9500\n",
            "Epoch 76/100\n",
            "29/29 [==============================] - 5s 158ms/step - loss: 0.1400 - accuracy: 0.9456 - val_loss: 0.1097 - val_accuracy: 0.9498\n",
            "Epoch 77/100\n",
            "29/29 [==============================] - 3s 103ms/step - loss: 0.1401 - accuracy: 0.9453 - val_loss: 0.1097 - val_accuracy: 0.9498\n",
            "Epoch 78/100\n",
            "29/29 [==============================] - 3s 105ms/step - loss: 0.1398 - accuracy: 0.9453 - val_loss: 0.1090 - val_accuracy: 0.9503\n",
            "Epoch 79/100\n",
            "29/29 [==============================] - 3s 105ms/step - loss: 0.1387 - accuracy: 0.9458 - val_loss: 0.1116 - val_accuracy: 0.9493\n",
            "Epoch 80/100\n",
            "29/29 [==============================] - 5s 177ms/step - loss: 0.1382 - accuracy: 0.9462 - val_loss: 0.1095 - val_accuracy: 0.9499\n",
            "Epoch 81/100\n",
            "29/29 [==============================] - 3s 105ms/step - loss: 0.1374 - accuracy: 0.9460 - val_loss: 0.1101 - val_accuracy: 0.9499\n",
            "Epoch 82/100\n",
            "29/29 [==============================] - 3s 104ms/step - loss: 0.1370 - accuracy: 0.9464 - val_loss: 0.1088 - val_accuracy: 0.9504\n",
            "Epoch 83/100\n",
            "29/29 [==============================] - 3s 106ms/step - loss: 0.1369 - accuracy: 0.9467 - val_loss: 0.1087 - val_accuracy: 0.9504\n",
            "Epoch 84/100\n",
            "29/29 [==============================] - 4s 156ms/step - loss: 0.1362 - accuracy: 0.9472 - val_loss: 0.1092 - val_accuracy: 0.9501\n",
            "Epoch 85/100\n",
            "29/29 [==============================] - 3s 117ms/step - loss: 0.1360 - accuracy: 0.9468 - val_loss: 0.1101 - val_accuracy: 0.9501\n",
            "Epoch 86/100\n",
            "29/29 [==============================] - 3s 111ms/step - loss: 0.1349 - accuracy: 0.9471 - val_loss: 0.1093 - val_accuracy: 0.9502\n",
            "Epoch 87/100\n",
            "29/29 [==============================] - 3s 105ms/step - loss: 0.1347 - accuracy: 0.9471 - val_loss: 0.1105 - val_accuracy: 0.9500\n",
            "Epoch 88/100\n",
            "29/29 [==============================] - 4s 149ms/step - loss: 0.1339 - accuracy: 0.9479 - val_loss: 0.1093 - val_accuracy: 0.9500\n",
            "Epoch 89/100\n",
            "29/29 [==============================] - 4s 129ms/step - loss: 0.1345 - accuracy: 0.9475 - val_loss: 0.1083 - val_accuracy: 0.9504\n",
            "Epoch 90/100\n",
            "29/29 [==============================] - 3s 106ms/step - loss: 0.1331 - accuracy: 0.9474 - val_loss: 0.1090 - val_accuracy: 0.9503\n",
            "Epoch 91/100\n",
            "29/29 [==============================] - 3s 105ms/step - loss: 0.1329 - accuracy: 0.9477 - val_loss: 0.1072 - val_accuracy: 0.9507\n",
            "Epoch 92/100\n",
            "29/29 [==============================] - 4s 133ms/step - loss: 0.1330 - accuracy: 0.9479 - val_loss: 0.1095 - val_accuracy: 0.9501\n",
            "Epoch 93/100\n",
            "29/29 [==============================] - 4s 143ms/step - loss: 0.1326 - accuracy: 0.9479 - val_loss: 0.1093 - val_accuracy: 0.9504\n",
            "Epoch 94/100\n",
            "29/29 [==============================] - 3s 104ms/step - loss: 0.1334 - accuracy: 0.9475 - val_loss: 0.1086 - val_accuracy: 0.9503\n",
            "Epoch 95/100\n",
            "29/29 [==============================] - 3s 104ms/step - loss: 0.1315 - accuracy: 0.9484 - val_loss: 0.1086 - val_accuracy: 0.9503\n",
            "Epoch 96/100\n",
            "29/29 [==============================] - 3s 116ms/step - loss: 0.1315 - accuracy: 0.9481 - val_loss: 0.1087 - val_accuracy: 0.9503\n",
            "Epoch 97/100\n",
            "29/29 [==============================] - 5s 158ms/step - loss: 0.1311 - accuracy: 0.9484 - val_loss: 0.1078 - val_accuracy: 0.9503\n",
            "Epoch 98/100\n",
            "29/29 [==============================] - 3s 105ms/step - loss: 0.1302 - accuracy: 0.9488 - val_loss: 0.1066 - val_accuracy: 0.9506\n",
            "Epoch 99/100\n",
            "29/29 [==============================] - 3s 104ms/step - loss: 0.1303 - accuracy: 0.9485 - val_loss: 0.1093 - val_accuracy: 0.9502\n",
            "Epoch 100/100\n",
            "29/29 [==============================] - 3s 107ms/step - loss: 0.1296 - accuracy: 0.9483 - val_loss: 0.1058 - val_accuracy: 0.9509\n"
          ]
        }
      ]
    },
    {
      "cell_type": "code",
      "source": [
        "# save model and architecture to single file\n",
        "model.save('Save_Model.h5')\n",
        "print(\"Saved model to disk\")\n",
        "\n",
        "# load model\n",
        "model = load_model('Save_Model.h5')\n",
        "# summarize model.\n",
        "model.summary()"
      ],
      "metadata": {
        "colab": {
          "base_uri": "https://localhost:8080/"
        },
        "id": "iRXfiBTV-Zj4",
        "outputId": "eac6efe4-c31b-4a52-cf5a-4313134c63da"
      },
      "execution_count": 121,
      "outputs": [
        {
          "output_type": "stream",
          "name": "stdout",
          "text": [
            "Saved model to disk\n",
            "Model: \"sequential_1\"\n",
            "_________________________________________________________________\n",
            " Layer (type)                Output Shape              Param #   \n",
            "=================================================================\n",
            " lstm_2 (LSTM)               (None, 1, 32)             5888      \n",
            "                                                                 \n",
            " lstm_3 (LSTM)               (None, 1, 32)             8320      \n",
            "                                                                 \n",
            " dense_1 (Dense)             (None, 1, 1)              33        \n",
            "                                                                 \n",
            "=================================================================\n",
            "Total params: 14,241\n",
            "Trainable params: 14,241\n",
            "Non-trainable params: 0\n",
            "_________________________________________________________________\n"
          ]
        }
      ]
    },
    {
      "cell_type": "markdown",
      "source": [
        "Model Evaluation 1 : LSTM"
      ],
      "metadata": {
        "id": "QYrWLMRNz2Ee"
      }
    },
    {
      "cell_type": "code",
      "source": [
        "# LSTM model evaluation\n",
        "_, acc_tr = model.evaluate(train_LSTM_X, train_LSTM_y, verbose=0)\n",
        "_, acc_te = model.evaluate(val_LSTM_X, val_LSTM_y, verbose=0)\n",
        "print('Train: %.3f, Test: %.3f' % (acc_tr, acc_te))"
      ],
      "metadata": {
        "colab": {
          "base_uri": "https://localhost:8080/"
        },
        "id": "HbBRpP6k9VY5",
        "outputId": "7d22814d-c4c9-45fd-98b2-c1ceb56cae9c"
      },
      "execution_count": 122,
      "outputs": [
        {
          "output_type": "stream",
          "name": "stdout",
          "text": [
            "Train: 0.950, Test: 0.951\n"
          ]
        }
      ]
    },
    {
      "cell_type": "code",
      "source": [
        "# plot loss during training\n",
        "pyplot.subplot(211)\n",
        "pyplot.title('Loss')\n",
        "pyplot.plot(train_model.history['loss'], label='train')\n",
        "pyplot.plot(train_model.history['val_loss'], label='test')\n",
        "pyplot.legend()\n",
        "# plot accuracy during training\n",
        "pyplot.subplot(212)\n",
        "pyplot.title('Accuracy')\n",
        "pyplot.plot(train_model.history['accuracy'], label='train')\n",
        "pyplot.plot(train_model.history['val_accuracy'], label='test')\n",
        "pyplot.legend()\n",
        "pyplot.show()"
      ],
      "metadata": {
        "colab": {
          "base_uri": "https://localhost:8080/",
          "height": 452
        },
        "id": "ilz9fmFS-S36",
        "outputId": "f98a6bf6-efdb-4c8a-e0b5-eb68b761987a"
      },
      "execution_count": 123,
      "outputs": [
        {
          "output_type": "display_data",
          "data": {
            "text/plain": [
              "<Figure size 640x480 with 2 Axes>"
            ],
            "image/png": "[encoded data removed]"
          },
          "metadata": {}
        }
      ]
    },
    {
      "cell_type": "code",
      "source": [
        "# predict probabilities for test set\n",
        "yh_probs = model.predict(val_LSTM_X, verbose=0)\n",
        "# reduce to 1d array\n",
        "yh_probs = yh_probs[:, 0]"
      ],
      "metadata": {
        "id": "d6Z7iE4z_clZ"
      },
      "execution_count": 124,
      "outputs": []
    },
    {
      "cell_type": "code",
      "source": [
        "# Set threshold for decision boundary\n",
        "threshold = 0.5\n",
        "\n",
        "# Convert predicted probabilities to class labels using the threshold\n",
        "yh_predictions = (yh_probs > threshold).astype(int)\n",
        "\n",
        "# Print the predicted class labels for the first ten test samples\n",
        "print(yh_predictions[:10])"
      ],
      "metadata": {
        "colab": {
          "base_uri": "https://localhost:8080/"
        },
        "id": "4sueme48_fTt",
        "outputId": "92c07df5-92fb-4fcc-e47e-9ab8fe218166"
      },
      "execution_count": 125,
      "outputs": [
        {
          "output_type": "stream",
          "name": "stdout",
          "text": [
            "[[0]\n",
            " [0]\n",
            " [0]\n",
            " [0]\n",
            " [1]\n",
            " [1]\n",
            " [1]\n",
            " [1]\n",
            " [0]\n",
            " [0]]\n"
          ]
        }
      ]
    },
    {
      "cell_type": "code",
      "source": [
        "# Model evaluation metrics for LSTM\n",
        "\n",
        "# accuracy: (tp + tn) / (p + n)\n",
        "accuracy = accuracy_score(val_LSTM_y, yh_predictions)\n",
        "print('Accuracy: %f' % accuracy)\n",
        "# precision tp / (tp + fp)\n",
        "precision = precision_score(val_LSTM_y, yh_predictions)\n",
        "print('Precision: %f' % precision)\n",
        "# recall: tp / (tp + fn)\n",
        "recall = recall_score(val_LSTM_y, yh_predictions)\n",
        "print('Recall: %f' % recall)"
      ],
      "metadata": {
        "colab": {
          "base_uri": "https://localhost:8080/"
        },
        "id": "nUggRsJM_3v6",
        "outputId": "fad64f63-5d08-48be-9721-59bf787cf3a0"
      },
      "execution_count": 126,
      "outputs": [
        {
          "output_type": "stream",
          "name": "stdout",
          "text": [
            "Accuracy: 0.950907\n",
            "Precision: 0.995308\n",
            "Recall: 0.906359\n"
          ]
        }
      ]
    },
    {
      "cell_type": "code",
      "source": [
        "mt = confusion_matrix(y_true=val_LSTM_y, y_pred=yh_predictions)"
      ],
      "metadata": {
        "id": "l-NJj6B9AAfY"
      },
      "execution_count": 127,
      "outputs": []
    },
    {
      "cell_type": "code",
      "source": [
        "def confusion_matrix_graph(mt, classes,\n",
        "                        normalize=False,\n",
        "                        title='Confusion matrix',\n",
        "                        cmap=plt.cm.Blues):\n",
        "    \"\"\"\n",
        "    This function prints the confusion matrix graph.\n",
        "    \"\"\"\n",
        "    plt.imshow(mt, interpolation='nearest', cmap=cmap)\n",
        "    plt.title(title)\n",
        "    plt.colorbar()\n",
        "    tick_marks = np.arange(len(classes))\n",
        "    plt.xticks(tick_marks, classes, rotation=45)\n",
        "    plt.yticks(tick_marks, classes)\n",
        "\n",
        "    if normalize:\n",
        "        mt = mt.astype('float') / mt.sum(axis=1)[:, np.newaxis]\n",
        "        print(\"Normalized confusion matrix\")\n",
        "    else:\n",
        "        print('Confusion matrix, without normalization')\n",
        "\n",
        "    print(mt)\n",
        "\n",
        "    thresh = mt.max() / 2.\n",
        "    for i, j in itertools.product(range(mt.shape[0]), range(mt.shape[1])):\n",
        "        plt.text(j, i, mt[i, j],\n",
        "            horizontalalignment=\"center\",\n",
        "            color=\"white\" if mt[i, j] > thresh else \"black\")\n",
        "\n",
        "    plt.tight_layout()\n",
        "    plt.ylabel('True')\n",
        "    plt.xlabel('Prediction')\n",
        "labels = ['Normal','Fraud']"
      ],
      "metadata": {
        "id": "2e3WxN1HAIeY"
      },
      "execution_count": 128,
      "outputs": []
    },
    {
      "cell_type": "code",
      "source": [
        "confusion_matrix_graph(mt=mt, classes=labels, title='LSTM model evaluation')"
      ],
      "metadata": {
        "colab": {
          "base_uri": "https://localhost:8080/",
          "height": 557
        },
        "id": "w1cEc1tdAJOJ",
        "outputId": "5c76c2a7-8c7d-4053-f07d-ea5c3a17c3b2"
      },
      "execution_count": null,
      "outputs": [
        {
          "output_type": "stream",
          "name": "stdout",
          "text": [
            "Confusion matrix, without normalization\n",
            "[[54699  2210]\n",
            " [ 6586 50231]]\n"
          ]
        },
        {
          "output_type": "display_data",
          "data": {
            "text/plain": [
              "<Figure size 640x480 with 2 Axes>"
            ],
            "image/png": "[encoded data removed]"
          },
          "metadata": {}
        }
      ]
    },
    {
      "cell_type": "markdown",
      "source": [
        "Model Construction 2 : LSTM with Mechanism Layer"
      ],
      "metadata": {
        "id": "GY_U3oX00FwF"
      }
    },
    {
      "cell_type": "code",
      "source": [
        "# Build attention mechanism layer\n",
        "class attention_mechanism(Layer):\n",
        "    def __init__(self,**kwargs):\n",
        "        super(attention_mechanism,self).__init__(**kwargs)\n",
        "\n",
        "    def build(self,input_shape):\n",
        "        self.W=self.add_weight(name=\"att_weight\",shape=(input_shape[-1],1),initializer=\"normal\")\n",
        "        self.b=self.add_weight(name=\"att_bias\",shape=(input_shape[1],1),initializer=\"zeros\")        \n",
        "        super(attention_mechanism, self).build(input_shape)\n",
        "\n",
        "    def call(self,x):\n",
        "        et=K.squeeze(K.tanh(K.dot(x,self.W)+self.b),axis=-1)\n",
        "        at=K.softmax(et)\n",
        "        at=K.expand_dims(at,axis=-1)\n",
        "        output=x*at\n",
        "        return K.sum(output,axis=1)\n",
        "\n",
        "    def compute_output_shape(self,input_shape):\n",
        "        return (input_shape[0],input_shape[-1])\n",
        "\n",
        "    def get_config(self):\n",
        "        return super(attention_mechanism,self).get_config()"
      ],
      "metadata": {
        "id": "g5EfxOCqCf4S"
      },
      "execution_count": 129,
      "outputs": []
    },
    {
      "cell_type": "code",
      "source": [
        "# build LSTM model with attention mechanism layer\n",
        "model1 = Sequential()\n",
        "model1.add(LSTM(32,dropout=0.3,recurrent_dropout=0.2,return_sequences=True,input_shape=(1, 13)))  # returns a sequence of vectors of dimension 32\n",
        "model1.add(LSTM(32,dropout=0.3,recurrent_dropout=0.2,return_sequences=True))  # returns a sequence of vectors of dimension 32\n",
        "model1.add(attention_mechanism())\n",
        "model1.add(Dense(1, activation='sigmoid'))\n",
        "model1.compile(loss='binary_crossentropy', optimizer='adam', metrics=['accuracy'])"
      ],
      "metadata": {
        "id": "PDdb-tIQDR7t"
      },
      "execution_count": 130,
      "outputs": []
    },
    {
      "cell_type": "code",
      "source": [
        "train_model1=model1.fit(train_LSTM_X, train_LSTM_y,epochs=100,batch_size=10000, validation_data=(val_LSTM_X, val_LSTM_y))"
      ],
      "metadata": {
        "colab": {
          "base_uri": "https://localhost:8080/"
        },
        "id": "mlvQTggBDslS",
        "outputId": "46321b33-9a18-45f9-d027-3b22acb42c26"
      },
      "execution_count": 131,
      "outputs": [
        {
          "output_type": "stream",
          "name": "stdout",
          "text": [
            "Epoch 1/100\n",
            "29/29 [==============================] - 19s 167ms/step - loss: 0.6651 - accuracy: 0.7803 - val_loss: 0.6179 - val_accuracy: 0.8608\n",
            "Epoch 2/100\n",
            "29/29 [==============================] - 4s 143ms/step - loss: 0.5634 - accuracy: 0.8544 - val_loss: 0.4780 - val_accuracy: 0.8592\n",
            "Epoch 3/100\n",
            "29/29 [==============================] - 7s 228ms/step - loss: 0.4327 - accuracy: 0.8584 - val_loss: 0.3613 - val_accuracy: 0.8752\n",
            "Epoch 4/100\n",
            "29/29 [==============================] - 7s 237ms/step - loss: 0.3402 - accuracy: 0.8804 - val_loss: 0.2860 - val_accuracy: 0.8979\n",
            "Epoch 5/100\n",
            "29/29 [==============================] - 5s 158ms/step - loss: 0.2834 - accuracy: 0.9007 - val_loss: 0.2386 - val_accuracy: 0.9131\n",
            "Epoch 6/100\n",
            "29/29 [==============================] - 4s 153ms/step - loss: 0.2511 - accuracy: 0.9121 - val_loss: 0.2088 - val_accuracy: 0.9257\n",
            "Epoch 7/100\n",
            "29/29 [==============================] - 6s 207ms/step - loss: 0.2326 - accuracy: 0.9169 - val_loss: 0.1927 - val_accuracy: 0.9315\n",
            "Epoch 8/100\n",
            "29/29 [==============================] - 4s 140ms/step - loss: 0.2224 - accuracy: 0.9192 - val_loss: 0.1836 - val_accuracy: 0.9354\n",
            "Epoch 9/100\n",
            "29/29 [==============================] - 4s 151ms/step - loss: 0.2152 - accuracy: 0.9214 - val_loss: 0.1779 - val_accuracy: 0.9367\n",
            "Epoch 10/100\n",
            "29/29 [==============================] - 6s 214ms/step - loss: 0.2084 - accuracy: 0.9240 - val_loss: 0.1733 - val_accuracy: 0.9377\n",
            "Epoch 11/100\n",
            "29/29 [==============================] - 4s 146ms/step - loss: 0.2033 - accuracy: 0.9253 - val_loss: 0.1698 - val_accuracy: 0.9383\n",
            "Epoch 12/100\n",
            "29/29 [==============================] - 4s 125ms/step - loss: 0.2006 - accuracy: 0.9267 - val_loss: 0.1672 - val_accuracy: 0.9388\n",
            "Epoch 13/100\n",
            "29/29 [==============================] - 5s 170ms/step - loss: 0.1966 - accuracy: 0.9283 - val_loss: 0.1646 - val_accuracy: 0.9392\n",
            "Epoch 14/100\n",
            "29/29 [==============================] - 4s 134ms/step - loss: 0.1942 - accuracy: 0.9289 - val_loss: 0.1630 - val_accuracy: 0.9393\n",
            "Epoch 15/100\n",
            "29/29 [==============================] - 4s 121ms/step - loss: 0.1909 - accuracy: 0.9298 - val_loss: 0.1606 - val_accuracy: 0.9398\n",
            "Epoch 16/100\n",
            "29/29 [==============================] - 4s 146ms/step - loss: 0.1881 - accuracy: 0.9314 - val_loss: 0.1591 - val_accuracy: 0.9401\n",
            "Epoch 17/100\n",
            "29/29 [==============================] - 5s 187ms/step - loss: 0.1863 - accuracy: 0.9320 - val_loss: 0.1568 - val_accuracy: 0.9405\n",
            "Epoch 18/100\n",
            "29/29 [==============================] - 4s 129ms/step - loss: 0.1852 - accuracy: 0.9328 - val_loss: 0.1555 - val_accuracy: 0.9408\n",
            "Epoch 19/100\n",
            "29/29 [==============================] - 4s 127ms/step - loss: 0.1836 - accuracy: 0.9324 - val_loss: 0.1543 - val_accuracy: 0.9411\n",
            "Epoch 20/100\n",
            "29/29 [==============================] - 4s 156ms/step - loss: 0.1822 - accuracy: 0.9328 - val_loss: 0.1531 - val_accuracy: 0.9415\n",
            "Epoch 21/100\n",
            "29/29 [==============================] - 4s 151ms/step - loss: 0.1807 - accuracy: 0.9333 - val_loss: 0.1523 - val_accuracy: 0.9416\n",
            "Epoch 22/100\n",
            "29/29 [==============================] - 4s 124ms/step - loss: 0.1798 - accuracy: 0.9338 - val_loss: 0.1503 - val_accuracy: 0.9420\n",
            "Epoch 23/100\n",
            "29/29 [==============================] - 4s 149ms/step - loss: 0.1779 - accuracy: 0.9341 - val_loss: 0.1499 - val_accuracy: 0.9421\n",
            "Epoch 24/100\n",
            "29/29 [==============================] - 5s 183ms/step - loss: 0.1766 - accuracy: 0.9347 - val_loss: 0.1484 - val_accuracy: 0.9424\n",
            "Epoch 25/100\n",
            "29/29 [==============================] - 3s 118ms/step - loss: 0.1760 - accuracy: 0.9348 - val_loss: 0.1473 - val_accuracy: 0.9424\n",
            "Epoch 26/100\n",
            "29/29 [==============================] - 3s 114ms/step - loss: 0.1740 - accuracy: 0.9355 - val_loss: 0.1458 - val_accuracy: 0.9425\n",
            "Epoch 27/100\n",
            "29/29 [==============================] - 4s 129ms/step - loss: 0.1734 - accuracy: 0.9355 - val_loss: 0.1448 - val_accuracy: 0.9427\n",
            "Epoch 28/100\n",
            "29/29 [==============================] - 5s 173ms/step - loss: 0.1725 - accuracy: 0.9360 - val_loss: 0.1440 - val_accuracy: 0.9428\n",
            "Epoch 29/100\n",
            "29/29 [==============================] - 3s 118ms/step - loss: 0.1717 - accuracy: 0.9360 - val_loss: 0.1427 - val_accuracy: 0.9429\n",
            "Epoch 30/100\n",
            "29/29 [==============================] - 4s 140ms/step - loss: 0.1705 - accuracy: 0.9363 - val_loss: 0.1416 - val_accuracy: 0.9430\n",
            "Epoch 31/100\n",
            "29/29 [==============================] - 5s 175ms/step - loss: 0.1694 - accuracy: 0.9370 - val_loss: 0.1403 - val_accuracy: 0.9432\n",
            "Epoch 32/100\n",
            "29/29 [==============================] - 4s 131ms/step - loss: 0.1686 - accuracy: 0.9372 - val_loss: 0.1401 - val_accuracy: 0.9431\n",
            "Epoch 33/100\n",
            "29/29 [==============================] - 3s 117ms/step - loss: 0.1673 - accuracy: 0.9374 - val_loss: 0.1386 - val_accuracy: 0.9434\n",
            "Epoch 34/100\n",
            "29/29 [==============================] - 3s 113ms/step - loss: 0.1667 - accuracy: 0.9377 - val_loss: 0.1373 - val_accuracy: 0.9435\n",
            "Epoch 35/100\n",
            "29/29 [==============================] - 5s 185ms/step - loss: 0.1655 - accuracy: 0.9379 - val_loss: 0.1363 - val_accuracy: 0.9440\n",
            "Epoch 36/100\n",
            "29/29 [==============================] - 3s 113ms/step - loss: 0.1652 - accuracy: 0.9381 - val_loss: 0.1354 - val_accuracy: 0.9441\n",
            "Epoch 37/100\n",
            "29/29 [==============================] - 3s 113ms/step - loss: 0.1637 - accuracy: 0.9386 - val_loss: 0.1341 - val_accuracy: 0.9444\n",
            "Epoch 38/100\n",
            "29/29 [==============================] - 3s 113ms/step - loss: 0.1629 - accuracy: 0.9389 - val_loss: 0.1332 - val_accuracy: 0.9446\n",
            "Epoch 39/100\n",
            "29/29 [==============================] - 5s 190ms/step - loss: 0.1626 - accuracy: 0.9388 - val_loss: 0.1326 - val_accuracy: 0.9445\n",
            "Epoch 40/100\n",
            "29/29 [==============================] - 4s 124ms/step - loss: 0.1616 - accuracy: 0.9391 - val_loss: 0.1309 - val_accuracy: 0.9452\n",
            "Epoch 41/100\n",
            "29/29 [==============================] - 3s 115ms/step - loss: 0.1609 - accuracy: 0.9392 - val_loss: 0.1301 - val_accuracy: 0.9454\n",
            "Epoch 42/100\n",
            "29/29 [==============================] - 4s 131ms/step - loss: 0.1604 - accuracy: 0.9394 - val_loss: 0.1293 - val_accuracy: 0.9456\n",
            "Epoch 43/100\n",
            "29/29 [==============================] - 5s 167ms/step - loss: 0.1592 - accuracy: 0.9401 - val_loss: 0.1287 - val_accuracy: 0.9458\n",
            "Epoch 44/100\n",
            "29/29 [==============================] - 3s 115ms/step - loss: 0.1585 - accuracy: 0.9401 - val_loss: 0.1280 - val_accuracy: 0.9459\n",
            "Epoch 45/100\n",
            "29/29 [==============================] - 3s 111ms/step - loss: 0.1580 - accuracy: 0.9396 - val_loss: 0.1275 - val_accuracy: 0.9460\n",
            "Epoch 46/100\n",
            "29/29 [==============================] - 5s 182ms/step - loss: 0.1572 - accuracy: 0.9403 - val_loss: 0.1260 - val_accuracy: 0.9464\n",
            "Epoch 47/100\n",
            "29/29 [==============================] - 4s 141ms/step - loss: 0.1567 - accuracy: 0.9408 - val_loss: 0.1256 - val_accuracy: 0.9465\n",
            "Epoch 48/100\n",
            "29/29 [==============================] - 3s 113ms/step - loss: 0.1565 - accuracy: 0.9404 - val_loss: 0.1246 - val_accuracy: 0.9465\n",
            "Epoch 49/100\n",
            "29/29 [==============================] - 3s 113ms/step - loss: 0.1553 - accuracy: 0.9408 - val_loss: 0.1238 - val_accuracy: 0.9468\n",
            "Epoch 50/100\n",
            "29/29 [==============================] - 4s 156ms/step - loss: 0.1546 - accuracy: 0.9410 - val_loss: 0.1226 - val_accuracy: 0.9472\n",
            "Epoch 51/100\n",
            "29/29 [==============================] - 6s 193ms/step - loss: 0.1535 - accuracy: 0.9416 - val_loss: 0.1220 - val_accuracy: 0.9475\n",
            "Epoch 52/100\n",
            "29/29 [==============================] - 4s 123ms/step - loss: 0.1538 - accuracy: 0.9412 - val_loss: 0.1212 - val_accuracy: 0.9477\n",
            "Epoch 53/100\n",
            "29/29 [==============================] - 4s 132ms/step - loss: 0.1526 - accuracy: 0.9416 - val_loss: 0.1214 - val_accuracy: 0.9471\n",
            "Epoch 54/100\n",
            "29/29 [==============================] - 5s 163ms/step - loss: 0.1522 - accuracy: 0.9419 - val_loss: 0.1201 - val_accuracy: 0.9478\n",
            "Epoch 55/100\n",
            "29/29 [==============================] - 3s 119ms/step - loss: 0.1518 - accuracy: 0.9420 - val_loss: 0.1187 - val_accuracy: 0.9487\n",
            "Epoch 56/100\n",
            "29/29 [==============================] - 3s 114ms/step - loss: 0.1512 - accuracy: 0.9415 - val_loss: 0.1183 - val_accuracy: 0.9486\n",
            "Epoch 57/100\n",
            "29/29 [==============================] - 4s 138ms/step - loss: 0.1506 - accuracy: 0.9419 - val_loss: 0.1170 - val_accuracy: 0.9493\n",
            "Epoch 58/100\n",
            "29/29 [==============================] - 5s 158ms/step - loss: 0.1510 - accuracy: 0.9421 - val_loss: 0.1169 - val_accuracy: 0.9488\n",
            "Epoch 59/100\n",
            "29/29 [==============================] - 3s 116ms/step - loss: 0.1503 - accuracy: 0.9424 - val_loss: 0.1166 - val_accuracy: 0.9488\n",
            "Epoch 60/100\n",
            "29/29 [==============================] - 3s 115ms/step - loss: 0.1496 - accuracy: 0.9425 - val_loss: 0.1157 - val_accuracy: 0.9493\n",
            "Epoch 61/100\n",
            "29/29 [==============================] - 5s 161ms/step - loss: 0.1486 - accuracy: 0.9428 - val_loss: 0.1147 - val_accuracy: 0.9496\n",
            "Epoch 62/100\n",
            "29/29 [==============================] - 4s 135ms/step - loss: 0.1489 - accuracy: 0.9426 - val_loss: 0.1139 - val_accuracy: 0.9498\n",
            "Epoch 63/100\n",
            "29/29 [==============================] - 3s 115ms/step - loss: 0.1486 - accuracy: 0.9426 - val_loss: 0.1138 - val_accuracy: 0.9496\n",
            "Epoch 64/100\n",
            "29/29 [==============================] - 3s 112ms/step - loss: 0.1482 - accuracy: 0.9426 - val_loss: 0.1136 - val_accuracy: 0.9497\n",
            "Epoch 65/100\n",
            "29/29 [==============================] - 5s 163ms/step - loss: 0.1475 - accuracy: 0.9434 - val_loss: 0.1131 - val_accuracy: 0.9497\n",
            "Epoch 66/100\n",
            "29/29 [==============================] - 4s 136ms/step - loss: 0.1464 - accuracy: 0.9432 - val_loss: 0.1124 - val_accuracy: 0.9499\n",
            "Epoch 67/100\n",
            "29/29 [==============================] - 3s 113ms/step - loss: 0.1464 - accuracy: 0.9434 - val_loss: 0.1116 - val_accuracy: 0.9502\n",
            "Epoch 68/100\n",
            "29/29 [==============================] - 3s 113ms/step - loss: 0.1464 - accuracy: 0.9434 - val_loss: 0.1112 - val_accuracy: 0.9502\n",
            "Epoch 69/100\n",
            "29/29 [==============================] - 5s 175ms/step - loss: 0.1457 - accuracy: 0.9438 - val_loss: 0.1101 - val_accuracy: 0.9506\n",
            "Epoch 70/100\n",
            "29/29 [==============================] - 4s 121ms/step - loss: 0.1454 - accuracy: 0.9438 - val_loss: 0.1101 - val_accuracy: 0.9505\n",
            "Epoch 71/100\n",
            "29/29 [==============================] - 4s 123ms/step - loss: 0.1450 - accuracy: 0.9436 - val_loss: 0.1092 - val_accuracy: 0.9509\n",
            "Epoch 72/100\n",
            "29/29 [==============================] - 3s 119ms/step - loss: 0.1453 - accuracy: 0.9435 - val_loss: 0.1087 - val_accuracy: 0.9511\n",
            "Epoch 73/100\n",
            "29/29 [==============================] - 5s 184ms/step - loss: 0.1444 - accuracy: 0.9435 - val_loss: 0.1085 - val_accuracy: 0.9509\n",
            "Epoch 74/100\n",
            "29/29 [==============================] - 3s 117ms/step - loss: 0.1443 - accuracy: 0.9438 - val_loss: 0.1079 - val_accuracy: 0.9511\n",
            "Epoch 75/100\n",
            "29/29 [==============================] - 3s 114ms/step - loss: 0.1439 - accuracy: 0.9441 - val_loss: 0.1070 - val_accuracy: 0.9514\n",
            "Epoch 76/100\n",
            "29/29 [==============================] - 4s 130ms/step - loss: 0.1440 - accuracy: 0.9442 - val_loss: 0.1068 - val_accuracy: 0.9514\n",
            "Epoch 77/100\n",
            "29/29 [==============================] - 5s 170ms/step - loss: 0.1431 - accuracy: 0.9446 - val_loss: 0.1062 - val_accuracy: 0.9516\n",
            "Epoch 78/100\n",
            "29/29 [==============================] - 3s 113ms/step - loss: 0.1420 - accuracy: 0.9444 - val_loss: 0.1055 - val_accuracy: 0.9518\n",
            "Epoch 79/100\n",
            "29/29 [==============================] - 3s 121ms/step - loss: 0.1414 - accuracy: 0.9451 - val_loss: 0.1046 - val_accuracy: 0.9528\n",
            "Epoch 80/100\n",
            "29/29 [==============================] - 4s 135ms/step - loss: 0.1417 - accuracy: 0.9446 - val_loss: 0.1038 - val_accuracy: 0.9543\n",
            "Epoch 81/100\n",
            "29/29 [==============================] - 5s 155ms/step - loss: 0.1424 - accuracy: 0.9442 - val_loss: 0.1039 - val_accuracy: 0.9528\n",
            "Epoch 82/100\n",
            "29/29 [==============================] - 3s 113ms/step - loss: 0.1416 - accuracy: 0.9445 - val_loss: 0.1033 - val_accuracy: 0.9541\n",
            "Epoch 83/100\n",
            "29/29 [==============================] - 3s 114ms/step - loss: 0.1412 - accuracy: 0.9445 - val_loss: 0.1031 - val_accuracy: 0.9533\n",
            "Epoch 84/100\n",
            "29/29 [==============================] - 4s 153ms/step - loss: 0.1408 - accuracy: 0.9446 - val_loss: 0.1030 - val_accuracy: 0.9532\n",
            "Epoch 85/100\n",
            "29/29 [==============================] - 5s 162ms/step - loss: 0.1413 - accuracy: 0.9450 - val_loss: 0.1026 - val_accuracy: 0.9541\n",
            "Epoch 86/100\n",
            "29/29 [==============================] - 3s 110ms/step - loss: 0.1408 - accuracy: 0.9449 - val_loss: 0.1019 - val_accuracy: 0.9549\n",
            "Epoch 87/100\n",
            "29/29 [==============================] - 3s 120ms/step - loss: 0.1400 - accuracy: 0.9451 - val_loss: 0.1017 - val_accuracy: 0.9542\n",
            "Epoch 88/100\n",
            "29/29 [==============================] - 5s 159ms/step - loss: 0.1399 - accuracy: 0.9449 - val_loss: 0.1008 - val_accuracy: 0.9550\n",
            "Epoch 89/100\n",
            "29/29 [==============================] - 4s 136ms/step - loss: 0.1395 - accuracy: 0.9454 - val_loss: 0.1006 - val_accuracy: 0.9547\n",
            "Epoch 90/100\n",
            "29/29 [==============================] - 3s 112ms/step - loss: 0.1389 - accuracy: 0.9456 - val_loss: 0.1002 - val_accuracy: 0.9551\n",
            "Epoch 91/100\n",
            "29/29 [==============================] - 3s 112ms/step - loss: 0.1393 - accuracy: 0.9453 - val_loss: 0.0997 - val_accuracy: 0.9551\n",
            "Epoch 92/100\n",
            "29/29 [==============================] - 5s 169ms/step - loss: 0.1380 - accuracy: 0.9455 - val_loss: 0.0991 - val_accuracy: 0.9556\n",
            "Epoch 93/100\n",
            "29/29 [==============================] - 4s 127ms/step - loss: 0.1380 - accuracy: 0.9456 - val_loss: 0.0986 - val_accuracy: 0.9555\n",
            "Epoch 94/100\n",
            "29/29 [==============================] - 3s 119ms/step - loss: 0.1369 - accuracy: 0.9460 - val_loss: 0.0980 - val_accuracy: 0.9559\n",
            "Epoch 95/100\n",
            "29/29 [==============================] - 3s 110ms/step - loss: 0.1367 - accuracy: 0.9458 - val_loss: 0.0977 - val_accuracy: 0.9562\n",
            "Epoch 96/100\n",
            "29/29 [==============================] - 5s 175ms/step - loss: 0.1376 - accuracy: 0.9453 - val_loss: 0.0971 - val_accuracy: 0.9567\n",
            "Epoch 97/100\n",
            "29/29 [==============================] - 3s 114ms/step - loss: 0.1369 - accuracy: 0.9464 - val_loss: 0.0974 - val_accuracy: 0.9551\n",
            "Epoch 98/100\n",
            "29/29 [==============================] - 3s 110ms/step - loss: 0.1359 - accuracy: 0.9458 - val_loss: 0.0962 - val_accuracy: 0.9575\n",
            "Epoch 99/100\n",
            "29/29 [==============================] - 3s 112ms/step - loss: 0.1357 - accuracy: 0.9463 - val_loss: 0.0962 - val_accuracy: 0.9572\n",
            "Epoch 100/100\n",
            "29/29 [==============================] - 5s 176ms/step - loss: 0.1353 - accuracy: 0.9468 - val_loss: 0.0955 - val_accuracy: 0.9578\n"
          ]
        }
      ]
    },
    {
      "cell_type": "code",
      "source": [
        "# save Attention model and architecture to single file\n",
        "model1.save('Save_Model_Attention.h5')\n",
        "print(\"Saved model to disk\")\n",
        "# summarize model.\n",
        "model1.summary()"
      ],
      "metadata": {
        "colab": {
          "base_uri": "https://localhost:8080/"
        },
        "id": "sozuiMW5Ggkj",
        "outputId": "d1d31378-0007-4b5c-bf16-535f6bb43318"
      },
      "execution_count": 132,
      "outputs": [
        {
          "output_type": "stream",
          "name": "stdout",
          "text": [
            "Saved model to disk\n",
            "Model: \"sequential_2\"\n",
            "_________________________________________________________________\n",
            " Layer (type)                Output Shape              Param #   \n",
            "=================================================================\n",
            " lstm_4 (LSTM)               (None, 1, 32)             5888      \n",
            "                                                                 \n",
            " lstm_5 (LSTM)               (None, 1, 32)             8320      \n",
            "                                                                 \n",
            " attention_mechanism (attent  (None, 32)               33        \n",
            " ion_mechanism)                                                  \n",
            "                                                                 \n",
            " dense_2 (Dense)             (None, 1)                 33        \n",
            "                                                                 \n",
            "=================================================================\n",
            "Total params: 14,274\n",
            "Trainable params: 14,274\n",
            "Non-trainable params: 0\n",
            "_________________________________________________________________\n"
          ]
        }
      ]
    },
    {
      "cell_type": "markdown",
      "source": [
        "Model Evaluation 2 : LSTM with Mechanism Layer"
      ],
      "metadata": {
        "id": "Gk4s7McM0ZeF"
      }
    },
    {
      "cell_type": "code",
      "source": [
        "# LSTM model with attention mechanism layer evaluation\n",
        "_, acc_train1 = model1.evaluate(train_LSTM_X, train_LSTM_y, verbose=0)\n",
        "_, acc_test1 = model1.evaluate(val_LSTM_X, val_LSTM_y, verbose=0)\n",
        "print('Train: %.3f, Test: %.3f' % (acc_train1, acc_test1))"
      ],
      "metadata": {
        "colab": {
          "base_uri": "https://localhost:8080/"
        },
        "id": "t_aj71AGHL7K",
        "outputId": "388ecd8d-88b5-462a-d185-1b6ffb1c914f"
      },
      "execution_count": 133,
      "outputs": [
        {
          "output_type": "stream",
          "name": "stdout",
          "text": [
            "Train: 0.957, Test: 0.958\n"
          ]
        }
      ]
    },
    {
      "cell_type": "code",
      "source": [
        "# plot loss during training\n",
        "pyplot.subplot(211)\n",
        "pyplot.title('Loss')\n",
        "pyplot.plot(train_model1.history['loss'], label='train')\n",
        "pyplot.plot(train_model1.history['val_loss'], label='test')\n",
        "pyplot.legend()\n",
        "# plot accuracy during training\n",
        "pyplot.subplot(212)\n",
        "pyplot.title('Accuracy')\n",
        "pyplot.plot(train_model1.history['accuracy'], label='train')\n",
        "pyplot.plot(train_model1.history['val_accuracy'], label='test')\n",
        "pyplot.legend()\n",
        "pyplot.show()"
      ],
      "metadata": {
        "colab": {
          "base_uri": "https://localhost:8080/",
          "height": 452
        },
        "id": "cOFiu9rs0mpb",
        "outputId": "b9a63b37-78a9-40ca-8c05-57da1085c2fd"
      },
      "execution_count": 139,
      "outputs": [
        {
          "output_type": "display_data",
          "data": {
            "text/plain": [
              "<Figure size 640x480 with 2 Axes>"
            ],
            "image/png": "[encoded data removed]"
          },
          "metadata": {}
        }
      ]
    },
    {
      "cell_type": "code",
      "source": [
        "# predict probabilities for test set\n",
        "yt_probs1 = model1.predict(val_LSTM_X, verbose=0)\n",
        "# reduce to 1d array\n",
        "yt_probs1 = yt_probs1[:, 0]"
      ],
      "metadata": {
        "id": "uyQ4PwN6HMUa"
      },
      "execution_count": 134,
      "outputs": []
    },
    {
      "cell_type": "code",
      "source": [
        "# Set threshold for decision boundary\n",
        "threshold = 0.5\n",
        "\n",
        "# Convert predicted probabilities to class labels using the threshold\n",
        "yt_predictions1 = (yt_probs1 > threshold).astype(int)\n",
        "\n",
        "# Print the predicted class labels for the first ten test samples\n",
        "print(yt_predictions1[:10])"
      ],
      "metadata": {
        "colab": {
          "base_uri": "https://localhost:8080/"
        },
        "id": "ExcRTr1PHMbl",
        "outputId": "9a0ba0d4-e64c-440c-ac56-81debfc16d8f"
      },
      "execution_count": 135,
      "outputs": [
        {
          "output_type": "stream",
          "name": "stdout",
          "text": [
            "[0 0 0 0 1 1 1 1 0 0]\n"
          ]
        }
      ]
    },
    {
      "cell_type": "code",
      "source": [
        "# Model evaluation metrics for LSTM with attention mechanism layer\n",
        "\n",
        "\n",
        "# accuracy: (tp + tn) / (p + n)\n",
        "accuracy = accuracy_score(val_LSTM_y, yt_predictions1)\n",
        "print('Accuracy: %f' % accuracy)\n",
        "# precision tp / (tp + fp)\n",
        "precision = precision_score(val_LSTM_y, yt_predictions1)\n",
        "print('Precision: %f' % precision)\n",
        "# recall: tp / (tp + fn)\n",
        "recall = recall_score(val_LSTM_y, yt_predictions1)\n",
        "print('Recall: %f' % recall)"
      ],
      "metadata": {
        "colab": {
          "base_uri": "https://localhost:8080/"
        },
        "id": "DKjmyhrvHMhB",
        "outputId": "049deae4-1924-4935-8130-3fe51c792ac5"
      },
      "execution_count": 136,
      "outputs": [
        {
          "output_type": "stream",
          "name": "stdout",
          "text": [
            "Accuracy: 0.957821\n",
            "Precision: 0.992334\n",
            "Recall: 0.923006\n"
          ]
        }
      ]
    },
    {
      "cell_type": "code",
      "source": [
        "mt1 = confusion_matrix(y_true=val_LSTM_y, y_pred=yt_predictions1)"
      ],
      "metadata": {
        "id": "LvtxmrHKHYQe"
      },
      "execution_count": 137,
      "outputs": []
    },
    {
      "cell_type": "code",
      "source": [
        "confusion_matrix_graph(mt=mt1, classes=labels, title='LSTM-Attention', normalize=False)"
      ],
      "metadata": {
        "colab": {
          "base_uri": "https://localhost:8080/",
          "height": 557
        },
        "id": "pMhD_MHJHYzv",
        "outputId": "490226cc-d74c-4d87-99db-0ac9275e73b4"
      },
      "execution_count": 138,
      "outputs": [
        {
          "output_type": "stream",
          "name": "stdout",
          "text": [
            "Confusion matrix, without normalization\n",
            "[[35585   257]\n",
            " [ 2775 33267]]\n"
          ]
        },
        {
          "output_type": "display_data",
          "data": {
            "text/plain": [
              "<Figure size 640x480 with 2 Axes>"
            ],
            "image/png": "[encoded data removed]"
          },
          "metadata": {}
        }
      ]
    }
  ]
}