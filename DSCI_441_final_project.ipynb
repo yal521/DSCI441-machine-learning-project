{
  "nbformat": 4,
  "nbformat_minor": 0,
  "metadata": {
    "colab": {
      "provenance": [],
      "mount_file_id": "1seOicWCcnirqOztYKxvMEo_T6E-HSXJS",
      "authorship_tag": "ABX9TyPtud5KjpWOy0jjROmkKBQ0",
      "include_colab_link": true
    },
    "kernelspec": {
      "name": "python3",
      "display_name": "Python 3"
    },
    "language_info": {
      "name": "python"
    }
  },
  "cells": [
    {
      "cell_type": "markdown",
      "metadata": {
        "id": "view-in-github",
        "colab_type": "text"
      },
      "source": [
        "<a href=\"https://colab.research.google.com/github/yal521/DSCI441-machine-learning-project/blob/main/DSCI_441_final_project.ipynb\" target=\"_parent\"><img src=\"https://colab.research.google.com/assets/colab-badge.svg\" alt=\"Open In Colab\"/></a>"
      ]
    },
    {
      "cell_type": "code",
      "source": [
        "# Import libraries\n",
        "import numpy as np\n",
        "from numpy import where\n",
        "import pandas as pd\n",
        "from pandas import Series\n",
        "import matplotlib.pyplot as plt\n",
        "from collections import Counter\n",
        "import sklearn.metrics as metrique\n",
        "from numpy import loadtxt\n",
        "from keras.models import load_model\n",
        "from imblearn.over_sampling import SMOTE\n",
        "from matplotlib import pyplot\n",
        "from numpy import where\n",
        "from sklearn.model_selection import train_test_split\n",
        "from sklearn.preprocessing import StandardScaler, MinMaxScaler\n",
        "from keras.utils import np_utils\n",
        "from keras.callbacks import EarlyStopping\n",
        "from sklearn.metrics import accuracy_score\n",
        "from keras.callbacks import ModelCheckpoint\n",
        "from sklearn.metrics import classification_report, confusion_matrix\n",
        "from keras.backend import cast\n",
        "from keras.utils import np_utils\n",
        "from keras.models import Sequential\n",
        "from keras import backend as K, regularizers, Model, metrics\n",
        "from keras.layers import RepeatVector, Dense, Activation, Lambda\n",
        "from keras.layers import LSTM, Dense, Embedding, Dropout,Input, Attention, Layer, Concatenate, Permute, Dot, Multiply, Flatten\n"
      ],
      "metadata": {
        "id": "yqWNNoxo3KHJ"
      },
      "execution_count": 1,
      "outputs": []
    },
    {
      "cell_type": "markdown",
      "source": [
        "Load and read the data set"
      ],
      "metadata": {
        "id": "CjLOwIZjNu3V"
      }
    },
    {
      "cell_type": "code",
      "source": [
        "# Load the data and read the first few lines of data\n",
        "Credit_data = pd.read_csv(\"/content/drive/MyDrive/Yang_DSCI441_Final_Project/dataset1_creditcard.csv\")\n",
        "Credit_data.head()"
      ],
      "metadata": {
        "colab": {
          "base_uri": "https://localhost:8080/",
          "height": 297
        },
        "id": "q48TnHTON4Rn",
        "outputId": "1ef8a2a0-65d9-4a1b-9a4c-632335cad14d"
      },
      "execution_count": 2,
      "outputs": [
        {
          "output_type": "execute_result",
          "data": {
            "text/plain": [
              "   Time        V1        V2        V3        V4        V5        V6        V7  \\\n",
              "0   0.0 -1.359807 -0.072781  2.536347  1.378155 -0.338321  0.462388  0.239599   \n",
              "1   0.0  1.191857  0.266151  0.166480  0.448154  0.060018 -0.082361 -0.078803   \n",
              "2   1.0 -1.358354 -1.340163  1.773209  0.379780 -0.503198  1.800499  0.791461   \n",
              "3   1.0 -0.966272 -0.185226  1.792993 -0.863291 -0.010309  1.247203  0.237609   \n",
              "4   2.0 -1.158233  0.877737  1.548718  0.403034 -0.407193  0.095921  0.592941   \n",
              "\n",
              "         V8        V9  ...       V21       V22       V23       V24       V25  \\\n",
              "0  0.098698  0.363787  ... -0.018307  0.277838 -0.110474  0.066928  0.128539   \n",
              "1  0.085102 -0.255425  ... -0.225775 -0.638672  0.101288 -0.339846  0.167170   \n",
              "2  0.247676 -1.514654  ...  0.247998  0.771679  0.909412 -0.689281 -0.327642   \n",
              "3  0.377436 -1.387024  ... -0.108300  0.005274 -0.190321 -1.175575  0.647376   \n",
              "4 -0.270533  0.817739  ... -0.009431  0.798278 -0.137458  0.141267 -0.206010   \n",
              "\n",
              "        V26       V27       V28  Amount  Class  \n",
              "0 -0.189115  0.133558 -0.021053  149.62      0  \n",
              "1  0.125895 -0.008983  0.014724    2.69      0  \n",
              "2 -0.139097 -0.055353 -0.059752  378.66      0  \n",
              "3 -0.221929  0.062723  0.061458  123.50      0  \n",
              "4  0.502292  0.219422  0.215153   69.99      0  \n",
              "\n",
              "[5 rows x 31 columns]"
            ],
            "text/html": [
              "\n",
              "  <div id=\"df-9e1f1681-893a-4298-bb34-c8d25c67cc78\">\n",
              "    <div class=\"colab-df-container\">\n",
              "      <div>\n",
              "<style scoped>\n",
              "    .dataframe tbody tr th:only-of-type {\n",
              "        vertical-align: middle;\n",
              "    }\n",
              "\n",
              "    .dataframe tbody tr th {\n",
              "        vertical-align: top;\n",
              "    }\n",
              "\n",
              "    .dataframe thead th {\n",
              "        text-align: right;\n",
              "    }\n",
              "</style>\n",
              "<table border=\"1\" class=\"dataframe\">\n",
              "  <thead>\n",
              "    <tr style=\"text-align: right;\">\n",
              "      <th></th>\n",
              "      <th>Time</th>\n",
              "      <th>V1</th>\n",
              "      <th>V2</th>\n",
              "      <th>V3</th>\n",
              "      <th>V4</th>\n",
              "      <th>V5</th>\n",
              "      <th>V6</th>\n",
              "      <th>V7</th>\n",
              "      <th>V8</th>\n",
              "      <th>V9</th>\n",
              "      <th>...</th>\n",
              "      <th>V21</th>\n",
              "      <th>V22</th>\n",
              "      <th>V23</th>\n",
              "      <th>V24</th>\n",
              "      <th>V25</th>\n",
              "      <th>V26</th>\n",
              "      <th>V27</th>\n",
              "      <th>V28</th>\n",
              "      <th>Amount</th>\n",
              "      <th>Class</th>\n",
              "    </tr>\n",
              "  </thead>\n",
              "  <tbody>\n",
              "    <tr>\n",
              "      <th>0</th>\n",
              "      <td>0.0</td>\n",
              "      <td>-1.359807</td>\n",
              "      <td>-0.072781</td>\n",
              "      <td>2.536347</td>\n",
              "      <td>1.378155</td>\n",
              "      <td>-0.338321</td>\n",
              "      <td>0.462388</td>\n",
              "      <td>0.239599</td>\n",
              "      <td>0.098698</td>\n",
              "      <td>0.363787</td>\n",
              "      <td>...</td>\n",
              "      <td>-0.018307</td>\n",
              "      <td>0.277838</td>\n",
              "      <td>-0.110474</td>\n",
              "      <td>0.066928</td>\n",
              "      <td>0.128539</td>\n",
              "      <td>-0.189115</td>\n",
              "      <td>0.133558</td>\n",
              "      <td>-0.021053</td>\n",
              "      <td>149.62</td>\n",
              "      <td>0</td>\n",
              "    </tr>\n",
              "    <tr>\n",
              "      <th>1</th>\n",
              "      <td>0.0</td>\n",
              "      <td>1.191857</td>\n",
              "      <td>0.266151</td>\n",
              "      <td>0.166480</td>\n",
              "      <td>0.448154</td>\n",
              "      <td>0.060018</td>\n",
              "      <td>-0.082361</td>\n",
              "      <td>-0.078803</td>\n",
              "      <td>0.085102</td>\n",
              "      <td>-0.255425</td>\n",
              "      <td>...</td>\n",
              "      <td>-0.225775</td>\n",
              "      <td>-0.638672</td>\n",
              "      <td>0.101288</td>\n",
              "      <td>-0.339846</td>\n",
              "      <td>0.167170</td>\n",
              "      <td>0.125895</td>\n",
              "      <td>-0.008983</td>\n",
              "      <td>0.014724</td>\n",
              "      <td>2.69</td>\n",
              "      <td>0</td>\n",
              "    </tr>\n",
              "    <tr>\n",
              "      <th>2</th>\n",
              "      <td>1.0</td>\n",
              "      <td>-1.358354</td>\n",
              "      <td>-1.340163</td>\n",
              "      <td>1.773209</td>\n",
              "      <td>0.379780</td>\n",
              "      <td>-0.503198</td>\n",
              "      <td>1.800499</td>\n",
              "      <td>0.791461</td>\n",
              "      <td>0.247676</td>\n",
              "      <td>-1.514654</td>\n",
              "      <td>...</td>\n",
              "      <td>0.247998</td>\n",
              "      <td>0.771679</td>\n",
              "      <td>0.909412</td>\n",
              "      <td>-0.689281</td>\n",
              "      <td>-0.327642</td>\n",
              "      <td>-0.139097</td>\n",
              "      <td>-0.055353</td>\n",
              "      <td>-0.059752</td>\n",
              "      <td>378.66</td>\n",
              "      <td>0</td>\n",
              "    </tr>\n",
              "    <tr>\n",
              "      <th>3</th>\n",
              "      <td>1.0</td>\n",
              "      <td>-0.966272</td>\n",
              "      <td>-0.185226</td>\n",
              "      <td>1.792993</td>\n",
              "      <td>-0.863291</td>\n",
              "      <td>-0.010309</td>\n",
              "      <td>1.247203</td>\n",
              "      <td>0.237609</td>\n",
              "      <td>0.377436</td>\n",
              "      <td>-1.387024</td>\n",
              "      <td>...</td>\n",
              "      <td>-0.108300</td>\n",
              "      <td>0.005274</td>\n",
              "      <td>-0.190321</td>\n",
              "      <td>-1.175575</td>\n",
              "      <td>0.647376</td>\n",
              "      <td>-0.221929</td>\n",
              "      <td>0.062723</td>\n",
              "      <td>0.061458</td>\n",
              "      <td>123.50</td>\n",
              "      <td>0</td>\n",
              "    </tr>\n",
              "    <tr>\n",
              "      <th>4</th>\n",
              "      <td>2.0</td>\n",
              "      <td>-1.158233</td>\n",
              "      <td>0.877737</td>\n",
              "      <td>1.548718</td>\n",
              "      <td>0.403034</td>\n",
              "      <td>-0.407193</td>\n",
              "      <td>0.095921</td>\n",
              "      <td>0.592941</td>\n",
              "      <td>-0.270533</td>\n",
              "      <td>0.817739</td>\n",
              "      <td>...</td>\n",
              "      <td>-0.009431</td>\n",
              "      <td>0.798278</td>\n",
              "      <td>-0.137458</td>\n",
              "      <td>0.141267</td>\n",
              "      <td>-0.206010</td>\n",
              "      <td>0.502292</td>\n",
              "      <td>0.219422</td>\n",
              "      <td>0.215153</td>\n",
              "      <td>69.99</td>\n",
              "      <td>0</td>\n",
              "    </tr>\n",
              "  </tbody>\n",
              "</table>\n",
              "<p>5 rows × 31 columns</p>\n",
              "</div>\n",
              "      <button class=\"colab-df-convert\" onclick=\"convertToInteractive('df-9e1f1681-893a-4298-bb34-c8d25c67cc78')\"\n",
              "              title=\"Convert this dataframe to an interactive table.\"\n",
              "              style=\"display:none;\">\n",
              "        \n",
              "  <svg xmlns=\"http://www.w3.org/2000/svg\" height=\"24px\"viewBox=\"0 0 24 24\"\n",
              "       width=\"24px\">\n",
              "    <path d=\"M0 0h24v24H0V0z\" fill=\"none\"/>\n",
              "    <path d=\"M18.56 5.44l.94 2.06.94-2.06 2.06-.94-2.06-.94-.94-2.06-.94 2.06-2.06.94zm-11 1L8.5 8.5l.94-2.06 2.06-.94-2.06-.94L8.5 2.5l-.94 2.06-2.06.94zm10 10l.94 2.06.94-2.06 2.06-.94-2.06-.94-.94-2.06-.94 2.06-2.06.94z\"/><path d=\"M17.41 7.96l-1.37-1.37c-.4-.4-.92-.59-1.43-.59-.52 0-1.04.2-1.43.59L10.3 9.45l-7.72 7.72c-.78.78-.78 2.05 0 2.83L4 21.41c.39.39.9.59 1.41.59.51 0 1.02-.2 1.41-.59l7.78-7.78 2.81-2.81c.8-.78.8-2.07 0-2.86zM5.41 20L4 18.59l7.72-7.72 1.47 1.35L5.41 20z\"/>\n",
              "  </svg>\n",
              "      </button>\n",
              "      \n",
              "  <style>\n",
              "    .colab-df-container {\n",
              "      display:flex;\n",
              "      flex-wrap:wrap;\n",
              "      gap: 12px;\n",
              "    }\n",
              "\n",
              "    .colab-df-convert {\n",
              "      background-color: #E8F0FE;\n",
              "      border: none;\n",
              "      border-radius: 50%;\n",
              "      cursor: pointer;\n",
              "      display: none;\n",
              "      fill: #1967D2;\n",
              "      height: 32px;\n",
              "      padding: 0 0 0 0;\n",
              "      width: 32px;\n",
              "    }\n",
              "\n",
              "    .colab-df-convert:hover {\n",
              "      background-color: #E2EBFA;\n",
              "      box-shadow: 0px 1px 2px rgba(60, 64, 67, 0.3), 0px 1px 3px 1px rgba(60, 64, 67, 0.15);\n",
              "      fill: #174EA6;\n",
              "    }\n",
              "\n",
              "    [theme=dark] .colab-df-convert {\n",
              "      background-color: #3B4455;\n",
              "      fill: #D2E3FC;\n",
              "    }\n",
              "\n",
              "    [theme=dark] .colab-df-convert:hover {\n",
              "      background-color: #434B5C;\n",
              "      box-shadow: 0px 1px 3px 1px rgba(0, 0, 0, 0.15);\n",
              "      filter: drop-shadow(0px 1px 2px rgba(0, 0, 0, 0.3));\n",
              "      fill: #FFFFFF;\n",
              "    }\n",
              "  </style>\n",
              "\n",
              "      <script>\n",
              "        const buttonEl =\n",
              "          document.querySelector('#df-9e1f1681-893a-4298-bb34-c8d25c67cc78 button.colab-df-convert');\n",
              "        buttonEl.style.display =\n",
              "          google.colab.kernel.accessAllowed ? 'block' : 'none';\n",
              "\n",
              "        async function convertToInteractive(key) {\n",
              "          const element = document.querySelector('#df-9e1f1681-893a-4298-bb34-c8d25c67cc78');\n",
              "          const dataTable =\n",
              "            await google.colab.kernel.invokeFunction('convertToInteractive',\n",
              "                                                     [key], {});\n",
              "          if (!dataTable) return;\n",
              "\n",
              "          const docLinkHtml = 'Like what you see? Visit the ' +\n",
              "            '<a target=\"_blank\" href=https://colab.research.google.com/notebooks/data_table.ipynb>data table notebook</a>'\n",
              "            + ' to learn more about interactive tables.';\n",
              "          element.innerHTML = '';\n",
              "          dataTable['output_type'] = 'display_data';\n",
              "          await google.colab.output.renderOutput(dataTable, element);\n",
              "          const docLink = document.createElement('div');\n",
              "          docLink.innerHTML = docLinkHtml;\n",
              "          element.appendChild(docLink);\n",
              "        }\n",
              "      </script>\n",
              "    </div>\n",
              "  </div>\n",
              "  "
            ]
          },
          "metadata": {},
          "execution_count": 2
        }
      ]
    },
    {
      "cell_type": "markdown",
      "source": [
        "Data Preprocessing"
      ],
      "metadata": {
        "id": "E9RxP9sUPqYP"
      }
    },
    {
      "cell_type": "code",
      "source": [
        "Credit_data.dtypes"
      ],
      "metadata": {
        "colab": {
          "base_uri": "https://localhost:8080/"
        },
        "id": "oOg12NmGQWNc",
        "outputId": "618fb71a-473c-4c2a-bc4e-7b0453463999"
      },
      "execution_count": 3,
      "outputs": [
        {
          "output_type": "execute_result",
          "data": {
            "text/plain": [
              "Time      float64\n",
              "V1        float64\n",
              "V2        float64\n",
              "V3        float64\n",
              "V4        float64\n",
              "V5        float64\n",
              "V6        float64\n",
              "V7        float64\n",
              "V8        float64\n",
              "V9        float64\n",
              "V10       float64\n",
              "V11       float64\n",
              "V12       float64\n",
              "V13       float64\n",
              "V14       float64\n",
              "V15       float64\n",
              "V16       float64\n",
              "V17       float64\n",
              "V18       float64\n",
              "V19       float64\n",
              "V20       float64\n",
              "V21       float64\n",
              "V22       float64\n",
              "V23       float64\n",
              "V24       float64\n",
              "V25       float64\n",
              "V26       float64\n",
              "V27       float64\n",
              "V28       float64\n",
              "Amount    float64\n",
              "Class       int64\n",
              "dtype: object"
            ]
          },
          "metadata": {},
          "execution_count": 3
        }
      ]
    },
    {
      "cell_type": "code",
      "source": [
        "print(Credit_data.isnull().sum())\n",
        "\n",
        "# this is a pretty clean dataset without missing values"
      ],
      "metadata": {
        "colab": {
          "base_uri": "https://localhost:8080/"
        },
        "id": "UnsyQ557PsZO",
        "outputId": "0e2c9ae9-c7a2-4502-8896-8f02ab1ceeaf"
      },
      "execution_count": 4,
      "outputs": [
        {
          "output_type": "stream",
          "name": "stdout",
          "text": [
            "Time      0\n",
            "V1        0\n",
            "V2        0\n",
            "V3        0\n",
            "V4        0\n",
            "V5        0\n",
            "V6        0\n",
            "V7        0\n",
            "V8        0\n",
            "V9        0\n",
            "V10       0\n",
            "V11       0\n",
            "V12       0\n",
            "V13       0\n",
            "V14       0\n",
            "V15       0\n",
            "V16       0\n",
            "V17       0\n",
            "V18       0\n",
            "V19       0\n",
            "V20       0\n",
            "V21       0\n",
            "V22       0\n",
            "V23       0\n",
            "V24       0\n",
            "V25       0\n",
            "V26       0\n",
            "V27       0\n",
            "V28       0\n",
            "Amount    0\n",
            "Class     0\n",
            "dtype: int64\n"
          ]
        }
      ]
    },
    {
      "cell_type": "markdown",
      "source": [
        "Feature Selection\n",
        "\n",
        "There is another code file using particle swarm optimization to select optimal features. It takes long time to get the results so that I put codes of feature selection into a seperate code file. I will use the results from feature selection code to build the model and assess its performance "
      ],
      "metadata": {
        "id": "2qGWHjwlRHmr"
      }
    },
    {
      "cell_type": "code",
      "source": [
        "data = pd.read_csv(\"/content/drive/MyDrive/Yang_DSCI441_Final_Project/dataset1_creditcard.csv\", na_filter=True)\n",
        "col_del = ['Time' ,'V1', 'V2', 'V3','V6', 'V7', 'V8', 'V9','V10','V11','V12','V13','V14','V15','V17','V19','V20','V21', 'V22', 'V23', 'V24', 'V25', 'V26', 'V27', 'V28','Amount']"
      ],
      "metadata": {
        "id": "JUynIq6ixWiv"
      },
      "execution_count": 5,
      "outputs": []
    },
    {
      "cell_type": "code",
      "source": [
        "col_keep = data.drop(col_del,axis =1)\n",
        "col_keep.head()"
      ],
      "metadata": {
        "colab": {
          "base_uri": "https://localhost:8080/",
          "height": 204
        },
        "id": "6_nlwSj2xfAe",
        "outputId": "f1868e52-d047-4708-89c3-98552c8c1950"
      },
      "execution_count": 6,
      "outputs": [
        {
          "output_type": "execute_result",
          "data": {
            "text/plain": [
              "         V4        V5       V16       V18  Class\n",
              "0  1.378155 -0.338321 -0.470401  0.025791      0\n",
              "1  0.448154  0.060018  0.463917 -0.183361      0\n",
              "2  0.379780 -0.503198 -2.890083 -0.121359      0\n",
              "3 -0.863291 -0.010309 -1.059647  1.965775      0\n",
              "4  0.403034 -0.407193 -0.451449 -0.038195      0"
            ],
            "text/html": [
              "\n",
              "  <div id=\"df-45ade0f6-cf88-4e27-8456-d4a9e54fb6d6\">\n",
              "    <div class=\"colab-df-container\">\n",
              "      <div>\n",
              "<style scoped>\n",
              "    .dataframe tbody tr th:only-of-type {\n",
              "        vertical-align: middle;\n",
              "    }\n",
              "\n",
              "    .dataframe tbody tr th {\n",
              "        vertical-align: top;\n",
              "    }\n",
              "\n",
              "    .dataframe thead th {\n",
              "        text-align: right;\n",
              "    }\n",
              "</style>\n",
              "<table border=\"1\" class=\"dataframe\">\n",
              "  <thead>\n",
              "    <tr style=\"text-align: right;\">\n",
              "      <th></th>\n",
              "      <th>V4</th>\n",
              "      <th>V5</th>\n",
              "      <th>V16</th>\n",
              "      <th>V18</th>\n",
              "      <th>Class</th>\n",
              "    </tr>\n",
              "  </thead>\n",
              "  <tbody>\n",
              "    <tr>\n",
              "      <th>0</th>\n",
              "      <td>1.378155</td>\n",
              "      <td>-0.338321</td>\n",
              "      <td>-0.470401</td>\n",
              "      <td>0.025791</td>\n",
              "      <td>0</td>\n",
              "    </tr>\n",
              "    <tr>\n",
              "      <th>1</th>\n",
              "      <td>0.448154</td>\n",
              "      <td>0.060018</td>\n",
              "      <td>0.463917</td>\n",
              "      <td>-0.183361</td>\n",
              "      <td>0</td>\n",
              "    </tr>\n",
              "    <tr>\n",
              "      <th>2</th>\n",
              "      <td>0.379780</td>\n",
              "      <td>-0.503198</td>\n",
              "      <td>-2.890083</td>\n",
              "      <td>-0.121359</td>\n",
              "      <td>0</td>\n",
              "    </tr>\n",
              "    <tr>\n",
              "      <th>3</th>\n",
              "      <td>-0.863291</td>\n",
              "      <td>-0.010309</td>\n",
              "      <td>-1.059647</td>\n",
              "      <td>1.965775</td>\n",
              "      <td>0</td>\n",
              "    </tr>\n",
              "    <tr>\n",
              "      <th>4</th>\n",
              "      <td>0.403034</td>\n",
              "      <td>-0.407193</td>\n",
              "      <td>-0.451449</td>\n",
              "      <td>-0.038195</td>\n",
              "      <td>0</td>\n",
              "    </tr>\n",
              "  </tbody>\n",
              "</table>\n",
              "</div>\n",
              "      <button class=\"colab-df-convert\" onclick=\"convertToInteractive('df-45ade0f6-cf88-4e27-8456-d4a9e54fb6d6')\"\n",
              "              title=\"Convert this dataframe to an interactive table.\"\n",
              "              style=\"display:none;\">\n",
              "        \n",
              "  <svg xmlns=\"http://www.w3.org/2000/svg\" height=\"24px\"viewBox=\"0 0 24 24\"\n",
              "       width=\"24px\">\n",
              "    <path d=\"M0 0h24v24H0V0z\" fill=\"none\"/>\n",
              "    <path d=\"M18.56 5.44l.94 2.06.94-2.06 2.06-.94-2.06-.94-.94-2.06-.94 2.06-2.06.94zm-11 1L8.5 8.5l.94-2.06 2.06-.94-2.06-.94L8.5 2.5l-.94 2.06-2.06.94zm10 10l.94 2.06.94-2.06 2.06-.94-2.06-.94-.94-2.06-.94 2.06-2.06.94z\"/><path d=\"M17.41 7.96l-1.37-1.37c-.4-.4-.92-.59-1.43-.59-.52 0-1.04.2-1.43.59L10.3 9.45l-7.72 7.72c-.78.78-.78 2.05 0 2.83L4 21.41c.39.39.9.59 1.41.59.51 0 1.02-.2 1.41-.59l7.78-7.78 2.81-2.81c.8-.78.8-2.07 0-2.86zM5.41 20L4 18.59l7.72-7.72 1.47 1.35L5.41 20z\"/>\n",
              "  </svg>\n",
              "      </button>\n",
              "      \n",
              "  <style>\n",
              "    .colab-df-container {\n",
              "      display:flex;\n",
              "      flex-wrap:wrap;\n",
              "      gap: 12px;\n",
              "    }\n",
              "\n",
              "    .colab-df-convert {\n",
              "      background-color: #E8F0FE;\n",
              "      border: none;\n",
              "      border-radius: 50%;\n",
              "      cursor: pointer;\n",
              "      display: none;\n",
              "      fill: #1967D2;\n",
              "      height: 32px;\n",
              "      padding: 0 0 0 0;\n",
              "      width: 32px;\n",
              "    }\n",
              "\n",
              "    .colab-df-convert:hover {\n",
              "      background-color: #E2EBFA;\n",
              "      box-shadow: 0px 1px 2px rgba(60, 64, 67, 0.3), 0px 1px 3px 1px rgba(60, 64, 67, 0.15);\n",
              "      fill: #174EA6;\n",
              "    }\n",
              "\n",
              "    [theme=dark] .colab-df-convert {\n",
              "      background-color: #3B4455;\n",
              "      fill: #D2E3FC;\n",
              "    }\n",
              "\n",
              "    [theme=dark] .colab-df-convert:hover {\n",
              "      background-color: #434B5C;\n",
              "      box-shadow: 0px 1px 3px 1px rgba(0, 0, 0, 0.15);\n",
              "      filter: drop-shadow(0px 1px 2px rgba(0, 0, 0, 0.3));\n",
              "      fill: #FFFFFF;\n",
              "    }\n",
              "  </style>\n",
              "\n",
              "      <script>\n",
              "        const buttonEl =\n",
              "          document.querySelector('#df-45ade0f6-cf88-4e27-8456-d4a9e54fb6d6 button.colab-df-convert');\n",
              "        buttonEl.style.display =\n",
              "          google.colab.kernel.accessAllowed ? 'block' : 'none';\n",
              "\n",
              "        async function convertToInteractive(key) {\n",
              "          const element = document.querySelector('#df-45ade0f6-cf88-4e27-8456-d4a9e54fb6d6');\n",
              "          const dataTable =\n",
              "            await google.colab.kernel.invokeFunction('convertToInteractive',\n",
              "                                                     [key], {});\n",
              "          if (!dataTable) return;\n",
              "\n",
              "          const docLinkHtml = 'Like what you see? Visit the ' +\n",
              "            '<a target=\"_blank\" href=https://colab.research.google.com/notebooks/data_table.ipynb>data table notebook</a>'\n",
              "            + ' to learn more about interactive tables.';\n",
              "          element.innerHTML = '';\n",
              "          dataTable['output_type'] = 'display_data';\n",
              "          await google.colab.output.renderOutput(dataTable, element);\n",
              "          const docLink = document.createElement('div');\n",
              "          docLink.innerHTML = docLinkHtml;\n",
              "          element.appendChild(docLink);\n",
              "        }\n",
              "      </script>\n",
              "    </div>\n",
              "  </div>\n",
              "  "
            ]
          },
          "metadata": {},
          "execution_count": 6
        }
      ]
    },
    {
      "cell_type": "code",
      "source": [
        "col_keep.shape"
      ],
      "metadata": {
        "colab": {
          "base_uri": "https://localhost:8080/"
        },
        "id": "MPtll2ZLxtXb",
        "outputId": "03936564-4532-43f7-9b43-a0404646c16e"
      },
      "execution_count": 7,
      "outputs": [
        {
          "output_type": "execute_result",
          "data": {
            "text/plain": [
              "(284807, 5)"
            ]
          },
          "metadata": {},
          "execution_count": 7
        }
      ]
    },
    {
      "cell_type": "code",
      "source": [
        "# Dividing the col_keep data into two parts: observation part and label part\n",
        "TR = col_keep.drop(['Class'], axis = 'columns')\n",
        "Label = col_keep['Class']"
      ],
      "metadata": {
        "id": "Y9ZjbYoWxyVD"
      },
      "execution_count": 8,
      "outputs": []
    },
    {
      "cell_type": "code",
      "source": [
        "# Generate and plot imbalanced classification dataset\n",
        "# summarize class distribution\n",
        "counter_V = Counter(col_keep['Class'])\n",
        "print(counter_V)\n",
        "# scatter plot of examples by class label\n",
        "for label, _ in counter_V.items():\n",
        "\trow = where(col_keep['Class'] == label)[0]"
      ],
      "metadata": {
        "colab": {
          "base_uri": "https://localhost:8080/"
        },
        "id": "-Y8HCP9ZyEZp",
        "outputId": "1cf059f7-fdb8-47c7-e983-4cd16f82782d"
      },
      "execution_count": 9,
      "outputs": [
        {
          "output_type": "stream",
          "name": "stdout",
          "text": [
            "Counter({0: 284315, 1: 492})\n"
          ]
        }
      ]
    },
    {
      "cell_type": "code",
      "source": [
        "# dataset transformation\n",
        "oversple = SMOTE()\n",
        "X_rw, y = oversple.fit_resample(TR, col_keep['Class'])\n",
        "# summarize the new class distribution\n",
        "counter_V1 = Counter(y)\n",
        "#print(counter_V1)\n",
        "# scatter plot of examples by class label\n",
        "for label, _ in counter_V1.items():\n",
        "\trow1 = where(y == label)[0]"
      ],
      "metadata": {
        "id": "qDFGLSXly_my"
      },
      "execution_count": 10,
      "outputs": []
    },
    {
      "cell_type": "code",
      "source": [
        "# regularizing the data\n",
        "X_rw2 = StandardScaler().fit_transform(X_rw)\n",
        "X_rw2.shape"
      ],
      "metadata": {
        "colab": {
          "base_uri": "https://localhost:8080/"
        },
        "id": "5VK2eW9_zjts",
        "outputId": "21413ec4-c0ff-47b5-ac1a-41027d1a44c3"
      },
      "execution_count": 11,
      "outputs": [
        {
          "output_type": "execute_result",
          "data": {
            "text/plain": [
              "(568630, 4)"
            ]
          },
          "metadata": {},
          "execution_count": 11
        }
      ]
    },
    {
      "cell_type": "code",
      "source": [
        "X_train,X_test,y_train,y_test = train_test_split(X_rw2, y, test_size=0.2)\n",
        "X_train.shape"
      ],
      "metadata": {
        "colab": {
          "base_uri": "https://localhost:8080/"
        },
        "id": "0FWtFAyv2EVq",
        "outputId": "67614b58-7ea3-4d7b-b06a-8091041ac1bb"
      },
      "execution_count": 14,
      "outputs": [
        {
          "output_type": "execute_result",
          "data": {
            "text/plain": [
              "(454904, 4)"
            ]
          },
          "metadata": {},
          "execution_count": 14
        }
      ]
    },
    {
      "cell_type": "code",
      "source": [
        "X_test.shape"
      ],
      "metadata": {
        "colab": {
          "base_uri": "https://localhost:8080/"
        },
        "id": "VQ74pDNO2Xfs",
        "outputId": "eef8c8b5-1b13-4d80-f835-f940aa6bf15c"
      },
      "execution_count": 15,
      "outputs": [
        {
          "output_type": "execute_result",
          "data": {
            "text/plain": [
              "(113726, 4)"
            ]
          },
          "metadata": {},
          "execution_count": 15
        }
      ]
    },
    {
      "cell_type": "code",
      "source": [
        "# build the LSTM model\n",
        "np.random.seed(7)\n",
        "# train/test for transactions features\n",
        "train_LSTM_X=X_train\n",
        "val_LSTM_X=X_test\n",
        "\n",
        "# Reshape to 3D LSTM input[samples, timesteps, features]\n",
        "train_LSTM_X = train_LSTM_X.reshape((train_LSTM_X.shape[0], 1, train_LSTM_X.shape[1]))\n",
        "val_LSTM_X = val_LSTM_X.reshape((val_LSTM_X.shape[0], 1, val_LSTM_X.shape[1]))\n",
        "\n",
        "# train/test for labels\n",
        "train_LSTM_y=y_train\n",
        "val_LSTM_y=y_test"
      ],
      "metadata": {
        "id": "-3neosLS2t7w"
      },
      "execution_count": 16,
      "outputs": []
    },
    {
      "cell_type": "code",
      "source": [
        "# expected input data shape: (batch_size, timesteps, data_dim)\n",
        "model = Sequential()\n",
        "model.add(LSTM(32,dropout=0.3,recurrent_dropout=0.2,return_sequences=True,input_shape=(1, 4)))  # returns a sequence of vectors of dimension 32\n",
        "model.add(LSTM(32,dropout=0.3,recurrent_dropout=0.2,return_sequences=True))  # returns a sequence of vectors of dimension 32\n",
        "model.add(Dense(1, activation='sigmoid'))\n",
        "model.compile(loss='binary_crossentropy', optimizer='adam', metrics=['accuracy'])"
      ],
      "metadata": {
        "id": "Za6w0e0W3az4"
      },
      "execution_count": 17,
      "outputs": []
    },
    {
      "cell_type": "code",
      "source": [
        "train_model = model.fit(train_LSTM_X, train_LSTM_y, epochs = 100, batch_size = 10000, validation_data=(val_LSTM_X, val_LSTM_y))"
      ],
      "metadata": {
        "colab": {
          "base_uri": "https://localhost:8080/"
        },
        "id": "7K-B_ByJ6Fhm",
        "outputId": "7acf5202-e371-47d6-bcb3-bbe96eb3ebbf"
      },
      "execution_count": 18,
      "outputs": [
        {
          "output_type": "stream",
          "name": "stdout",
          "text": [
            "Epoch 1/100\n",
            "46/46 [==============================] - 16s 195ms/step - loss: 0.6668 - accuracy: 0.7570 - val_loss: 0.6147 - val_accuracy: 0.8451\n",
            "Epoch 2/100\n",
            "46/46 [==============================] - 6s 120ms/step - loss: 0.5490 - accuracy: 0.8321 - val_loss: 0.4596 - val_accuracy: 0.8543\n",
            "Epoch 3/100\n",
            "46/46 [==============================] - 7s 149ms/step - loss: 0.4230 - accuracy: 0.8427 - val_loss: 0.3494 - val_accuracy: 0.8764\n",
            "Epoch 4/100\n",
            "46/46 [==============================] - 6s 131ms/step - loss: 0.3529 - accuracy: 0.8526 - val_loss: 0.2866 - val_accuracy: 0.8801\n",
            "Epoch 5/100\n",
            "46/46 [==============================] - 6s 132ms/step - loss: 0.3170 - accuracy: 0.8640 - val_loss: 0.2571 - val_accuracy: 0.8938\n",
            "Epoch 6/100\n",
            "46/46 [==============================] - 7s 162ms/step - loss: 0.2971 - accuracy: 0.8756 - val_loss: 0.2444 - val_accuracy: 0.8954\n",
            "Epoch 7/100\n",
            "46/46 [==============================] - 6s 121ms/step - loss: 0.2848 - accuracy: 0.8832 - val_loss: 0.2378 - val_accuracy: 0.8978\n",
            "Epoch 8/100\n",
            "46/46 [==============================] - 8s 168ms/step - loss: 0.2749 - accuracy: 0.8876 - val_loss: 0.2327 - val_accuracy: 0.8999\n",
            "Epoch 9/100\n",
            "46/46 [==============================] - 5s 114ms/step - loss: 0.2698 - accuracy: 0.8900 - val_loss: 0.2285 - val_accuracy: 0.9022\n",
            "Epoch 10/100\n",
            "46/46 [==============================] - 7s 147ms/step - loss: 0.2643 - accuracy: 0.8928 - val_loss: 0.2250 - val_accuracy: 0.9037\n",
            "Epoch 11/100\n",
            "46/46 [==============================] - 7s 152ms/step - loss: 0.2604 - accuracy: 0.8937 - val_loss: 0.2227 - val_accuracy: 0.9046\n",
            "Epoch 12/100\n",
            "46/46 [==============================] - 6s 132ms/step - loss: 0.2578 - accuracy: 0.8954 - val_loss: 0.2207 - val_accuracy: 0.9056\n",
            "Epoch 13/100\n",
            "46/46 [==============================] - 7s 155ms/step - loss: 0.2559 - accuracy: 0.8961 - val_loss: 0.2188 - val_accuracy: 0.9073\n",
            "Epoch 14/100\n",
            "46/46 [==============================] - 6s 119ms/step - loss: 0.2530 - accuracy: 0.8974 - val_loss: 0.2172 - val_accuracy: 0.9085\n",
            "Epoch 15/100\n",
            "46/46 [==============================] - 7s 164ms/step - loss: 0.2501 - accuracy: 0.8987 - val_loss: 0.2161 - val_accuracy: 0.9086\n",
            "Epoch 16/100\n",
            "46/46 [==============================] - 5s 117ms/step - loss: 0.2493 - accuracy: 0.8989 - val_loss: 0.2141 - val_accuracy: 0.9115\n",
            "Epoch 17/100\n",
            "46/46 [==============================] - 7s 156ms/step - loss: 0.2475 - accuracy: 0.8991 - val_loss: 0.2137 - val_accuracy: 0.9110\n",
            "Epoch 18/100\n",
            "46/46 [==============================] - 6s 127ms/step - loss: 0.2467 - accuracy: 0.9001 - val_loss: 0.2127 - val_accuracy: 0.9119\n",
            "Epoch 19/100\n",
            "46/46 [==============================] - 6s 120ms/step - loss: 0.2456 - accuracy: 0.9002 - val_loss: 0.2123 - val_accuracy: 0.9119\n",
            "Epoch 20/100\n",
            "46/46 [==============================] - 7s 154ms/step - loss: 0.2447 - accuracy: 0.9008 - val_loss: 0.2112 - val_accuracy: 0.9136\n",
            "Epoch 21/100\n",
            "46/46 [==============================] - 6s 126ms/step - loss: 0.2443 - accuracy: 0.9009 - val_loss: 0.2110 - val_accuracy: 0.9132\n",
            "Epoch 22/100\n",
            "46/46 [==============================] - 8s 169ms/step - loss: 0.2424 - accuracy: 0.9016 - val_loss: 0.2104 - val_accuracy: 0.9141\n",
            "Epoch 23/100\n",
            "46/46 [==============================] - 6s 124ms/step - loss: 0.2424 - accuracy: 0.9016 - val_loss: 0.2099 - val_accuracy: 0.9145\n",
            "Epoch 24/100\n",
            "46/46 [==============================] - 8s 171ms/step - loss: 0.2414 - accuracy: 0.9017 - val_loss: 0.2091 - val_accuracy: 0.9165\n",
            "Epoch 25/100\n",
            "46/46 [==============================] - 6s 123ms/step - loss: 0.2408 - accuracy: 0.9023 - val_loss: 0.2088 - val_accuracy: 0.9163\n",
            "Epoch 26/100\n",
            "46/46 [==============================] - 7s 159ms/step - loss: 0.2408 - accuracy: 0.9024 - val_loss: 0.2085 - val_accuracy: 0.9167\n",
            "Epoch 27/100\n",
            "46/46 [==============================] - 6s 133ms/step - loss: 0.2398 - accuracy: 0.9025 - val_loss: 0.2084 - val_accuracy: 0.9163\n",
            "Epoch 28/100\n",
            "46/46 [==============================] - 6s 131ms/step - loss: 0.2394 - accuracy: 0.9022 - val_loss: 0.2079 - val_accuracy: 0.9172\n",
            "Epoch 29/100\n",
            "46/46 [==============================] - 8s 170ms/step - loss: 0.2389 - accuracy: 0.9027 - val_loss: 0.2082 - val_accuracy: 0.9163\n",
            "Epoch 30/100\n",
            "46/46 [==============================] - 6s 122ms/step - loss: 0.2383 - accuracy: 0.9029 - val_loss: 0.2074 - val_accuracy: 0.9177\n",
            "Epoch 31/100\n",
            "46/46 [==============================] - 8s 169ms/step - loss: 0.2383 - accuracy: 0.9025 - val_loss: 0.2075 - val_accuracy: 0.9172\n",
            "Epoch 32/100\n",
            "46/46 [==============================] - 6s 125ms/step - loss: 0.2370 - accuracy: 0.9038 - val_loss: 0.2072 - val_accuracy: 0.9171\n",
            "Epoch 33/100\n",
            "46/46 [==============================] - 7s 162ms/step - loss: 0.2373 - accuracy: 0.9034 - val_loss: 0.2072 - val_accuracy: 0.9173\n",
            "Epoch 34/100\n",
            "46/46 [==============================] - 6s 132ms/step - loss: 0.2366 - accuracy: 0.9036 - val_loss: 0.2070 - val_accuracy: 0.9171\n",
            "Epoch 35/100\n",
            "46/46 [==============================] - 7s 151ms/step - loss: 0.2354 - accuracy: 0.9047 - val_loss: 0.2064 - val_accuracy: 0.9186\n",
            "Epoch 36/100\n",
            "46/46 [==============================] - 6s 129ms/step - loss: 0.2359 - accuracy: 0.9045 - val_loss: 0.2063 - val_accuracy: 0.9187\n",
            "Epoch 37/100\n",
            "46/46 [==============================] - 6s 122ms/step - loss: 0.2354 - accuracy: 0.9045 - val_loss: 0.2061 - val_accuracy: 0.9195\n",
            "Epoch 38/100\n",
            "46/46 [==============================] - 8s 165ms/step - loss: 0.2356 - accuracy: 0.9042 - val_loss: 0.2059 - val_accuracy: 0.9197\n",
            "Epoch 39/100\n",
            "46/46 [==============================] - 6s 120ms/step - loss: 0.2347 - accuracy: 0.9047 - val_loss: 0.2059 - val_accuracy: 0.9192\n",
            "Epoch 40/100\n",
            "46/46 [==============================] - 8s 171ms/step - loss: 0.2346 - accuracy: 0.9045 - val_loss: 0.2057 - val_accuracy: 0.9196\n",
            "Epoch 41/100\n",
            "46/46 [==============================] - 6s 122ms/step - loss: 0.2344 - accuracy: 0.9045 - val_loss: 0.2055 - val_accuracy: 0.9198\n",
            "Epoch 42/100\n",
            "46/46 [==============================] - 7s 160ms/step - loss: 0.2338 - accuracy: 0.9050 - val_loss: 0.2053 - val_accuracy: 0.9200\n",
            "Epoch 43/100\n",
            "46/46 [==============================] - 6s 123ms/step - loss: 0.2341 - accuracy: 0.9050 - val_loss: 0.2052 - val_accuracy: 0.9201\n",
            "Epoch 44/100\n",
            "46/46 [==============================] - 6s 126ms/step - loss: 0.2340 - accuracy: 0.9050 - val_loss: 0.2052 - val_accuracy: 0.9199\n",
            "Epoch 45/100\n",
            "46/46 [==============================] - 7s 149ms/step - loss: 0.2335 - accuracy: 0.9052 - val_loss: 0.2049 - val_accuracy: 0.9202\n",
            "Epoch 46/100\n",
            "46/46 [==============================] - 5s 116ms/step - loss: 0.2334 - accuracy: 0.9050 - val_loss: 0.2049 - val_accuracy: 0.9201\n",
            "Epoch 47/100\n",
            "46/46 [==============================] - 7s 163ms/step - loss: 0.2329 - accuracy: 0.9052 - val_loss: 0.2046 - val_accuracy: 0.9199\n",
            "Epoch 48/100\n",
            "46/46 [==============================] - 5s 116ms/step - loss: 0.2328 - accuracy: 0.9053 - val_loss: 0.2044 - val_accuracy: 0.9200\n",
            "Epoch 49/100\n",
            "46/46 [==============================] - 7s 145ms/step - loss: 0.2329 - accuracy: 0.9052 - val_loss: 0.2045 - val_accuracy: 0.9201\n",
            "Epoch 50/100\n",
            "46/46 [==============================] - 6s 133ms/step - loss: 0.2326 - accuracy: 0.9052 - val_loss: 0.2043 - val_accuracy: 0.9201\n",
            "Epoch 51/100\n",
            "46/46 [==============================] - 5s 118ms/step - loss: 0.2318 - accuracy: 0.9065 - val_loss: 0.2042 - val_accuracy: 0.9201\n",
            "Epoch 52/100\n",
            "46/46 [==============================] - 8s 168ms/step - loss: 0.2312 - accuracy: 0.9064 - val_loss: 0.2036 - val_accuracy: 0.9203\n",
            "Epoch 53/100\n",
            "46/46 [==============================] - 5s 117ms/step - loss: 0.2321 - accuracy: 0.9058 - val_loss: 0.2040 - val_accuracy: 0.9202\n",
            "Epoch 54/100\n",
            "46/46 [==============================] - 7s 162ms/step - loss: 0.2313 - accuracy: 0.9059 - val_loss: 0.2036 - val_accuracy: 0.9202\n",
            "Epoch 55/100\n",
            "46/46 [==============================] - 5s 116ms/step - loss: 0.2314 - accuracy: 0.9058 - val_loss: 0.2033 - val_accuracy: 0.9204\n",
            "Epoch 56/100\n",
            "46/46 [==============================] - 6s 138ms/step - loss: 0.2312 - accuracy: 0.9063 - val_loss: 0.2031 - val_accuracy: 0.9207\n",
            "Epoch 57/100\n",
            "46/46 [==============================] - 7s 149ms/step - loss: 0.2308 - accuracy: 0.9063 - val_loss: 0.2031 - val_accuracy: 0.9204\n",
            "Epoch 58/100\n",
            "46/46 [==============================] - 6s 123ms/step - loss: 0.2313 - accuracy: 0.9058 - val_loss: 0.2029 - val_accuracy: 0.9206\n",
            "Epoch 59/100\n",
            "46/46 [==============================] - 8s 169ms/step - loss: 0.2308 - accuracy: 0.9066 - val_loss: 0.2028 - val_accuracy: 0.9204\n",
            "Epoch 60/100\n",
            "46/46 [==============================] - 6s 123ms/step - loss: 0.2301 - accuracy: 0.9063 - val_loss: 0.2026 - val_accuracy: 0.9205\n",
            "Epoch 61/100\n",
            "46/46 [==============================] - 8s 167ms/step - loss: 0.2305 - accuracy: 0.9062 - val_loss: 0.2025 - val_accuracy: 0.9204\n",
            "Epoch 62/100\n",
            "46/46 [==============================] - 6s 122ms/step - loss: 0.2297 - accuracy: 0.9065 - val_loss: 0.2021 - val_accuracy: 0.9205\n",
            "Epoch 63/100\n",
            "46/46 [==============================] - 7s 148ms/step - loss: 0.2292 - accuracy: 0.9067 - val_loss: 0.2019 - val_accuracy: 0.9207\n",
            "Epoch 64/100\n",
            "46/46 [==============================] - 6s 138ms/step - loss: 0.2290 - accuracy: 0.9068 - val_loss: 0.2015 - val_accuracy: 0.9207\n",
            "Epoch 65/100\n",
            "46/46 [==============================] - 6s 129ms/step - loss: 0.2292 - accuracy: 0.9066 - val_loss: 0.2015 - val_accuracy: 0.9206\n",
            "Epoch 66/100\n",
            "46/46 [==============================] - 7s 154ms/step - loss: 0.2293 - accuracy: 0.9066 - val_loss: 0.2015 - val_accuracy: 0.9205\n",
            "Epoch 67/100\n",
            "46/46 [==============================] - 6s 121ms/step - loss: 0.2288 - accuracy: 0.9067 - val_loss: 0.2012 - val_accuracy: 0.9204\n",
            "Epoch 68/100\n",
            "46/46 [==============================] - 8s 168ms/step - loss: 0.2287 - accuracy: 0.9070 - val_loss: 0.2009 - val_accuracy: 0.9207\n",
            "Epoch 69/100\n",
            "46/46 [==============================] - 6s 122ms/step - loss: 0.2289 - accuracy: 0.9072 - val_loss: 0.2010 - val_accuracy: 0.9206\n",
            "Epoch 70/100\n",
            "46/46 [==============================] - 8s 166ms/step - loss: 0.2286 - accuracy: 0.9065 - val_loss: 0.2010 - val_accuracy: 0.9205\n",
            "Epoch 71/100\n",
            "46/46 [==============================] - 6s 122ms/step - loss: 0.2277 - accuracy: 0.9075 - val_loss: 0.2002 - val_accuracy: 0.9204\n",
            "Epoch 72/100\n",
            "46/46 [==============================] - 6s 139ms/step - loss: 0.2282 - accuracy: 0.9071 - val_loss: 0.2001 - val_accuracy: 0.9205\n",
            "Epoch 73/100\n",
            "46/46 [==============================] - 7s 146ms/step - loss: 0.2276 - accuracy: 0.9069 - val_loss: 0.2000 - val_accuracy: 0.9206\n",
            "Epoch 74/100\n",
            "46/46 [==============================] - 6s 121ms/step - loss: 0.2278 - accuracy: 0.9073 - val_loss: 0.1997 - val_accuracy: 0.9205\n",
            "Epoch 75/100\n",
            "46/46 [==============================] - 8s 171ms/step - loss: 0.2273 - accuracy: 0.9073 - val_loss: 0.1997 - val_accuracy: 0.9206\n",
            "Epoch 76/100\n",
            "46/46 [==============================] - 6s 123ms/step - loss: 0.2269 - accuracy: 0.9073 - val_loss: 0.1991 - val_accuracy: 0.9206\n",
            "Epoch 77/100\n",
            "46/46 [==============================] - 8s 166ms/step - loss: 0.2264 - accuracy: 0.9075 - val_loss: 0.1989 - val_accuracy: 0.9206\n",
            "Epoch 78/100\n",
            "46/46 [==============================] - 6s 126ms/step - loss: 0.2267 - accuracy: 0.9073 - val_loss: 0.1987 - val_accuracy: 0.9208\n",
            "Epoch 79/100\n",
            "46/46 [==============================] - 7s 152ms/step - loss: 0.2257 - accuracy: 0.9077 - val_loss: 0.1983 - val_accuracy: 0.9208\n",
            "Epoch 80/100\n",
            "46/46 [==============================] - 6s 135ms/step - loss: 0.2265 - accuracy: 0.9076 - val_loss: 0.1983 - val_accuracy: 0.9210\n",
            "Epoch 81/100\n",
            "46/46 [==============================] - 6s 126ms/step - loss: 0.2259 - accuracy: 0.9076 - val_loss: 0.1979 - val_accuracy: 0.9214\n",
            "Epoch 82/100\n",
            "46/46 [==============================] - 7s 156ms/step - loss: 0.2250 - accuracy: 0.9079 - val_loss: 0.1976 - val_accuracy: 0.9219\n",
            "Epoch 83/100\n",
            "46/46 [==============================] - 6s 121ms/step - loss: 0.2251 - accuracy: 0.9083 - val_loss: 0.1974 - val_accuracy: 0.9217\n",
            "Epoch 84/100\n",
            "46/46 [==============================] - 8s 166ms/step - loss: 0.2246 - accuracy: 0.9083 - val_loss: 0.1973 - val_accuracy: 0.9214\n",
            "Epoch 85/100\n",
            "46/46 [==============================] - 6s 120ms/step - loss: 0.2246 - accuracy: 0.9079 - val_loss: 0.1965 - val_accuracy: 0.9218\n",
            "Epoch 86/100\n",
            "46/46 [==============================] - 7s 157ms/step - loss: 0.2250 - accuracy: 0.9079 - val_loss: 0.1968 - val_accuracy: 0.9217\n",
            "Epoch 87/100\n",
            "46/46 [==============================] - 6s 127ms/step - loss: 0.2239 - accuracy: 0.9084 - val_loss: 0.1963 - val_accuracy: 0.9219\n",
            "Epoch 88/100\n",
            "46/46 [==============================] - 6s 134ms/step - loss: 0.2242 - accuracy: 0.9082 - val_loss: 0.1962 - val_accuracy: 0.9220\n",
            "Epoch 89/100\n",
            "46/46 [==============================] - 7s 161ms/step - loss: 0.2238 - accuracy: 0.9084 - val_loss: 0.1956 - val_accuracy: 0.9221\n",
            "Epoch 90/100\n",
            "46/46 [==============================] - 6s 122ms/step - loss: 0.2237 - accuracy: 0.9081 - val_loss: 0.1956 - val_accuracy: 0.9224\n",
            "Epoch 91/100\n",
            "46/46 [==============================] - 8s 164ms/step - loss: 0.2235 - accuracy: 0.9083 - val_loss: 0.1955 - val_accuracy: 0.9222\n",
            "Epoch 92/100\n",
            "46/46 [==============================] - 6s 123ms/step - loss: 0.2234 - accuracy: 0.9083 - val_loss: 0.1952 - val_accuracy: 0.9223\n",
            "Epoch 93/100\n",
            "46/46 [==============================] - 8s 166ms/step - loss: 0.2229 - accuracy: 0.9087 - val_loss: 0.1954 - val_accuracy: 0.9223\n",
            "Epoch 94/100\n",
            "46/46 [==============================] - 6s 123ms/step - loss: 0.2223 - accuracy: 0.9088 - val_loss: 0.1948 - val_accuracy: 0.9225\n",
            "Epoch 95/100\n",
            "46/46 [==============================] - 7s 151ms/step - loss: 0.2228 - accuracy: 0.9082 - val_loss: 0.1945 - val_accuracy: 0.9225\n",
            "Epoch 96/100\n",
            "46/46 [==============================] - 6s 133ms/step - loss: 0.2228 - accuracy: 0.9085 - val_loss: 0.1943 - val_accuracy: 0.9225\n",
            "Epoch 97/100\n",
            "46/46 [==============================] - 5s 119ms/step - loss: 0.2221 - accuracy: 0.9090 - val_loss: 0.1944 - val_accuracy: 0.9226\n",
            "Epoch 98/100\n",
            "46/46 [==============================] - 7s 159ms/step - loss: 0.2217 - accuracy: 0.9090 - val_loss: 0.1941 - val_accuracy: 0.9229\n",
            "Epoch 99/100\n",
            "46/46 [==============================] - 5s 119ms/step - loss: 0.2219 - accuracy: 0.9088 - val_loss: 0.1941 - val_accuracy: 0.9226\n",
            "Epoch 100/100\n",
            "46/46 [==============================] - 8s 167ms/step - loss: 0.2216 - accuracy: 0.9087 - val_loss: 0.1937 - val_accuracy: 0.9227\n"
          ]
        }
      ]
    }
  ]
}