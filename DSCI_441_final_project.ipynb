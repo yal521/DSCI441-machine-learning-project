{
  "nbformat": 4,
  "nbformat_minor": 0,
  "metadata": {
    "colab": {
      "provenance": [],
      "mount_file_id": "1seOicWCcnirqOztYKxvMEo_T6E-HSXJS",
      "authorship_tag": "ABX9TyN60lSQFTjFgQluoaweUkYn",
      "include_colab_link": true
    },
    "kernelspec": {
      "name": "python3",
      "display_name": "Python 3"
    },
    "language_info": {
      "name": "python"
    }
  },
  "cells": [
    {
      "cell_type": "markdown",
      "metadata": {
        "id": "view-in-github",
        "colab_type": "text"
      },
      "source": [
        "<a href=\"https://colab.research.google.com/github/yal521/DSCI441-machine-learning-project/blob/main/DSCI_441_final_project.ipynb\" target=\"_parent\"><img src=\"https://colab.research.google.com/assets/colab-badge.svg\" alt=\"Open In Colab\"/></a>"
      ]
    },
    {
      "cell_type": "code",
      "source": [
        "# Import libraries\n",
        "import numpy as np\n",
        "from numpy import where\n",
        "import pandas as pd\n",
        "from pandas import Series\n",
        "import matplotlib.pyplot as plt\n",
        "from collections import Counter\n",
        "import sklearn.metrics as metrique\n",
        "from numpy import loadtxt\n",
        "from keras.models import load_model\n",
        "from imblearn.over_sampling import SMOTE\n",
        "from matplotlib import pyplot\n",
        "from numpy import where\n",
        "from sklearn.model_selection import train_test_split\n",
        "from sklearn.preprocessing import StandardScaler, MinMaxScaler\n",
        "from keras.utils import np_utils\n",
        "from keras.callbacks import EarlyStopping\n",
        "from sklearn.metrics import accuracy_score\n",
        "from keras.callbacks import ModelCheckpoint\n",
        "from sklearn.metrics import classification_report, confusion_matrix\n",
        "from sklearn.metrics import precision_score\n",
        "from sklearn.metrics import recall_score\n",
        "from sklearn.metrics import confusion_matrix\n",
        "%matplotlib inline\n",
        "from sklearn.metrics import confusion_matrix\n",
        "import itertools\n",
        "import matplotlib.pyplot as plt\n",
        "from keras.backend import cast\n",
        "from keras.utils import np_utils\n",
        "from keras.models import Sequential\n",
        "from keras import backend as K, regularizers, Model, metrics\n",
        "from keras.layers import RepeatVector, Dense, Activation, Lambda\n",
        "from keras.layers import LSTM, Dense, Embedding, Dropout,Input, Attention, Layer, Concatenate, Permute, Dot, Multiply, Flatten\n",
        "from google.colab import drive\n",
        "import os"
      ],
      "metadata": {
        "id": "yqWNNoxo3KHJ"
      },
      "execution_count": 1,
      "outputs": []
    },
    {
      "cell_type": "markdown",
      "source": [
        "Load and read the data set"
      ],
      "metadata": {
        "id": "CjLOwIZjNu3V"
      }
    },
    {
      "cell_type": "code",
      "source": [
        "# Load the data and read the first few lines of data\n",
        "drive.mount('/content/drive')\n",
        "os.chdir('/content/drive/MyDrive/Yang_DSCI441_Final_Project')\n",
        "Credit_data = pd.read_csv(\"sampled_Credit_data-2.csv\")\n",
        "Credit_data.head()"
      ],
      "metadata": {
        "colab": {
          "base_uri": "https://localhost:8080/",
          "height": 314
        },
        "id": "q48TnHTON4Rn",
        "outputId": "96977395-a2c9-43e5-f846-81256d10ab35"
      },
      "execution_count": 2,
      "outputs": [
        {
          "output_type": "stream",
          "name": "stdout",
          "text": [
            "Drive already mounted at /content/drive; to attempt to forcibly remount, call drive.mount(\"/content/drive\", force_remount=True).\n"
          ]
        },
        {
          "output_type": "execute_result",
          "data": {
            "text/plain": [
              "       Time         V1        V2        V3        V4        V5        V6  \\\n",
              "0  136495.0   1.891340 -0.941703 -0.465693  0.822444 -1.053182 -0.418160   \n",
              "1   38571.0  -0.429903  0.167311  0.647957 -1.936330  0.660004 -0.624739   \n",
              "2   26672.0  -1.204670  0.074550  1.778099  1.433339  0.167659  0.349178   \n",
              "3  156508.0 -11.521712  9.654525 -9.368721 -0.983806 -6.521962 -2.304209   \n",
              "4   79672.0  -1.406149 -0.054912  2.723919 -0.979521  0.449242  0.560431   \n",
              "\n",
              "         V7        V8        V9  ...       V21       V22       V23       V24  \\\n",
              "0 -0.599302 -0.038268  0.063975  ... -0.713578 -1.674146  0.424086 -0.271521   \n",
              "1  0.575645  0.100204  0.642102  ...  0.125645  0.444372 -0.290911 -0.292411   \n",
              "2  0.858258  0.177383 -0.940010  ...  0.165821  0.247312  0.166215  0.231063   \n",
              "3 -6.099734  8.252839  0.976392  ...  0.536635  0.732827  1.127417 -0.059780   \n",
              "4 -0.245460  0.676369  0.245946  ...  0.086798  0.154142 -0.159691 -0.285275   \n",
              "\n",
              "        V25       V26       V27       V28  Amount  Class  \n",
              "0 -0.533762 -1.065501  0.049795 -0.011126  100.11      0  \n",
              "1  0.440147 -0.694727  0.039023 -0.010394    1.00      0  \n",
              "2  0.497426 -0.168165  0.030430  0.087186  177.00      0  \n",
              "3  0.766781 -0.088046  0.561914  0.504720   19.99      0  \n",
              "4  0.213553  0.118448  0.011163  0.048650    4.99      0  \n",
              "\n",
              "[5 rows x 31 columns]"
            ],
            "text/html": [
              "\n",
              "  <div id=\"df-4ddae511-b004-4ab5-8262-94f108fb68f9\">\n",
              "    <div class=\"colab-df-container\">\n",
              "      <div>\n",
              "<style scoped>\n",
              "    .dataframe tbody tr th:only-of-type {\n",
              "        vertical-align: middle;\n",
              "    }\n",
              "\n",
              "    .dataframe tbody tr th {\n",
              "        vertical-align: top;\n",
              "    }\n",
              "\n",
              "    .dataframe thead th {\n",
              "        text-align: right;\n",
              "    }\n",
              "</style>\n",
              "<table border=\"1\" class=\"dataframe\">\n",
              "  <thead>\n",
              "    <tr style=\"text-align: right;\">\n",
              "      <th></th>\n",
              "      <th>Time</th>\n",
              "      <th>V1</th>\n",
              "      <th>V2</th>\n",
              "      <th>V3</th>\n",
              "      <th>V4</th>\n",
              "      <th>V5</th>\n",
              "      <th>V6</th>\n",
              "      <th>V7</th>\n",
              "      <th>V8</th>\n",
              "      <th>V9</th>\n",
              "      <th>...</th>\n",
              "      <th>V21</th>\n",
              "      <th>V22</th>\n",
              "      <th>V23</th>\n",
              "      <th>V24</th>\n",
              "      <th>V25</th>\n",
              "      <th>V26</th>\n",
              "      <th>V27</th>\n",
              "      <th>V28</th>\n",
              "      <th>Amount</th>\n",
              "      <th>Class</th>\n",
              "    </tr>\n",
              "  </thead>\n",
              "  <tbody>\n",
              "    <tr>\n",
              "      <th>0</th>\n",
              "      <td>136495.0</td>\n",
              "      <td>1.891340</td>\n",
              "      <td>-0.941703</td>\n",
              "      <td>-0.465693</td>\n",
              "      <td>0.822444</td>\n",
              "      <td>-1.053182</td>\n",
              "      <td>-0.418160</td>\n",
              "      <td>-0.599302</td>\n",
              "      <td>-0.038268</td>\n",
              "      <td>0.063975</td>\n",
              "      <td>...</td>\n",
              "      <td>-0.713578</td>\n",
              "      <td>-1.674146</td>\n",
              "      <td>0.424086</td>\n",
              "      <td>-0.271521</td>\n",
              "      <td>-0.533762</td>\n",
              "      <td>-1.065501</td>\n",
              "      <td>0.049795</td>\n",
              "      <td>-0.011126</td>\n",
              "      <td>100.11</td>\n",
              "      <td>0</td>\n",
              "    </tr>\n",
              "    <tr>\n",
              "      <th>1</th>\n",
              "      <td>38571.0</td>\n",
              "      <td>-0.429903</td>\n",
              "      <td>0.167311</td>\n",
              "      <td>0.647957</td>\n",
              "      <td>-1.936330</td>\n",
              "      <td>0.660004</td>\n",
              "      <td>-0.624739</td>\n",
              "      <td>0.575645</td>\n",
              "      <td>0.100204</td>\n",
              "      <td>0.642102</td>\n",
              "      <td>...</td>\n",
              "      <td>0.125645</td>\n",
              "      <td>0.444372</td>\n",
              "      <td>-0.290911</td>\n",
              "      <td>-0.292411</td>\n",
              "      <td>0.440147</td>\n",
              "      <td>-0.694727</td>\n",
              "      <td>0.039023</td>\n",
              "      <td>-0.010394</td>\n",
              "      <td>1.00</td>\n",
              "      <td>0</td>\n",
              "    </tr>\n",
              "    <tr>\n",
              "      <th>2</th>\n",
              "      <td>26672.0</td>\n",
              "      <td>-1.204670</td>\n",
              "      <td>0.074550</td>\n",
              "      <td>1.778099</td>\n",
              "      <td>1.433339</td>\n",
              "      <td>0.167659</td>\n",
              "      <td>0.349178</td>\n",
              "      <td>0.858258</td>\n",
              "      <td>0.177383</td>\n",
              "      <td>-0.940010</td>\n",
              "      <td>...</td>\n",
              "      <td>0.165821</td>\n",
              "      <td>0.247312</td>\n",
              "      <td>0.166215</td>\n",
              "      <td>0.231063</td>\n",
              "      <td>0.497426</td>\n",
              "      <td>-0.168165</td>\n",
              "      <td>0.030430</td>\n",
              "      <td>0.087186</td>\n",
              "      <td>177.00</td>\n",
              "      <td>0</td>\n",
              "    </tr>\n",
              "    <tr>\n",
              "      <th>3</th>\n",
              "      <td>156508.0</td>\n",
              "      <td>-11.521712</td>\n",
              "      <td>9.654525</td>\n",
              "      <td>-9.368721</td>\n",
              "      <td>-0.983806</td>\n",
              "      <td>-6.521962</td>\n",
              "      <td>-2.304209</td>\n",
              "      <td>-6.099734</td>\n",
              "      <td>8.252839</td>\n",
              "      <td>0.976392</td>\n",
              "      <td>...</td>\n",
              "      <td>0.536635</td>\n",
              "      <td>0.732827</td>\n",
              "      <td>1.127417</td>\n",
              "      <td>-0.059780</td>\n",
              "      <td>0.766781</td>\n",
              "      <td>-0.088046</td>\n",
              "      <td>0.561914</td>\n",
              "      <td>0.504720</td>\n",
              "      <td>19.99</td>\n",
              "      <td>0</td>\n",
              "    </tr>\n",
              "    <tr>\n",
              "      <th>4</th>\n",
              "      <td>79672.0</td>\n",
              "      <td>-1.406149</td>\n",
              "      <td>-0.054912</td>\n",
              "      <td>2.723919</td>\n",
              "      <td>-0.979521</td>\n",
              "      <td>0.449242</td>\n",
              "      <td>0.560431</td>\n",
              "      <td>-0.245460</td>\n",
              "      <td>0.676369</td>\n",
              "      <td>0.245946</td>\n",
              "      <td>...</td>\n",
              "      <td>0.086798</td>\n",
              "      <td>0.154142</td>\n",
              "      <td>-0.159691</td>\n",
              "      <td>-0.285275</td>\n",
              "      <td>0.213553</td>\n",
              "      <td>0.118448</td>\n",
              "      <td>0.011163</td>\n",
              "      <td>0.048650</td>\n",
              "      <td>4.99</td>\n",
              "      <td>0</td>\n",
              "    </tr>\n",
              "  </tbody>\n",
              "</table>\n",
              "<p>5 rows × 31 columns</p>\n",
              "</div>\n",
              "      <button class=\"colab-df-convert\" onclick=\"convertToInteractive('df-4ddae511-b004-4ab5-8262-94f108fb68f9')\"\n",
              "              title=\"Convert this dataframe to an interactive table.\"\n",
              "              style=\"display:none;\">\n",
              "        \n",
              "  <svg xmlns=\"http://www.w3.org/2000/svg\" height=\"24px\"viewBox=\"0 0 24 24\"\n",
              "       width=\"24px\">\n",
              "    <path d=\"M0 0h24v24H0V0z\" fill=\"none\"/>\n",
              "    <path d=\"M18.56 5.44l.94 2.06.94-2.06 2.06-.94-2.06-.94-.94-2.06-.94 2.06-2.06.94zm-11 1L8.5 8.5l.94-2.06 2.06-.94-2.06-.94L8.5 2.5l-.94 2.06-2.06.94zm10 10l.94 2.06.94-2.06 2.06-.94-2.06-.94-.94-2.06-.94 2.06-2.06.94z\"/><path d=\"M17.41 7.96l-1.37-1.37c-.4-.4-.92-.59-1.43-.59-.52 0-1.04.2-1.43.59L10.3 9.45l-7.72 7.72c-.78.78-.78 2.05 0 2.83L4 21.41c.39.39.9.59 1.41.59.51 0 1.02-.2 1.41-.59l7.78-7.78 2.81-2.81c.8-.78.8-2.07 0-2.86zM5.41 20L4 18.59l7.72-7.72 1.47 1.35L5.41 20z\"/>\n",
              "  </svg>\n",
              "      </button>\n",
              "      \n",
              "  <style>\n",
              "    .colab-df-container {\n",
              "      display:flex;\n",
              "      flex-wrap:wrap;\n",
              "      gap: 12px;\n",
              "    }\n",
              "\n",
              "    .colab-df-convert {\n",
              "      background-color: #E8F0FE;\n",
              "      border: none;\n",
              "      border-radius: 50%;\n",
              "      cursor: pointer;\n",
              "      display: none;\n",
              "      fill: #1967D2;\n",
              "      height: 32px;\n",
              "      padding: 0 0 0 0;\n",
              "      width: 32px;\n",
              "    }\n",
              "\n",
              "    .colab-df-convert:hover {\n",
              "      background-color: #E2EBFA;\n",
              "      box-shadow: 0px 1px 2px rgba(60, 64, 67, 0.3), 0px 1px 3px 1px rgba(60, 64, 67, 0.15);\n",
              "      fill: #174EA6;\n",
              "    }\n",
              "\n",
              "    [theme=dark] .colab-df-convert {\n",
              "      background-color: #3B4455;\n",
              "      fill: #D2E3FC;\n",
              "    }\n",
              "\n",
              "    [theme=dark] .colab-df-convert:hover {\n",
              "      background-color: #434B5C;\n",
              "      box-shadow: 0px 1px 3px 1px rgba(0, 0, 0, 0.15);\n",
              "      filter: drop-shadow(0px 1px 2px rgba(0, 0, 0, 0.3));\n",
              "      fill: #FFFFFF;\n",
              "    }\n",
              "  </style>\n",
              "\n",
              "      <script>\n",
              "        const buttonEl =\n",
              "          document.querySelector('#df-4ddae511-b004-4ab5-8262-94f108fb68f9 button.colab-df-convert');\n",
              "        buttonEl.style.display =\n",
              "          google.colab.kernel.accessAllowed ? 'block' : 'none';\n",
              "\n",
              "        async function convertToInteractive(key) {\n",
              "          const element = document.querySelector('#df-4ddae511-b004-4ab5-8262-94f108fb68f9');\n",
              "          const dataTable =\n",
              "            await google.colab.kernel.invokeFunction('convertToInteractive',\n",
              "                                                     [key], {});\n",
              "          if (!dataTable) return;\n",
              "\n",
              "          const docLinkHtml = 'Like what you see? Visit the ' +\n",
              "            '<a target=\"_blank\" href=https://colab.research.google.com/notebooks/data_table.ipynb>data table notebook</a>'\n",
              "            + ' to learn more about interactive tables.';\n",
              "          element.innerHTML = '';\n",
              "          dataTable['output_type'] = 'display_data';\n",
              "          await google.colab.output.renderOutput(dataTable, element);\n",
              "          const docLink = document.createElement('div');\n",
              "          docLink.innerHTML = docLinkHtml;\n",
              "          element.appendChild(docLink);\n",
              "        }\n",
              "      </script>\n",
              "    </div>\n",
              "  </div>\n",
              "  "
            ]
          },
          "metadata": {},
          "execution_count": 2
        }
      ]
    },
    {
      "cell_type": "code",
      "source": [
        "Credit_data.shape"
      ],
      "metadata": {
        "colab": {
          "base_uri": "https://localhost:8080/"
        },
        "id": "8eCTrTIW-CHl",
        "outputId": "66b63853-8577-47e3-c9ea-d07dc7f02c22"
      },
      "execution_count": 3,
      "outputs": [
        {
          "output_type": "execute_result",
          "data": {
            "text/plain": [
              "(180000, 31)"
            ]
          },
          "metadata": {},
          "execution_count": 3
        }
      ]
    },
    {
      "cell_type": "markdown",
      "source": [
        "Data Preprocessing"
      ],
      "metadata": {
        "id": "E9RxP9sUPqYP"
      }
    },
    {
      "cell_type": "code",
      "source": [
        "Credit_data.dtypes"
      ],
      "metadata": {
        "colab": {
          "base_uri": "https://localhost:8080/"
        },
        "id": "oOg12NmGQWNc",
        "outputId": "618fb71a-473c-4c2a-bc4e-7b0453463999"
      },
      "execution_count": null,
      "outputs": [
        {
          "output_type": "execute_result",
          "data": {
            "text/plain": [
              "Time      float64\n",
              "V1        float64\n",
              "V2        float64\n",
              "V3        float64\n",
              "V4        float64\n",
              "V5        float64\n",
              "V6        float64\n",
              "V7        float64\n",
              "V8        float64\n",
              "V9        float64\n",
              "V10       float64\n",
              "V11       float64\n",
              "V12       float64\n",
              "V13       float64\n",
              "V14       float64\n",
              "V15       float64\n",
              "V16       float64\n",
              "V17       float64\n",
              "V18       float64\n",
              "V19       float64\n",
              "V20       float64\n",
              "V21       float64\n",
              "V22       float64\n",
              "V23       float64\n",
              "V24       float64\n",
              "V25       float64\n",
              "V26       float64\n",
              "V27       float64\n",
              "V28       float64\n",
              "Amount    float64\n",
              "Class       int64\n",
              "dtype: object"
            ]
          },
          "metadata": {},
          "execution_count": 3
        }
      ]
    },
    {
      "cell_type": "code",
      "source": [
        "print(Credit_data.isnull().sum())\n",
        "\n",
        "# this is a pretty clean dataset without missing values"
      ],
      "metadata": {
        "colab": {
          "base_uri": "https://localhost:8080/"
        },
        "id": "UnsyQ557PsZO",
        "outputId": "0e2c9ae9-c7a2-4502-8896-8f02ab1ceeaf"
      },
      "execution_count": null,
      "outputs": [
        {
          "output_type": "stream",
          "name": "stdout",
          "text": [
            "Time      0\n",
            "V1        0\n",
            "V2        0\n",
            "V3        0\n",
            "V4        0\n",
            "V5        0\n",
            "V6        0\n",
            "V7        0\n",
            "V8        0\n",
            "V9        0\n",
            "V10       0\n",
            "V11       0\n",
            "V12       0\n",
            "V13       0\n",
            "V14       0\n",
            "V15       0\n",
            "V16       0\n",
            "V17       0\n",
            "V18       0\n",
            "V19       0\n",
            "V20       0\n",
            "V21       0\n",
            "V22       0\n",
            "V23       0\n",
            "V24       0\n",
            "V25       0\n",
            "V26       0\n",
            "V27       0\n",
            "V28       0\n",
            "Amount    0\n",
            "Class     0\n",
            "dtype: int64\n"
          ]
        }
      ]
    },
    {
      "cell_type": "markdown",
      "source": [
        "Feature Selection\n",
        "\n",
        "There is another code file using particle swarm optimization to select optimal features. It takes long time to get the results so that I put codes of feature selection into a seperate code file. I will use the results from feature selection code to build the model and assess its performance "
      ],
      "metadata": {
        "id": "2qGWHjwlRHmr"
      }
    },
    {
      "cell_type": "code",
      "source": [
        "data = pd.read_csv(\"/content/drive/MyDrive/Yang_DSCI441_Final_Project/dataset1_creditcard.csv\", na_filter=True)\n",
        "col_del = ['Time' ,'V1', 'V2', 'V3','V6', 'V7', 'V8', 'V9','V10','V11','V12','V13','V14','V15','V17','V19','V20','V21', 'V22', 'V23', 'V24', 'V25', 'V26', 'V27', 'V28','Amount']"
      ],
      "metadata": {
        "id": "JUynIq6ixWiv"
      },
      "execution_count": null,
      "outputs": []
    },
    {
      "cell_type": "code",
      "source": [
        "col_keep = data.drop(col_del,axis =1)\n",
        "col_keep.head()"
      ],
      "metadata": {
        "colab": {
          "base_uri": "https://localhost:8080/",
          "height": 204
        },
        "id": "6_nlwSj2xfAe",
        "outputId": "f1868e52-d047-4708-89c3-98552c8c1950"
      },
      "execution_count": null,
      "outputs": [
        {
          "output_type": "execute_result",
          "data": {
            "text/plain": [
              "         V4        V5       V16       V18  Class\n",
              "0  1.378155 -0.338321 -0.470401  0.025791      0\n",
              "1  0.448154  0.060018  0.463917 -0.183361      0\n",
              "2  0.379780 -0.503198 -2.890083 -0.121359      0\n",
              "3 -0.863291 -0.010309 -1.059647  1.965775      0\n",
              "4  0.403034 -0.407193 -0.451449 -0.038195      0"
            ],
            "text/html": [
              "\n",
              "  <div id=\"df-45ade0f6-cf88-4e27-8456-d4a9e54fb6d6\">\n",
              "    <div class=\"colab-df-container\">\n",
              "      <div>\n",
              "<style scoped>\n",
              "    .dataframe tbody tr th:only-of-type {\n",
              "        vertical-align: middle;\n",
              "    }\n",
              "\n",
              "    .dataframe tbody tr th {\n",
              "        vertical-align: top;\n",
              "    }\n",
              "\n",
              "    .dataframe thead th {\n",
              "        text-align: right;\n",
              "    }\n",
              "</style>\n",
              "<table border=\"1\" class=\"dataframe\">\n",
              "  <thead>\n",
              "    <tr style=\"text-align: right;\">\n",
              "      <th></th>\n",
              "      <th>V4</th>\n",
              "      <th>V5</th>\n",
              "      <th>V16</th>\n",
              "      <th>V18</th>\n",
              "      <th>Class</th>\n",
              "    </tr>\n",
              "  </thead>\n",
              "  <tbody>\n",
              "    <tr>\n",
              "      <th>0</th>\n",
              "      <td>1.378155</td>\n",
              "      <td>-0.338321</td>\n",
              "      <td>-0.470401</td>\n",
              "      <td>0.025791</td>\n",
              "      <td>0</td>\n",
              "    </tr>\n",
              "    <tr>\n",
              "      <th>1</th>\n",
              "      <td>0.448154</td>\n",
              "      <td>0.060018</td>\n",
              "      <td>0.463917</td>\n",
              "      <td>-0.183361</td>\n",
              "      <td>0</td>\n",
              "    </tr>\n",
              "    <tr>\n",
              "      <th>2</th>\n",
              "      <td>0.379780</td>\n",
              "      <td>-0.503198</td>\n",
              "      <td>-2.890083</td>\n",
              "      <td>-0.121359</td>\n",
              "      <td>0</td>\n",
              "    </tr>\n",
              "    <tr>\n",
              "      <th>3</th>\n",
              "      <td>-0.863291</td>\n",
              "      <td>-0.010309</td>\n",
              "      <td>-1.059647</td>\n",
              "      <td>1.965775</td>\n",
              "      <td>0</td>\n",
              "    </tr>\n",
              "    <tr>\n",
              "      <th>4</th>\n",
              "      <td>0.403034</td>\n",
              "      <td>-0.407193</td>\n",
              "      <td>-0.451449</td>\n",
              "      <td>-0.038195</td>\n",
              "      <td>0</td>\n",
              "    </tr>\n",
              "  </tbody>\n",
              "</table>\n",
              "</div>\n",
              "      <button class=\"colab-df-convert\" onclick=\"convertToInteractive('df-45ade0f6-cf88-4e27-8456-d4a9e54fb6d6')\"\n",
              "              title=\"Convert this dataframe to an interactive table.\"\n",
              "              style=\"display:none;\">\n",
              "        \n",
              "  <svg xmlns=\"http://www.w3.org/2000/svg\" height=\"24px\"viewBox=\"0 0 24 24\"\n",
              "       width=\"24px\">\n",
              "    <path d=\"M0 0h24v24H0V0z\" fill=\"none\"/>\n",
              "    <path d=\"M18.56 5.44l.94 2.06.94-2.06 2.06-.94-2.06-.94-.94-2.06-.94 2.06-2.06.94zm-11 1L8.5 8.5l.94-2.06 2.06-.94-2.06-.94L8.5 2.5l-.94 2.06-2.06.94zm10 10l.94 2.06.94-2.06 2.06-.94-2.06-.94-.94-2.06-.94 2.06-2.06.94z\"/><path d=\"M17.41 7.96l-1.37-1.37c-.4-.4-.92-.59-1.43-.59-.52 0-1.04.2-1.43.59L10.3 9.45l-7.72 7.72c-.78.78-.78 2.05 0 2.83L4 21.41c.39.39.9.59 1.41.59.51 0 1.02-.2 1.41-.59l7.78-7.78 2.81-2.81c.8-.78.8-2.07 0-2.86zM5.41 20L4 18.59l7.72-7.72 1.47 1.35L5.41 20z\"/>\n",
              "  </svg>\n",
              "      </button>\n",
              "      \n",
              "  <style>\n",
              "    .colab-df-container {\n",
              "      display:flex;\n",
              "      flex-wrap:wrap;\n",
              "      gap: 12px;\n",
              "    }\n",
              "\n",
              "    .colab-df-convert {\n",
              "      background-color: #E8F0FE;\n",
              "      border: none;\n",
              "      border-radius: 50%;\n",
              "      cursor: pointer;\n",
              "      display: none;\n",
              "      fill: #1967D2;\n",
              "      height: 32px;\n",
              "      padding: 0 0 0 0;\n",
              "      width: 32px;\n",
              "    }\n",
              "\n",
              "    .colab-df-convert:hover {\n",
              "      background-color: #E2EBFA;\n",
              "      box-shadow: 0px 1px 2px rgba(60, 64, 67, 0.3), 0px 1px 3px 1px rgba(60, 64, 67, 0.15);\n",
              "      fill: #174EA6;\n",
              "    }\n",
              "\n",
              "    [theme=dark] .colab-df-convert {\n",
              "      background-color: #3B4455;\n",
              "      fill: #D2E3FC;\n",
              "    }\n",
              "\n",
              "    [theme=dark] .colab-df-convert:hover {\n",
              "      background-color: #434B5C;\n",
              "      box-shadow: 0px 1px 3px 1px rgba(0, 0, 0, 0.15);\n",
              "      filter: drop-shadow(0px 1px 2px rgba(0, 0, 0, 0.3));\n",
              "      fill: #FFFFFF;\n",
              "    }\n",
              "  </style>\n",
              "\n",
              "      <script>\n",
              "        const buttonEl =\n",
              "          document.querySelector('#df-45ade0f6-cf88-4e27-8456-d4a9e54fb6d6 button.colab-df-convert');\n",
              "        buttonEl.style.display =\n",
              "          google.colab.kernel.accessAllowed ? 'block' : 'none';\n",
              "\n",
              "        async function convertToInteractive(key) {\n",
              "          const element = document.querySelector('#df-45ade0f6-cf88-4e27-8456-d4a9e54fb6d6');\n",
              "          const dataTable =\n",
              "            await google.colab.kernel.invokeFunction('convertToInteractive',\n",
              "                                                     [key], {});\n",
              "          if (!dataTable) return;\n",
              "\n",
              "          const docLinkHtml = 'Like what you see? Visit the ' +\n",
              "            '<a target=\"_blank\" href=https://colab.research.google.com/notebooks/data_table.ipynb>data table notebook</a>'\n",
              "            + ' to learn more about interactive tables.';\n",
              "          element.innerHTML = '';\n",
              "          dataTable['output_type'] = 'display_data';\n",
              "          await google.colab.output.renderOutput(dataTable, element);\n",
              "          const docLink = document.createElement('div');\n",
              "          docLink.innerHTML = docLinkHtml;\n",
              "          element.appendChild(docLink);\n",
              "        }\n",
              "      </script>\n",
              "    </div>\n",
              "  </div>\n",
              "  "
            ]
          },
          "metadata": {},
          "execution_count": 6
        }
      ]
    },
    {
      "cell_type": "code",
      "source": [
        "col_keep.shape"
      ],
      "metadata": {
        "colab": {
          "base_uri": "https://localhost:8080/"
        },
        "id": "MPtll2ZLxtXb",
        "outputId": "03936564-4532-43f7-9b43-a0404646c16e"
      },
      "execution_count": null,
      "outputs": [
        {
          "output_type": "execute_result",
          "data": {
            "text/plain": [
              "(284807, 5)"
            ]
          },
          "metadata": {},
          "execution_count": 7
        }
      ]
    },
    {
      "cell_type": "code",
      "source": [
        "# Dividing the col_keep data into two parts: observation part and label part\n",
        "TR = col_keep.drop(['Class'], axis = 'columns')\n",
        "Label = col_keep['Class']"
      ],
      "metadata": {
        "id": "Y9ZjbYoWxyVD"
      },
      "execution_count": null,
      "outputs": []
    },
    {
      "cell_type": "code",
      "source": [
        "# Generate and plot imbalanced classification dataset\n",
        "# summarize class distribution\n",
        "counter_V = Counter(col_keep['Class'])\n",
        "print(counter_V)\n",
        "# scatter plot of examples by class label\n",
        "for label, _ in counter_V.items():\n",
        "\trow = where(col_keep['Class'] == label)[0]"
      ],
      "metadata": {
        "colab": {
          "base_uri": "https://localhost:8080/"
        },
        "id": "-Y8HCP9ZyEZp",
        "outputId": "1cf059f7-fdb8-47c7-e983-4cd16f82782d"
      },
      "execution_count": null,
      "outputs": [
        {
          "output_type": "stream",
          "name": "stdout",
          "text": [
            "Counter({0: 284315, 1: 492})\n"
          ]
        }
      ]
    },
    {
      "cell_type": "code",
      "source": [
        "# dataset transformation\n",
        "oversple = SMOTE()\n",
        "X_rw, y = oversple.fit_resample(TR, col_keep['Class'])\n",
        "# summarize the new class distribution\n",
        "counter_V1 = Counter(y)\n",
        "#print(counter_V1)\n",
        "# scatter plot of examples by class label\n",
        "for label, _ in counter_V1.items():\n",
        "\trow1 = where(y == label)[0]"
      ],
      "metadata": {
        "id": "qDFGLSXly_my"
      },
      "execution_count": null,
      "outputs": []
    },
    {
      "cell_type": "code",
      "source": [
        "# regularizing the data\n",
        "X_rw2 = StandardScaler().fit_transform(X_rw)\n",
        "X_rw2.shape"
      ],
      "metadata": {
        "colab": {
          "base_uri": "https://localhost:8080/"
        },
        "id": "5VK2eW9_zjts",
        "outputId": "21413ec4-c0ff-47b5-ac1a-41027d1a44c3"
      },
      "execution_count": null,
      "outputs": [
        {
          "output_type": "execute_result",
          "data": {
            "text/plain": [
              "(568630, 4)"
            ]
          },
          "metadata": {},
          "execution_count": 11
        }
      ]
    },
    {
      "cell_type": "code",
      "source": [
        "X_train,X_test,y_train,y_test = train_test_split(X_rw2, y, test_size=0.2)\n",
        "X_train.shape"
      ],
      "metadata": {
        "colab": {
          "base_uri": "https://localhost:8080/"
        },
        "id": "0FWtFAyv2EVq",
        "outputId": "67614b58-7ea3-4d7b-b06a-8091041ac1bb"
      },
      "execution_count": null,
      "outputs": [
        {
          "output_type": "execute_result",
          "data": {
            "text/plain": [
              "(454904, 4)"
            ]
          },
          "metadata": {},
          "execution_count": 14
        }
      ]
    },
    {
      "cell_type": "code",
      "source": [
        "X_test.shape"
      ],
      "metadata": {
        "colab": {
          "base_uri": "https://localhost:8080/"
        },
        "id": "VQ74pDNO2Xfs",
        "outputId": "eef8c8b5-1b13-4d80-f835-f940aa6bf15c"
      },
      "execution_count": null,
      "outputs": [
        {
          "output_type": "execute_result",
          "data": {
            "text/plain": [
              "(113726, 4)"
            ]
          },
          "metadata": {},
          "execution_count": 15
        }
      ]
    },
    {
      "cell_type": "code",
      "source": [
        "# build the LSTM model\n",
        "np.random.seed(7)\n",
        "# train/test for transactions features\n",
        "train_LSTM_X=X_train\n",
        "val_LSTM_X=X_test\n",
        "\n",
        "# Reshape to 3D LSTM input[samples, timesteps, features]\n",
        "train_LSTM_X = train_LSTM_X.reshape((train_LSTM_X.shape[0], 1, train_LSTM_X.shape[1]))\n",
        "val_LSTM_X = val_LSTM_X.reshape((val_LSTM_X.shape[0], 1, val_LSTM_X.shape[1]))\n",
        "\n",
        "# train/test for labels\n",
        "train_LSTM_y=y_train\n",
        "val_LSTM_y=y_test"
      ],
      "metadata": {
        "id": "-3neosLS2t7w"
      },
      "execution_count": null,
      "outputs": []
    },
    {
      "cell_type": "code",
      "source": [
        "# expected input data shape: (batch_size, timesteps, data_dim)\n",
        "model = Sequential()\n",
        "model.add(LSTM(32,dropout=0.3,recurrent_dropout=0.2,return_sequences=True,input_shape=(1, 4)))  # returns a sequence of vectors of dimension 32\n",
        "model.add(LSTM(32,dropout=0.3,recurrent_dropout=0.2,return_sequences=True))  # returns a sequence of vectors of dimension 32\n",
        "model.add(Dense(1, activation='sigmoid'))\n",
        "model.compile(loss='binary_crossentropy', optimizer='adam', metrics=['accuracy'])"
      ],
      "metadata": {
        "id": "Za6w0e0W3az4"
      },
      "execution_count": null,
      "outputs": []
    },
    {
      "cell_type": "code",
      "source": [
        "train_model = model.fit(train_LSTM_X, train_LSTM_y, epochs = 100, batch_size = 10000, validation_data=(val_LSTM_X, val_LSTM_y))"
      ],
      "metadata": {
        "colab": {
          "base_uri": "https://localhost:8080/"
        },
        "id": "7K-B_ByJ6Fhm",
        "outputId": "7acf5202-e371-47d6-bcb3-bbe96eb3ebbf"
      },
      "execution_count": null,
      "outputs": [
        {
          "output_type": "stream",
          "name": "stdout",
          "text": [
            "Epoch 1/100\n",
            "46/46 [==============================] - 16s 195ms/step - loss: 0.6668 - accuracy: 0.7570 - val_loss: 0.6147 - val_accuracy: 0.8451\n",
            "Epoch 2/100\n",
            "46/46 [==============================] - 6s 120ms/step - loss: 0.5490 - accuracy: 0.8321 - val_loss: 0.4596 - val_accuracy: 0.8543\n",
            "Epoch 3/100\n",
            "46/46 [==============================] - 7s 149ms/step - loss: 0.4230 - accuracy: 0.8427 - val_loss: 0.3494 - val_accuracy: 0.8764\n",
            "Epoch 4/100\n",
            "46/46 [==============================] - 6s 131ms/step - loss: 0.3529 - accuracy: 0.8526 - val_loss: 0.2866 - val_accuracy: 0.8801\n",
            "Epoch 5/100\n",
            "46/46 [==============================] - 6s 132ms/step - loss: 0.3170 - accuracy: 0.8640 - val_loss: 0.2571 - val_accuracy: 0.8938\n",
            "Epoch 6/100\n",
            "46/46 [==============================] - 7s 162ms/step - loss: 0.2971 - accuracy: 0.8756 - val_loss: 0.2444 - val_accuracy: 0.8954\n",
            "Epoch 7/100\n",
            "46/46 [==============================] - 6s 121ms/step - loss: 0.2848 - accuracy: 0.8832 - val_loss: 0.2378 - val_accuracy: 0.8978\n",
            "Epoch 8/100\n",
            "46/46 [==============================] - 8s 168ms/step - loss: 0.2749 - accuracy: 0.8876 - val_loss: 0.2327 - val_accuracy: 0.8999\n",
            "Epoch 9/100\n",
            "46/46 [==============================] - 5s 114ms/step - loss: 0.2698 - accuracy: 0.8900 - val_loss: 0.2285 - val_accuracy: 0.9022\n",
            "Epoch 10/100\n",
            "46/46 [==============================] - 7s 147ms/step - loss: 0.2643 - accuracy: 0.8928 - val_loss: 0.2250 - val_accuracy: 0.9037\n",
            "Epoch 11/100\n",
            "46/46 [==============================] - 7s 152ms/step - loss: 0.2604 - accuracy: 0.8937 - val_loss: 0.2227 - val_accuracy: 0.9046\n",
            "Epoch 12/100\n",
            "46/46 [==============================] - 6s 132ms/step - loss: 0.2578 - accuracy: 0.8954 - val_loss: 0.2207 - val_accuracy: 0.9056\n",
            "Epoch 13/100\n",
            "46/46 [==============================] - 7s 155ms/step - loss: 0.2559 - accuracy: 0.8961 - val_loss: 0.2188 - val_accuracy: 0.9073\n",
            "Epoch 14/100\n",
            "46/46 [==============================] - 6s 119ms/step - loss: 0.2530 - accuracy: 0.8974 - val_loss: 0.2172 - val_accuracy: 0.9085\n",
            "Epoch 15/100\n",
            "46/46 [==============================] - 7s 164ms/step - loss: 0.2501 - accuracy: 0.8987 - val_loss: 0.2161 - val_accuracy: 0.9086\n",
            "Epoch 16/100\n",
            "46/46 [==============================] - 5s 117ms/step - loss: 0.2493 - accuracy: 0.8989 - val_loss: 0.2141 - val_accuracy: 0.9115\n",
            "Epoch 17/100\n",
            "46/46 [==============================] - 7s 156ms/step - loss: 0.2475 - accuracy: 0.8991 - val_loss: 0.2137 - val_accuracy: 0.9110\n",
            "Epoch 18/100\n",
            "46/46 [==============================] - 6s 127ms/step - loss: 0.2467 - accuracy: 0.9001 - val_loss: 0.2127 - val_accuracy: 0.9119\n",
            "Epoch 19/100\n",
            "46/46 [==============================] - 6s 120ms/step - loss: 0.2456 - accuracy: 0.9002 - val_loss: 0.2123 - val_accuracy: 0.9119\n",
            "Epoch 20/100\n",
            "46/46 [==============================] - 7s 154ms/step - loss: 0.2447 - accuracy: 0.9008 - val_loss: 0.2112 - val_accuracy: 0.9136\n",
            "Epoch 21/100\n",
            "46/46 [==============================] - 6s 126ms/step - loss: 0.2443 - accuracy: 0.9009 - val_loss: 0.2110 - val_accuracy: 0.9132\n",
            "Epoch 22/100\n",
            "46/46 [==============================] - 8s 169ms/step - loss: 0.2424 - accuracy: 0.9016 - val_loss: 0.2104 - val_accuracy: 0.9141\n",
            "Epoch 23/100\n",
            "46/46 [==============================] - 6s 124ms/step - loss: 0.2424 - accuracy: 0.9016 - val_loss: 0.2099 - val_accuracy: 0.9145\n",
            "Epoch 24/100\n",
            "46/46 [==============================] - 8s 171ms/step - loss: 0.2414 - accuracy: 0.9017 - val_loss: 0.2091 - val_accuracy: 0.9165\n",
            "Epoch 25/100\n",
            "46/46 [==============================] - 6s 123ms/step - loss: 0.2408 - accuracy: 0.9023 - val_loss: 0.2088 - val_accuracy: 0.9163\n",
            "Epoch 26/100\n",
            "46/46 [==============================] - 7s 159ms/step - loss: 0.2408 - accuracy: 0.9024 - val_loss: 0.2085 - val_accuracy: 0.9167\n",
            "Epoch 27/100\n",
            "46/46 [==============================] - 6s 133ms/step - loss: 0.2398 - accuracy: 0.9025 - val_loss: 0.2084 - val_accuracy: 0.9163\n",
            "Epoch 28/100\n",
            "46/46 [==============================] - 6s 131ms/step - loss: 0.2394 - accuracy: 0.9022 - val_loss: 0.2079 - val_accuracy: 0.9172\n",
            "Epoch 29/100\n",
            "46/46 [==============================] - 8s 170ms/step - loss: 0.2389 - accuracy: 0.9027 - val_loss: 0.2082 - val_accuracy: 0.9163\n",
            "Epoch 30/100\n",
            "46/46 [==============================] - 6s 122ms/step - loss: 0.2383 - accuracy: 0.9029 - val_loss: 0.2074 - val_accuracy: 0.9177\n",
            "Epoch 31/100\n",
            "46/46 [==============================] - 8s 169ms/step - loss: 0.2383 - accuracy: 0.9025 - val_loss: 0.2075 - val_accuracy: 0.9172\n",
            "Epoch 32/100\n",
            "46/46 [==============================] - 6s 125ms/step - loss: 0.2370 - accuracy: 0.9038 - val_loss: 0.2072 - val_accuracy: 0.9171\n",
            "Epoch 33/100\n",
            "46/46 [==============================] - 7s 162ms/step - loss: 0.2373 - accuracy: 0.9034 - val_loss: 0.2072 - val_accuracy: 0.9173\n",
            "Epoch 34/100\n",
            "46/46 [==============================] - 6s 132ms/step - loss: 0.2366 - accuracy: 0.9036 - val_loss: 0.2070 - val_accuracy: 0.9171\n",
            "Epoch 35/100\n",
            "46/46 [==============================] - 7s 151ms/step - loss: 0.2354 - accuracy: 0.9047 - val_loss: 0.2064 - val_accuracy: 0.9186\n",
            "Epoch 36/100\n",
            "46/46 [==============================] - 6s 129ms/step - loss: 0.2359 - accuracy: 0.9045 - val_loss: 0.2063 - val_accuracy: 0.9187\n",
            "Epoch 37/100\n",
            "46/46 [==============================] - 6s 122ms/step - loss: 0.2354 - accuracy: 0.9045 - val_loss: 0.2061 - val_accuracy: 0.9195\n",
            "Epoch 38/100\n",
            "46/46 [==============================] - 8s 165ms/step - loss: 0.2356 - accuracy: 0.9042 - val_loss: 0.2059 - val_accuracy: 0.9197\n",
            "Epoch 39/100\n",
            "46/46 [==============================] - 6s 120ms/step - loss: 0.2347 - accuracy: 0.9047 - val_loss: 0.2059 - val_accuracy: 0.9192\n",
            "Epoch 40/100\n",
            "46/46 [==============================] - 8s 171ms/step - loss: 0.2346 - accuracy: 0.9045 - val_loss: 0.2057 - val_accuracy: 0.9196\n",
            "Epoch 41/100\n",
            "46/46 [==============================] - 6s 122ms/step - loss: 0.2344 - accuracy: 0.9045 - val_loss: 0.2055 - val_accuracy: 0.9198\n",
            "Epoch 42/100\n",
            "46/46 [==============================] - 7s 160ms/step - loss: 0.2338 - accuracy: 0.9050 - val_loss: 0.2053 - val_accuracy: 0.9200\n",
            "Epoch 43/100\n",
            "46/46 [==============================] - 6s 123ms/step - loss: 0.2341 - accuracy: 0.9050 - val_loss: 0.2052 - val_accuracy: 0.9201\n",
            "Epoch 44/100\n",
            "46/46 [==============================] - 6s 126ms/step - loss: 0.2340 - accuracy: 0.9050 - val_loss: 0.2052 - val_accuracy: 0.9199\n",
            "Epoch 45/100\n",
            "46/46 [==============================] - 7s 149ms/step - loss: 0.2335 - accuracy: 0.9052 - val_loss: 0.2049 - val_accuracy: 0.9202\n",
            "Epoch 46/100\n",
            "46/46 [==============================] - 5s 116ms/step - loss: 0.2334 - accuracy: 0.9050 - val_loss: 0.2049 - val_accuracy: 0.9201\n",
            "Epoch 47/100\n",
            "46/46 [==============================] - 7s 163ms/step - loss: 0.2329 - accuracy: 0.9052 - val_loss: 0.2046 - val_accuracy: 0.9199\n",
            "Epoch 48/100\n",
            "46/46 [==============================] - 5s 116ms/step - loss: 0.2328 - accuracy: 0.9053 - val_loss: 0.2044 - val_accuracy: 0.9200\n",
            "Epoch 49/100\n",
            "46/46 [==============================] - 7s 145ms/step - loss: 0.2329 - accuracy: 0.9052 - val_loss: 0.2045 - val_accuracy: 0.9201\n",
            "Epoch 50/100\n",
            "46/46 [==============================] - 6s 133ms/step - loss: 0.2326 - accuracy: 0.9052 - val_loss: 0.2043 - val_accuracy: 0.9201\n",
            "Epoch 51/100\n",
            "46/46 [==============================] - 5s 118ms/step - loss: 0.2318 - accuracy: 0.9065 - val_loss: 0.2042 - val_accuracy: 0.9201\n",
            "Epoch 52/100\n",
            "46/46 [==============================] - 8s 168ms/step - loss: 0.2312 - accuracy: 0.9064 - val_loss: 0.2036 - val_accuracy: 0.9203\n",
            "Epoch 53/100\n",
            "46/46 [==============================] - 5s 117ms/step - loss: 0.2321 - accuracy: 0.9058 - val_loss: 0.2040 - val_accuracy: 0.9202\n",
            "Epoch 54/100\n",
            "46/46 [==============================] - 7s 162ms/step - loss: 0.2313 - accuracy: 0.9059 - val_loss: 0.2036 - val_accuracy: 0.9202\n",
            "Epoch 55/100\n",
            "46/46 [==============================] - 5s 116ms/step - loss: 0.2314 - accuracy: 0.9058 - val_loss: 0.2033 - val_accuracy: 0.9204\n",
            "Epoch 56/100\n",
            "46/46 [==============================] - 6s 138ms/step - loss: 0.2312 - accuracy: 0.9063 - val_loss: 0.2031 - val_accuracy: 0.9207\n",
            "Epoch 57/100\n",
            "46/46 [==============================] - 7s 149ms/step - loss: 0.2308 - accuracy: 0.9063 - val_loss: 0.2031 - val_accuracy: 0.9204\n",
            "Epoch 58/100\n",
            "46/46 [==============================] - 6s 123ms/step - loss: 0.2313 - accuracy: 0.9058 - val_loss: 0.2029 - val_accuracy: 0.9206\n",
            "Epoch 59/100\n",
            "46/46 [==============================] - 8s 169ms/step - loss: 0.2308 - accuracy: 0.9066 - val_loss: 0.2028 - val_accuracy: 0.9204\n",
            "Epoch 60/100\n",
            "46/46 [==============================] - 6s 123ms/step - loss: 0.2301 - accuracy: 0.9063 - val_loss: 0.2026 - val_accuracy: 0.9205\n",
            "Epoch 61/100\n",
            "46/46 [==============================] - 8s 167ms/step - loss: 0.2305 - accuracy: 0.9062 - val_loss: 0.2025 - val_accuracy: 0.9204\n",
            "Epoch 62/100\n",
            "46/46 [==============================] - 6s 122ms/step - loss: 0.2297 - accuracy: 0.9065 - val_loss: 0.2021 - val_accuracy: 0.9205\n",
            "Epoch 63/100\n",
            "46/46 [==============================] - 7s 148ms/step - loss: 0.2292 - accuracy: 0.9067 - val_loss: 0.2019 - val_accuracy: 0.9207\n",
            "Epoch 64/100\n",
            "46/46 [==============================] - 6s 138ms/step - loss: 0.2290 - accuracy: 0.9068 - val_loss: 0.2015 - val_accuracy: 0.9207\n",
            "Epoch 65/100\n",
            "46/46 [==============================] - 6s 129ms/step - loss: 0.2292 - accuracy: 0.9066 - val_loss: 0.2015 - val_accuracy: 0.9206\n",
            "Epoch 66/100\n",
            "46/46 [==============================] - 7s 154ms/step - loss: 0.2293 - accuracy: 0.9066 - val_loss: 0.2015 - val_accuracy: 0.9205\n",
            "Epoch 67/100\n",
            "46/46 [==============================] - 6s 121ms/step - loss: 0.2288 - accuracy: 0.9067 - val_loss: 0.2012 - val_accuracy: 0.9204\n",
            "Epoch 68/100\n",
            "46/46 [==============================] - 8s 168ms/step - loss: 0.2287 - accuracy: 0.9070 - val_loss: 0.2009 - val_accuracy: 0.9207\n",
            "Epoch 69/100\n",
            "46/46 [==============================] - 6s 122ms/step - loss: 0.2289 - accuracy: 0.9072 - val_loss: 0.2010 - val_accuracy: 0.9206\n",
            "Epoch 70/100\n",
            "46/46 [==============================] - 8s 166ms/step - loss: 0.2286 - accuracy: 0.9065 - val_loss: 0.2010 - val_accuracy: 0.9205\n",
            "Epoch 71/100\n",
            "46/46 [==============================] - 6s 122ms/step - loss: 0.2277 - accuracy: 0.9075 - val_loss: 0.2002 - val_accuracy: 0.9204\n",
            "Epoch 72/100\n",
            "46/46 [==============================] - 6s 139ms/step - loss: 0.2282 - accuracy: 0.9071 - val_loss: 0.2001 - val_accuracy: 0.9205\n",
            "Epoch 73/100\n",
            "46/46 [==============================] - 7s 146ms/step - loss: 0.2276 - accuracy: 0.9069 - val_loss: 0.2000 - val_accuracy: 0.9206\n",
            "Epoch 74/100\n",
            "46/46 [==============================] - 6s 121ms/step - loss: 0.2278 - accuracy: 0.9073 - val_loss: 0.1997 - val_accuracy: 0.9205\n",
            "Epoch 75/100\n",
            "46/46 [==============================] - 8s 171ms/step - loss: 0.2273 - accuracy: 0.9073 - val_loss: 0.1997 - val_accuracy: 0.9206\n",
            "Epoch 76/100\n",
            "46/46 [==============================] - 6s 123ms/step - loss: 0.2269 - accuracy: 0.9073 - val_loss: 0.1991 - val_accuracy: 0.9206\n",
            "Epoch 77/100\n",
            "46/46 [==============================] - 8s 166ms/step - loss: 0.2264 - accuracy: 0.9075 - val_loss: 0.1989 - val_accuracy: 0.9206\n",
            "Epoch 78/100\n",
            "46/46 [==============================] - 6s 126ms/step - loss: 0.2267 - accuracy: 0.9073 - val_loss: 0.1987 - val_accuracy: 0.9208\n",
            "Epoch 79/100\n",
            "46/46 [==============================] - 7s 152ms/step - loss: 0.2257 - accuracy: 0.9077 - val_loss: 0.1983 - val_accuracy: 0.9208\n",
            "Epoch 80/100\n",
            "46/46 [==============================] - 6s 135ms/step - loss: 0.2265 - accuracy: 0.9076 - val_loss: 0.1983 - val_accuracy: 0.9210\n",
            "Epoch 81/100\n",
            "46/46 [==============================] - 6s 126ms/step - loss: 0.2259 - accuracy: 0.9076 - val_loss: 0.1979 - val_accuracy: 0.9214\n",
            "Epoch 82/100\n",
            "46/46 [==============================] - 7s 156ms/step - loss: 0.2250 - accuracy: 0.9079 - val_loss: 0.1976 - val_accuracy: 0.9219\n",
            "Epoch 83/100\n",
            "46/46 [==============================] - 6s 121ms/step - loss: 0.2251 - accuracy: 0.9083 - val_loss: 0.1974 - val_accuracy: 0.9217\n",
            "Epoch 84/100\n",
            "46/46 [==============================] - 8s 166ms/step - loss: 0.2246 - accuracy: 0.9083 - val_loss: 0.1973 - val_accuracy: 0.9214\n",
            "Epoch 85/100\n",
            "46/46 [==============================] - 6s 120ms/step - loss: 0.2246 - accuracy: 0.9079 - val_loss: 0.1965 - val_accuracy: 0.9218\n",
            "Epoch 86/100\n",
            "46/46 [==============================] - 7s 157ms/step - loss: 0.2250 - accuracy: 0.9079 - val_loss: 0.1968 - val_accuracy: 0.9217\n",
            "Epoch 87/100\n",
            "46/46 [==============================] - 6s 127ms/step - loss: 0.2239 - accuracy: 0.9084 - val_loss: 0.1963 - val_accuracy: 0.9219\n",
            "Epoch 88/100\n",
            "46/46 [==============================] - 6s 134ms/step - loss: 0.2242 - accuracy: 0.9082 - val_loss: 0.1962 - val_accuracy: 0.9220\n",
            "Epoch 89/100\n",
            "46/46 [==============================] - 7s 161ms/step - loss: 0.2238 - accuracy: 0.9084 - val_loss: 0.1956 - val_accuracy: 0.9221\n",
            "Epoch 90/100\n",
            "46/46 [==============================] - 6s 122ms/step - loss: 0.2237 - accuracy: 0.9081 - val_loss: 0.1956 - val_accuracy: 0.9224\n",
            "Epoch 91/100\n",
            "46/46 [==============================] - 8s 164ms/step - loss: 0.2235 - accuracy: 0.9083 - val_loss: 0.1955 - val_accuracy: 0.9222\n",
            "Epoch 92/100\n",
            "46/46 [==============================] - 6s 123ms/step - loss: 0.2234 - accuracy: 0.9083 - val_loss: 0.1952 - val_accuracy: 0.9223\n",
            "Epoch 93/100\n",
            "46/46 [==============================] - 8s 166ms/step - loss: 0.2229 - accuracy: 0.9087 - val_loss: 0.1954 - val_accuracy: 0.9223\n",
            "Epoch 94/100\n",
            "46/46 [==============================] - 6s 123ms/step - loss: 0.2223 - accuracy: 0.9088 - val_loss: 0.1948 - val_accuracy: 0.9225\n",
            "Epoch 95/100\n",
            "46/46 [==============================] - 7s 151ms/step - loss: 0.2228 - accuracy: 0.9082 - val_loss: 0.1945 - val_accuracy: 0.9225\n",
            "Epoch 96/100\n",
            "46/46 [==============================] - 6s 133ms/step - loss: 0.2228 - accuracy: 0.9085 - val_loss: 0.1943 - val_accuracy: 0.9225\n",
            "Epoch 97/100\n",
            "46/46 [==============================] - 5s 119ms/step - loss: 0.2221 - accuracy: 0.9090 - val_loss: 0.1944 - val_accuracy: 0.9226\n",
            "Epoch 98/100\n",
            "46/46 [==============================] - 7s 159ms/step - loss: 0.2217 - accuracy: 0.9090 - val_loss: 0.1941 - val_accuracy: 0.9229\n",
            "Epoch 99/100\n",
            "46/46 [==============================] - 5s 119ms/step - loss: 0.2219 - accuracy: 0.9088 - val_loss: 0.1941 - val_accuracy: 0.9226\n",
            "Epoch 100/100\n",
            "46/46 [==============================] - 8s 167ms/step - loss: 0.2216 - accuracy: 0.9087 - val_loss: 0.1937 - val_accuracy: 0.9227\n"
          ]
        }
      ]
    },
    {
      "cell_type": "code",
      "source": [
        "# save model and architecture to single file\n",
        "model.save('Save_Model.h5')\n",
        "print(\"Saved model to disk\")\n",
        "\n",
        "# load model\n",
        "model = load_model('Save_Model.h5')\n",
        "# summarize model.\n",
        "model.summary()"
      ],
      "metadata": {
        "colab": {
          "base_uri": "https://localhost:8080/"
        },
        "id": "iRXfiBTV-Zj4",
        "outputId": "2736213f-c01f-4e87-d8d3-e56a18d4942a"
      },
      "execution_count": null,
      "outputs": [
        {
          "output_type": "stream",
          "name": "stdout",
          "text": [
            "Saved model to disk\n",
            "Model: \"sequential\"\n",
            "_________________________________________________________________\n",
            " Layer (type)                Output Shape              Param #   \n",
            "=================================================================\n",
            " lstm (LSTM)                 (None, 1, 32)             4736      \n",
            "                                                                 \n",
            " lstm_1 (LSTM)               (None, 1, 32)             8320      \n",
            "                                                                 \n",
            " dense (Dense)               (None, 1, 1)              33        \n",
            "                                                                 \n",
            "=================================================================\n",
            "Total params: 13,089\n",
            "Trainable params: 13,089\n",
            "Non-trainable params: 0\n",
            "_________________________________________________________________\n"
          ]
        }
      ]
    },
    {
      "cell_type": "code",
      "source": [
        "# LSTM model evaluation\n",
        "_, acc_tr = model.evaluate(train_LSTM_X, train_LSTM_y, verbose=0)\n",
        "_, acc_te = model.evaluate(val_LSTM_X, val_LSTM_y, verbose=0)\n",
        "print('Train: %.3f, Test: %.3f' % (acc_tr, acc_te))"
      ],
      "metadata": {
        "colab": {
          "base_uri": "https://localhost:8080/"
        },
        "id": "HbBRpP6k9VY5",
        "outputId": "b2b2a6de-f4a7-4cbb-8a76-0bfd0777ada6"
      },
      "execution_count": null,
      "outputs": [
        {
          "output_type": "stream",
          "name": "stdout",
          "text": [
            "Train: 0.922, Test: 0.923\n"
          ]
        }
      ]
    },
    {
      "cell_type": "code",
      "source": [
        "# plot loss during training\n",
        "pyplot.subplot(211)\n",
        "pyplot.title('Loss')\n",
        "pyplot.plot(train_model.history['loss'], label='train')\n",
        "pyplot.plot(train_model.history['val_loss'], label='test')\n",
        "pyplot.legend()\n",
        "# plot accuracy during training\n",
        "pyplot.subplot(212)\n",
        "pyplot.title('Accuracy')\n",
        "pyplot.plot(train_model.history['accuracy'], label='train')\n",
        "pyplot.plot(train_model.history['val_accuracy'], label='test')\n",
        "pyplot.legend()\n",
        "pyplot.show()"
      ],
      "metadata": {
        "colab": {
          "base_uri": "https://localhost:8080/",
          "height": 452
        },
        "id": "ilz9fmFS-S36",
        "outputId": "7237ee02-0b15-484a-e3a0-f45a183bc6f1"
      },
      "execution_count": null,
      "outputs": [
        {
          "output_type": "display_data",
          "data": {
            "text/plain": [
              "<Figure size 640x480 with 2 Axes>"
            ],
            "image/png": "[encoded data removed]"
          },
          "metadata": {}
        }
      ]
    },
    {
      "cell_type": "code",
      "source": [
        "# predict probabilities for test set\n",
        "yh_probs = model.predict(val_LSTM_X, verbose=0)\n",
        "# reduce to 1d array\n",
        "yh_probs = yh_probs[:, 0]"
      ],
      "metadata": {
        "id": "d6Z7iE4z_clZ"
      },
      "execution_count": null,
      "outputs": []
    },
    {
      "cell_type": "code",
      "source": [
        "# Set threshold for decision boundary\n",
        "threshold = 0.5\n",
        "\n",
        "# Convert predicted probabilities to class labels using the threshold\n",
        "yh_predictions = (yh_probs > threshold).astype(int)\n",
        "\n",
        "# Print the predicted class labels for the first ten test samples\n",
        "print(yh_predictions[:10])"
      ],
      "metadata": {
        "colab": {
          "base_uri": "https://localhost:8080/"
        },
        "id": "4sueme48_fTt",
        "outputId": "6ee44d9f-61d2-4b57-adab-537b110ca36e"
      },
      "execution_count": null,
      "outputs": [
        {
          "output_type": "stream",
          "name": "stdout",
          "text": [
            "[[1]\n",
            " [1]\n",
            " [1]\n",
            " [0]\n",
            " [0]\n",
            " [0]\n",
            " [0]\n",
            " [0]\n",
            " [0]\n",
            " [1]]\n"
          ]
        }
      ]
    },
    {
      "cell_type": "code",
      "source": [
        "# Model evaluation metrics for LSTM\n",
        "\n",
        "# accuracy: (tp + tn) / (p + n)\n",
        "accuracy = accuracy_score(val_LSTM_y, yh_predictions)\n",
        "print('Accuracy: %f' % accuracy)\n",
        "# precision tp / (tp + fp)\n",
        "precision = precision_score(val_LSTM_y, yh_predictions)\n",
        "print('Precision: %f' % precision)\n",
        "# recall: tp / (tp + fn)\n",
        "recall = recall_score(val_LSTM_y, yh_predictions)\n",
        "print('Recall: %f' % recall)"
      ],
      "metadata": {
        "colab": {
          "base_uri": "https://localhost:8080/"
        },
        "id": "nUggRsJM_3v6",
        "outputId": "539777e6-cc4b-47b5-9f7b-b241b71360af"
      },
      "execution_count": null,
      "outputs": [
        {
          "output_type": "stream",
          "name": "stdout",
          "text": [
            "Accuracy: 0.922656\n",
            "Precision: 0.957857\n",
            "Recall: 0.884084\n"
          ]
        }
      ]
    },
    {
      "cell_type": "code",
      "source": [
        "mt = confusion_matrix(y_true=val_LSTM_y, y_pred=yh_predictions)"
      ],
      "metadata": {
        "id": "l-NJj6B9AAfY"
      },
      "execution_count": null,
      "outputs": []
    },
    {
      "cell_type": "code",
      "source": [
        "def confusion_matrix_graph(mt, classes,\n",
        "                        normalize=False,\n",
        "                        title='Confusion matrix',\n",
        "                        cmap=plt.cm.Blues):\n",
        "    \"\"\"\n",
        "    This function prints the confusion matrix graph.\n",
        "    \"\"\"\n",
        "    plt.imshow(mt, interpolation='nearest', cmap=cmap)\n",
        "    plt.title(title)\n",
        "    plt.colorbar()\n",
        "    tick_marks = np.arange(len(classes))\n",
        "    plt.xticks(tick_marks, classes, rotation=45)\n",
        "    plt.yticks(tick_marks, classes)\n",
        "\n",
        "    if normalize:\n",
        "        mt = mt.astype('float') / mt.sum(axis=1)[:, np.newaxis]\n",
        "        print(\"Normalized confusion matrix\")\n",
        "    else:\n",
        "        print('Confusion matrix, without normalization')\n",
        "\n",
        "    print(mt)\n",
        "\n",
        "    thresh = mt.max() / 2.\n",
        "    for i, j in itertools.product(range(mt.shape[0]), range(mt.shape[1])):\n",
        "        plt.text(j, i, mt[i, j],\n",
        "            horizontalalignment=\"center\",\n",
        "            color=\"white\" if mt[i, j] > thresh else \"black\")\n",
        "\n",
        "    plt.tight_layout()\n",
        "    plt.ylabel('True')\n",
        "    plt.xlabel('Prediction')\n",
        "labels = ['Normal','Fraud']"
      ],
      "metadata": {
        "id": "2e3WxN1HAIeY"
      },
      "execution_count": null,
      "outputs": []
    },
    {
      "cell_type": "code",
      "source": [
        "confusion_matrix_graph(mt=mt, classes=labels, title='LSTM model evaluation')"
      ],
      "metadata": {
        "colab": {
          "base_uri": "https://localhost:8080/",
          "height": 557
        },
        "id": "w1cEc1tdAJOJ",
        "outputId": "5c76c2a7-8c7d-4053-f07d-ea5c3a17c3b2"
      },
      "execution_count": null,
      "outputs": [
        {
          "output_type": "stream",
          "name": "stdout",
          "text": [
            "Confusion matrix, without normalization\n",
            "[[54699  2210]\n",
            " [ 6586 50231]]\n"
          ]
        },
        {
          "output_type": "display_data",
          "data": {
            "text/plain": [
              "<Figure size 640x480 with 2 Axes>"
            ],
            "image/png": "[encoded data removed]"
          },
          "metadata": {}
        }
      ]
    },
    {
      "cell_type": "code",
      "source": [
        "# Build attention mechanism layer\n",
        "class attention_mechanism(Layer):\n",
        "    def __init__(self,**kwargs):\n",
        "        super(attention_mechanism,self).__init__(**kwargs)\n",
        "\n",
        "    def build(self,input_shape):\n",
        "        self.W=self.add_weight(name=\"att_weight\",shape=(input_shape[-1],1),initializer=\"normal\")\n",
        "        self.b=self.add_weight(name=\"att_bias\",shape=(input_shape[1],1),initializer=\"zeros\")        \n",
        "        super(attention_mechanism, self).build(input_shape)\n",
        "\n",
        "    def call(self,x):\n",
        "        et=K.squeeze(K.tanh(K.dot(x,self.W)+self.b),axis=-1)\n",
        "        at=K.softmax(et)\n",
        "        at=K.expand_dims(at,axis=-1)\n",
        "        output=x*at\n",
        "        return K.sum(output,axis=1)\n",
        "\n",
        "    def compute_output_shape(self,input_shape):\n",
        "        return (input_shape[0],input_shape[-1])\n",
        "\n",
        "    def get_config(self):\n",
        "        return super(attention_mechanism,self).get_config()"
      ],
      "metadata": {
        "id": "g5EfxOCqCf4S"
      },
      "execution_count": null,
      "outputs": []
    },
    {
      "cell_type": "code",
      "source": [
        "# build LSTM model with attention mechanism layer\n",
        "model1 = Sequential()\n",
        "model1.add(LSTM(32,dropout=0.3,recurrent_dropout=0.2,return_sequences=True,input_shape=(1, 4)))  # returns a sequence of vectors of dimension 32\n",
        "model1.add(LSTM(32,dropout=0.3,recurrent_dropout=0.2,return_sequences=True))  # returns a sequence of vectors of dimension 32\n",
        "model1.add(attention_mechanism())\n",
        "model1.add(Dense(1, activation='sigmoid'))\n",
        "model1.compile(loss='binary_crossentropy', optimizer='adam', metrics=['accuracy'])"
      ],
      "metadata": {
        "id": "PDdb-tIQDR7t"
      },
      "execution_count": null,
      "outputs": []
    },
    {
      "cell_type": "code",
      "source": [
        "train_model1=model1.fit(train_LSTM_X, train_LSTM_y,epochs=100,batch_size=10000, validation_data=(val_LSTM_X, val_LSTM_y))"
      ],
      "metadata": {
        "colab": {
          "base_uri": "https://localhost:8080/"
        },
        "id": "mlvQTggBDslS",
        "outputId": "1604b1e3-252e-497a-aea3-325e0dd0f899"
      },
      "execution_count": null,
      "outputs": [
        {
          "output_type": "stream",
          "name": "stdout",
          "text": [
            "Epoch 1/100\n",
            "46/46 [==============================] - 17s 209ms/step - loss: 0.6517 - accuracy: 0.8208 - val_loss: 0.5927 - val_accuracy: 0.8304\n",
            "Epoch 2/100\n",
            "46/46 [==============================] - 6s 124ms/step - loss: 0.5309 - accuracy: 0.8269 - val_loss: 0.4477 - val_accuracy: 0.8445\n",
            "Epoch 3/100\n",
            "46/46 [==============================] - 7s 162ms/step - loss: 0.4139 - accuracy: 0.8421 - val_loss: 0.3398 - val_accuracy: 0.8742\n",
            "Epoch 4/100\n",
            "46/46 [==============================] - 5s 119ms/step - loss: 0.3437 - accuracy: 0.8538 - val_loss: 0.2755 - val_accuracy: 0.8888\n",
            "Epoch 5/100\n",
            "46/46 [==============================] - 6s 133ms/step - loss: 0.3118 - accuracy: 0.8658 - val_loss: 0.2507 - val_accuracy: 0.8953\n",
            "Epoch 6/100\n",
            "46/46 [==============================] - 7s 144ms/step - loss: 0.2952 - accuracy: 0.8763 - val_loss: 0.2400 - val_accuracy: 0.8964\n",
            "Epoch 7/100\n",
            "46/46 [==============================] - 5s 119ms/step - loss: 0.2844 - accuracy: 0.8824 - val_loss: 0.2343 - val_accuracy: 0.8985\n",
            "Epoch 8/100\n",
            "46/46 [==============================] - 7s 163ms/step - loss: 0.2750 - accuracy: 0.8880 - val_loss: 0.2293 - val_accuracy: 0.9004\n",
            "Epoch 9/100\n",
            "46/46 [==============================] - 5s 119ms/step - loss: 0.2690 - accuracy: 0.8905 - val_loss: 0.2256 - val_accuracy: 0.9023\n",
            "Epoch 10/100\n",
            "46/46 [==============================] - 7s 158ms/step - loss: 0.2645 - accuracy: 0.8920 - val_loss: 0.2228 - val_accuracy: 0.9036\n",
            "Epoch 11/100\n",
            "46/46 [==============================] - 6s 118ms/step - loss: 0.2608 - accuracy: 0.8935 - val_loss: 0.2208 - val_accuracy: 0.9047\n",
            "Epoch 12/100\n",
            "46/46 [==============================] - 6s 128ms/step - loss: 0.2578 - accuracy: 0.8949 - val_loss: 0.2188 - val_accuracy: 0.9060\n",
            "Epoch 13/100\n",
            "46/46 [==============================] - 7s 150ms/step - loss: 0.2563 - accuracy: 0.8955 - val_loss: 0.2176 - val_accuracy: 0.9063\n",
            "Epoch 14/100\n",
            "46/46 [==============================] - 6s 123ms/step - loss: 0.2537 - accuracy: 0.8967 - val_loss: 0.2163 - val_accuracy: 0.9074\n",
            "Epoch 15/100\n",
            "46/46 [==============================] - 8s 181ms/step - loss: 0.2525 - accuracy: 0.8972 - val_loss: 0.2149 - val_accuracy: 0.9086\n",
            "Epoch 16/100\n",
            "46/46 [==============================] - 5s 115ms/step - loss: 0.2511 - accuracy: 0.8977 - val_loss: 0.2144 - val_accuracy: 0.9089\n",
            "Epoch 17/100\n",
            "46/46 [==============================] - 7s 161ms/step - loss: 0.2500 - accuracy: 0.8984 - val_loss: 0.2136 - val_accuracy: 0.9094\n",
            "Epoch 18/100\n",
            "46/46 [==============================] - 6s 121ms/step - loss: 0.2493 - accuracy: 0.8987 - val_loss: 0.2133 - val_accuracy: 0.9094\n",
            "Epoch 19/100\n",
            "46/46 [==============================] - 6s 137ms/step - loss: 0.2481 - accuracy: 0.8989 - val_loss: 0.2124 - val_accuracy: 0.9107\n",
            "Epoch 20/100\n",
            "46/46 [==============================] - 7s 142ms/step - loss: 0.2469 - accuracy: 0.9001 - val_loss: 0.2120 - val_accuracy: 0.9108\n",
            "Epoch 21/100\n",
            "46/46 [==============================] - 5s 118ms/step - loss: 0.2457 - accuracy: 0.9001 - val_loss: 0.2109 - val_accuracy: 0.9124\n",
            "Epoch 22/100\n",
            "46/46 [==============================] - 7s 163ms/step - loss: 0.2450 - accuracy: 0.9004 - val_loss: 0.2108 - val_accuracy: 0.9123\n",
            "Epoch 23/100\n",
            "46/46 [==============================] - 6s 121ms/step - loss: 0.2443 - accuracy: 0.9010 - val_loss: 0.2106 - val_accuracy: 0.9121\n",
            "Epoch 24/100\n",
            "46/46 [==============================] - 7s 163ms/step - loss: 0.2441 - accuracy: 0.9009 - val_loss: 0.2099 - val_accuracy: 0.9132\n",
            "Epoch 25/100\n",
            "46/46 [==============================] - 6s 122ms/step - loss: 0.2434 - accuracy: 0.9009 - val_loss: 0.2095 - val_accuracy: 0.9133\n",
            "Epoch 26/100\n",
            "46/46 [==============================] - 6s 139ms/step - loss: 0.2426 - accuracy: 0.9018 - val_loss: 0.2090 - val_accuracy: 0.9138\n",
            "Epoch 27/100\n",
            "46/46 [==============================] - 7s 146ms/step - loss: 0.2417 - accuracy: 0.9018 - val_loss: 0.2092 - val_accuracy: 0.9134\n",
            "Epoch 28/100\n",
            "46/46 [==============================] - 5s 119ms/step - loss: 0.2407 - accuracy: 0.9024 - val_loss: 0.2084 - val_accuracy: 0.9145\n",
            "Epoch 29/100\n",
            "46/46 [==============================] - 8s 169ms/step - loss: 0.2411 - accuracy: 0.9017 - val_loss: 0.2087 - val_accuracy: 0.9140\n",
            "Epoch 30/100\n",
            "46/46 [==============================] - 6s 125ms/step - loss: 0.2401 - accuracy: 0.9024 - val_loss: 0.2084 - val_accuracy: 0.9143\n",
            "Epoch 31/100\n",
            "46/46 [==============================] - 8s 170ms/step - loss: 0.2398 - accuracy: 0.9025 - val_loss: 0.2078 - val_accuracy: 0.9150\n",
            "Epoch 32/100\n",
            "46/46 [==============================] - 6s 123ms/step - loss: 0.2392 - accuracy: 0.9028 - val_loss: 0.2080 - val_accuracy: 0.9147\n",
            "Epoch 33/100\n",
            "46/46 [==============================] - 7s 145ms/step - loss: 0.2386 - accuracy: 0.9031 - val_loss: 0.2072 - val_accuracy: 0.9158\n",
            "Epoch 34/100\n",
            "46/46 [==============================] - 6s 132ms/step - loss: 0.2382 - accuracy: 0.9030 - val_loss: 0.2071 - val_accuracy: 0.9156\n",
            "Epoch 35/100\n",
            "46/46 [==============================] - 5s 115ms/step - loss: 0.2375 - accuracy: 0.9037 - val_loss: 0.2072 - val_accuracy: 0.9152\n",
            "Epoch 36/100\n",
            "46/46 [==============================] - 7s 158ms/step - loss: 0.2372 - accuracy: 0.9042 - val_loss: 0.2065 - val_accuracy: 0.9168\n",
            "Epoch 37/100\n",
            "46/46 [==============================] - 5s 113ms/step - loss: 0.2369 - accuracy: 0.9041 - val_loss: 0.2065 - val_accuracy: 0.9163\n",
            "Epoch 38/100\n",
            "46/46 [==============================] - 7s 143ms/step - loss: 0.2363 - accuracy: 0.9043 - val_loss: 0.2063 - val_accuracy: 0.9174\n",
            "Epoch 39/100\n",
            "46/46 [==============================] - 6s 127ms/step - loss: 0.2363 - accuracy: 0.9044 - val_loss: 0.2064 - val_accuracy: 0.9166\n",
            "Epoch 40/100\n",
            "46/46 [==============================] - 5s 113ms/step - loss: 0.2359 - accuracy: 0.9044 - val_loss: 0.2058 - val_accuracy: 0.9177\n",
            "Epoch 41/100\n",
            "46/46 [==============================] - 7s 158ms/step - loss: 0.2355 - accuracy: 0.9045 - val_loss: 0.2056 - val_accuracy: 0.9178\n",
            "Epoch 42/100\n",
            "46/46 [==============================] - 5s 118ms/step - loss: 0.2351 - accuracy: 0.9046 - val_loss: 0.2055 - val_accuracy: 0.9181\n",
            "Epoch 43/100\n",
            "46/46 [==============================] - 7s 155ms/step - loss: 0.2354 - accuracy: 0.9045 - val_loss: 0.2054 - val_accuracy: 0.9184\n",
            "Epoch 44/100\n",
            "46/46 [==============================] - 6s 118ms/step - loss: 0.2346 - accuracy: 0.9051 - val_loss: 0.2054 - val_accuracy: 0.9180\n",
            "Epoch 45/100\n",
            "46/46 [==============================] - 6s 136ms/step - loss: 0.2340 - accuracy: 0.9053 - val_loss: 0.2053 - val_accuracy: 0.9182\n",
            "Epoch 46/100\n",
            "46/46 [==============================] - 7s 148ms/step - loss: 0.2346 - accuracy: 0.9048 - val_loss: 0.2049 - val_accuracy: 0.9192\n",
            "Epoch 47/100\n",
            "46/46 [==============================] - 5s 119ms/step - loss: 0.2345 - accuracy: 0.9047 - val_loss: 0.2047 - val_accuracy: 0.9194\n",
            "Epoch 48/100\n",
            "46/46 [==============================] - 7s 161ms/step - loss: 0.2339 - accuracy: 0.9050 - val_loss: 0.2045 - val_accuracy: 0.9196\n",
            "Epoch 49/100\n",
            "46/46 [==============================] - 5s 116ms/step - loss: 0.2335 - accuracy: 0.9057 - val_loss: 0.2043 - val_accuracy: 0.9199\n",
            "Epoch 50/100\n",
            "46/46 [==============================] - 7s 143ms/step - loss: 0.2331 - accuracy: 0.9054 - val_loss: 0.2040 - val_accuracy: 0.9203\n",
            "Epoch 51/100\n",
            "46/46 [==============================] - 6s 132ms/step - loss: 0.2326 - accuracy: 0.9056 - val_loss: 0.2040 - val_accuracy: 0.9197\n",
            "Epoch 52/100\n",
            "46/46 [==============================] - 5s 119ms/step - loss: 0.2331 - accuracy: 0.9055 - val_loss: 0.2040 - val_accuracy: 0.9203\n",
            "Epoch 53/100\n",
            "46/46 [==============================] - 7s 162ms/step - loss: 0.2319 - accuracy: 0.9062 - val_loss: 0.2038 - val_accuracy: 0.9199\n",
            "Epoch 54/100\n",
            "46/46 [==============================] - 5s 118ms/step - loss: 0.2321 - accuracy: 0.9058 - val_loss: 0.2033 - val_accuracy: 0.9206\n",
            "Epoch 55/100\n",
            "46/46 [==============================] - 8s 164ms/step - loss: 0.2315 - accuracy: 0.9062 - val_loss: 0.2033 - val_accuracy: 0.9201\n",
            "Epoch 56/100\n",
            "46/46 [==============================] - 5s 117ms/step - loss: 0.2320 - accuracy: 0.9062 - val_loss: 0.2030 - val_accuracy: 0.9207\n",
            "Epoch 57/100\n",
            "46/46 [==============================] - 7s 146ms/step - loss: 0.2313 - accuracy: 0.9065 - val_loss: 0.2030 - val_accuracy: 0.9204\n",
            "Epoch 58/100\n",
            "46/46 [==============================] - 6s 135ms/step - loss: 0.2315 - accuracy: 0.9062 - val_loss: 0.2026 - val_accuracy: 0.9207\n",
            "Epoch 59/100\n",
            "46/46 [==============================] - 6s 119ms/step - loss: 0.2303 - accuracy: 0.9066 - val_loss: 0.2025 - val_accuracy: 0.9206\n",
            "Epoch 60/100\n",
            "46/46 [==============================] - 7s 164ms/step - loss: 0.2303 - accuracy: 0.9073 - val_loss: 0.2023 - val_accuracy: 0.9206\n",
            "Epoch 61/100\n",
            "46/46 [==============================] - 5s 118ms/step - loss: 0.2304 - accuracy: 0.9065 - val_loss: 0.2021 - val_accuracy: 0.9207\n",
            "Epoch 62/100\n",
            "46/46 [==============================] - 8s 172ms/step - loss: 0.2299 - accuracy: 0.9066 - val_loss: 0.2019 - val_accuracy: 0.9206\n",
            "Epoch 63/100\n",
            "46/46 [==============================] - 6s 121ms/step - loss: 0.2301 - accuracy: 0.9072 - val_loss: 0.2019 - val_accuracy: 0.9206\n",
            "Epoch 64/100\n",
            "46/46 [==============================] - 7s 147ms/step - loss: 0.2296 - accuracy: 0.9072 - val_loss: 0.2017 - val_accuracy: 0.9208\n",
            "Epoch 65/100\n",
            "46/46 [==============================] - 6s 134ms/step - loss: 0.2293 - accuracy: 0.9069 - val_loss: 0.2012 - val_accuracy: 0.9210\n",
            "Epoch 66/100\n",
            "46/46 [==============================] - 6s 121ms/step - loss: 0.2287 - accuracy: 0.9071 - val_loss: 0.2008 - val_accuracy: 0.9208\n",
            "Epoch 67/100\n",
            "46/46 [==============================] - 7s 164ms/step - loss: 0.2285 - accuracy: 0.9071 - val_loss: 0.2008 - val_accuracy: 0.9208\n",
            "Epoch 68/100\n",
            "46/46 [==============================] - 5s 119ms/step - loss: 0.2293 - accuracy: 0.9071 - val_loss: 0.2008 - val_accuracy: 0.9209\n",
            "Epoch 69/100\n",
            "46/46 [==============================] - 8s 164ms/step - loss: 0.2284 - accuracy: 0.9074 - val_loss: 0.2003 - val_accuracy: 0.9208\n",
            "Epoch 70/100\n",
            "46/46 [==============================] - 6s 120ms/step - loss: 0.2284 - accuracy: 0.9069 - val_loss: 0.2006 - val_accuracy: 0.9210\n",
            "Epoch 71/100\n",
            "46/46 [==============================] - 7s 147ms/step - loss: 0.2278 - accuracy: 0.9074 - val_loss: 0.2000 - val_accuracy: 0.9209\n",
            "Epoch 72/100\n",
            "46/46 [==============================] - 6s 139ms/step - loss: 0.2273 - accuracy: 0.9080 - val_loss: 0.1999 - val_accuracy: 0.9210\n",
            "Epoch 73/100\n",
            "46/46 [==============================] - 6s 120ms/step - loss: 0.2275 - accuracy: 0.9075 - val_loss: 0.1996 - val_accuracy: 0.9211\n",
            "Epoch 74/100\n",
            "46/46 [==============================] - 7s 162ms/step - loss: 0.2275 - accuracy: 0.9073 - val_loss: 0.1995 - val_accuracy: 0.9211\n",
            "Epoch 75/100\n",
            "46/46 [==============================] - 6s 121ms/step - loss: 0.2273 - accuracy: 0.9075 - val_loss: 0.1991 - val_accuracy: 0.9209\n",
            "Epoch 76/100\n",
            "46/46 [==============================] - 8s 166ms/step - loss: 0.2267 - accuracy: 0.9081 - val_loss: 0.1989 - val_accuracy: 0.9210\n",
            "Epoch 77/100\n",
            "46/46 [==============================] - 6s 123ms/step - loss: 0.2260 - accuracy: 0.9079 - val_loss: 0.1986 - val_accuracy: 0.9210\n",
            "Epoch 78/100\n",
            "46/46 [==============================] - 7s 147ms/step - loss: 0.2259 - accuracy: 0.9076 - val_loss: 0.1982 - val_accuracy: 0.9211\n",
            "Epoch 79/100\n",
            "46/46 [==============================] - 6s 139ms/step - loss: 0.2255 - accuracy: 0.9082 - val_loss: 0.1979 - val_accuracy: 0.9216\n",
            "Epoch 80/100\n",
            "46/46 [==============================] - 6s 123ms/step - loss: 0.2257 - accuracy: 0.9078 - val_loss: 0.1976 - val_accuracy: 0.9215\n",
            "Epoch 81/100\n",
            "46/46 [==============================] - 7s 162ms/step - loss: 0.2248 - accuracy: 0.9080 - val_loss: 0.1975 - val_accuracy: 0.9214\n",
            "Epoch 82/100\n",
            "46/46 [==============================] - 5s 118ms/step - loss: 0.2250 - accuracy: 0.9080 - val_loss: 0.1974 - val_accuracy: 0.9219\n",
            "Epoch 83/100\n",
            "46/46 [==============================] - 7s 162ms/step - loss: 0.2240 - accuracy: 0.9087 - val_loss: 0.1969 - val_accuracy: 0.9217\n",
            "Epoch 84/100\n",
            "46/46 [==============================] - 6s 120ms/step - loss: 0.2241 - accuracy: 0.9084 - val_loss: 0.1967 - val_accuracy: 0.9219\n",
            "Epoch 85/100\n",
            "46/46 [==============================] - 7s 142ms/step - loss: 0.2241 - accuracy: 0.9082 - val_loss: 0.1964 - val_accuracy: 0.9220\n",
            "Epoch 86/100\n",
            "46/46 [==============================] - 7s 143ms/step - loss: 0.2243 - accuracy: 0.9081 - val_loss: 0.1963 - val_accuracy: 0.9219\n",
            "Epoch 87/100\n",
            "46/46 [==============================] - 6s 122ms/step - loss: 0.2238 - accuracy: 0.9088 - val_loss: 0.1959 - val_accuracy: 0.9222\n",
            "Epoch 88/100\n",
            "46/46 [==============================] - 7s 162ms/step - loss: 0.2236 - accuracy: 0.9087 - val_loss: 0.1961 - val_accuracy: 0.9223\n",
            "Epoch 89/100\n",
            "46/46 [==============================] - 6s 123ms/step - loss: 0.2228 - accuracy: 0.9086 - val_loss: 0.1956 - val_accuracy: 0.9222\n",
            "Epoch 90/100\n",
            "46/46 [==============================] - 7s 164ms/step - loss: 0.2223 - accuracy: 0.9088 - val_loss: 0.1951 - val_accuracy: 0.9223\n",
            "Epoch 91/100\n",
            "46/46 [==============================] - 6s 122ms/step - loss: 0.2225 - accuracy: 0.9092 - val_loss: 0.1951 - val_accuracy: 0.9223\n",
            "Epoch 92/100\n",
            "46/46 [==============================] - 7s 146ms/step - loss: 0.2224 - accuracy: 0.9091 - val_loss: 0.1949 - val_accuracy: 0.9224\n",
            "Epoch 93/100\n",
            "46/46 [==============================] - 6s 134ms/step - loss: 0.2226 - accuracy: 0.9086 - val_loss: 0.1944 - val_accuracy: 0.9224\n",
            "Epoch 94/100\n",
            "46/46 [==============================] - 6s 121ms/step - loss: 0.2221 - accuracy: 0.9088 - val_loss: 0.1943 - val_accuracy: 0.9226\n",
            "Epoch 95/100\n",
            "46/46 [==============================] - 8s 170ms/step - loss: 0.2218 - accuracy: 0.9088 - val_loss: 0.1941 - val_accuracy: 0.9226\n",
            "Epoch 96/100\n",
            "46/46 [==============================] - 6s 120ms/step - loss: 0.2219 - accuracy: 0.9090 - val_loss: 0.1943 - val_accuracy: 0.9228\n",
            "Epoch 97/100\n",
            "46/46 [==============================] - 8s 165ms/step - loss: 0.2214 - accuracy: 0.9094 - val_loss: 0.1936 - val_accuracy: 0.9227\n",
            "Epoch 98/100\n",
            "46/46 [==============================] - 6s 124ms/step - loss: 0.2210 - accuracy: 0.9092 - val_loss: 0.1936 - val_accuracy: 0.9227\n",
            "Epoch 99/100\n",
            "46/46 [==============================] - 7s 147ms/step - loss: 0.2211 - accuracy: 0.9093 - val_loss: 0.1932 - val_accuracy: 0.9227\n",
            "Epoch 100/100\n",
            "46/46 [==============================] - 6s 135ms/step - loss: 0.2211 - accuracy: 0.9098 - val_loss: 0.1934 - val_accuracy: 0.9226\n"
          ]
        }
      ]
    },
    {
      "cell_type": "code",
      "source": [
        "# save Attention model and architecture to single file\n",
        "model1.save('Save_Model_Attention.h5')\n",
        "print(\"Saved model to disk\")\n",
        "# summarize model.\n",
        "model1.summary()"
      ],
      "metadata": {
        "colab": {
          "base_uri": "https://localhost:8080/"
        },
        "id": "sozuiMW5Ggkj",
        "outputId": "02e193b3-a750-451c-db46-84d6306e8fe5"
      },
      "execution_count": null,
      "outputs": [
        {
          "output_type": "stream",
          "name": "stdout",
          "text": [
            "Saved model to disk\n",
            "Model: \"sequential_1\"\n",
            "_________________________________________________________________\n",
            " Layer (type)                Output Shape              Param #   \n",
            "=================================================================\n",
            " lstm_2 (LSTM)               (None, 1, 32)             4736      \n",
            "                                                                 \n",
            " lstm_3 (LSTM)               (None, 1, 32)             8320      \n",
            "                                                                 \n",
            " attention_mechanism (attent  (None, 32)               33        \n",
            " ion_mechanism)                                                  \n",
            "                                                                 \n",
            " dense_1 (Dense)             (None, 1)                 33        \n",
            "                                                                 \n",
            "=================================================================\n",
            "Total params: 13,122\n",
            "Trainable params: 13,122\n",
            "Non-trainable params: 0\n",
            "_________________________________________________________________\n"
          ]
        }
      ]
    },
    {
      "cell_type": "code",
      "source": [
        "# LSTM model with attention mechanism layer evaluation\n",
        "_, acc_train1 = model1.evaluate(train_LSTM_X, train_LSTM_y, verbose=0)\n",
        "_, acc_test1 = model1.evaluate(val_LSTM_X, val_LSTM_y, verbose=0)\n",
        "print('Train: %.3f, Test: %.3f' % (acc_train1, acc_test1))"
      ],
      "metadata": {
        "colab": {
          "base_uri": "https://localhost:8080/"
        },
        "id": "t_aj71AGHL7K",
        "outputId": "a45cc5b9-c8da-4b35-a58e-85c9f01f08e2"
      },
      "execution_count": null,
      "outputs": [
        {
          "output_type": "stream",
          "name": "stdout",
          "text": [
            "Train: 0.922, Test: 0.923\n"
          ]
        }
      ]
    },
    {
      "cell_type": "code",
      "source": [
        "# predict probabilities for test set\n",
        "yt_probs1 = model1.predict(val_LSTM_X, verbose=0)\n",
        "# reduce to 1d array\n",
        "yt_probs1 = yt_probs1[:, 0]"
      ],
      "metadata": {
        "id": "uyQ4PwN6HMUa"
      },
      "execution_count": null,
      "outputs": []
    },
    {
      "cell_type": "code",
      "source": [
        "# Set threshold for decision boundary\n",
        "threshold = 0.5\n",
        "\n",
        "# Convert predicted probabilities to class labels using the threshold\n",
        "yt_predictions1 = (yt_probs1 > threshold).astype(int)\n",
        "\n",
        "# Print the predicted class labels for the first ten test samples\n",
        "print(yt_predictions1[:10])"
      ],
      "metadata": {
        "colab": {
          "base_uri": "https://localhost:8080/"
        },
        "id": "ExcRTr1PHMbl",
        "outputId": "6a524230-1d16-4d55-99d0-862ac4c41e0a"
      },
      "execution_count": null,
      "outputs": [
        {
          "output_type": "stream",
          "name": "stdout",
          "text": [
            "[1 1 1 0 0 0 0 0 0 1]\n"
          ]
        }
      ]
    },
    {
      "cell_type": "code",
      "source": [
        "# Model evaluation metrics for LSTM with attention mechanism layer\n",
        "\n",
        "\n",
        "# accuracy: (tp + tn) / (p + n)\n",
        "accuracy = accuracy_score(val_LSTM_y, yt_predictions1)\n",
        "print('Accuracy: %f' % accuracy)\n",
        "# precision tp / (tp + fp)\n",
        "precision = precision_score(val_LSTM_y, yt_predictions1)\n",
        "print('Precision: %f' % precision)\n",
        "# recall: tp / (tp + fn)\n",
        "recall = recall_score(val_LSTM_y, yt_predictions1)\n",
        "print('Recall: %f' % recall)"
      ],
      "metadata": {
        "colab": {
          "base_uri": "https://localhost:8080/"
        },
        "id": "DKjmyhrvHMhB",
        "outputId": "a6b67ff3-2254-4c17-ab78-d43de1bdb061"
      },
      "execution_count": null,
      "outputs": [
        {
          "output_type": "stream",
          "name": "stdout",
          "text": [
            "Accuracy: 0.922639\n",
            "Precision: 0.955960\n",
            "Recall: 0.885967\n"
          ]
        }
      ]
    },
    {
      "cell_type": "code",
      "source": [
        "mt1 = confusion_matrix(y_true=val_LSTM_y, y_pred=yt_predictions1)"
      ],
      "metadata": {
        "id": "LvtxmrHKHYQe"
      },
      "execution_count": null,
      "outputs": []
    },
    {
      "cell_type": "code",
      "source": [
        "confusion_matrix_graph(mt=mt1, classes=labels, title='LSTM-Attention', normalize=False)"
      ],
      "metadata": {
        "colab": {
          "base_uri": "https://localhost:8080/",
          "height": 557
        },
        "id": "pMhD_MHJHYzv",
        "outputId": "3bc155c6-1372-4b8e-bbc7-477f5c0aa1e1"
      },
      "execution_count": null,
      "outputs": [
        {
          "output_type": "stream",
          "name": "stdout",
          "text": [
            "Confusion matrix, without normalization\n",
            "[[54590  2319]\n",
            " [ 6479 50338]]\n"
          ]
        },
        {
          "output_type": "display_data",
          "data": {
            "text/plain": [
              "<Figure size 640x480 with 2 Axes>"
            ],
            "image/png": "[encoded data removed]"
          },
          "metadata": {}
        }
      ]
    }
  ]
}