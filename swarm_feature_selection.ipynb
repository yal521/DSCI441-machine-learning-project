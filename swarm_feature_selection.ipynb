{
  "nbformat": 4,
  "nbformat_minor": 0,
  "metadata": {
    "colab": {
      "provenance": [],
      "mount_file_id": "1v300kXskaXZbOLGe-OuK7CQCAz0yBy-G",
      "authorship_tag": "ABX9TyP9jEgEJwLqvpj+lB47aIre",
      "include_colab_link": true
    },
    "kernelspec": {
      "name": "python3",
      "display_name": "Python 3"
    },
    "language_info": {
      "name": "python"
    }
  },
  "cells": [
    {
      "cell_type": "markdown",
      "metadata": {
        "id": "view-in-github",
        "colab_type": "text"
      },
      "source": [
        "<a href=\"https://colab.research.google.com/github/yal521/DSCI441-machine-learning-project/blob/main/swarm_feature_selection.ipynb\" target=\"_parent\"><img src=\"https://colab.research.google.com/assets/colab-badge.svg\" alt=\"Open In Colab\"/></a>"
      ]
    },
    {
      "cell_type": "markdown",
      "source": [
        "Feature Selection"
      ],
      "metadata": {
        "id": "YtmFrmLiv5tF"
      }
    },
    {
      "cell_type": "code",
      "source": [
        "pip install niapy --pre"
      ],
      "metadata": {
        "colab": {
          "base_uri": "https://localhost:8080/"
        },
        "id": "4aDBDZ_14NfT",
        "outputId": "4d1a00ab-76da-41cf-934a-153e644586a5"
      },
      "execution_count": 7,
      "outputs": [
        {
          "output_type": "stream",
          "name": "stdout",
          "text": [
            "Looking in indexes: https://pypi.org/simple, https://us-python.pkg.dev/colab-wheels/public/simple/\n",
            "Requirement already satisfied: niapy in /usr/local/lib/python3.9/dist-packages (2.0.5)\n",
            "Requirement already satisfied: openpyxl>=3.0.3 in /usr/local/lib/python3.9/dist-packages (from niapy) (3.0.10)\n",
            "Requirement already satisfied: matplotlib>=2.2.4 in /usr/local/lib/python3.9/dist-packages (from niapy) (3.7.1)\n",
            "Requirement already satisfied: pandas>=0.24.2 in /usr/local/lib/python3.9/dist-packages (from niapy) (1.5.3)\n",
            "Requirement already satisfied: numpy>=1.17.0 in /usr/local/lib/python3.9/dist-packages (from niapy) (1.22.4)\n",
            "Requirement already satisfied: fonttools>=4.22.0 in /usr/local/lib/python3.9/dist-packages (from matplotlib>=2.2.4->niapy) (4.39.3)\n",
            "Requirement already satisfied: kiwisolver>=1.0.1 in /usr/local/lib/python3.9/dist-packages (from matplotlib>=2.2.4->niapy) (1.4.4)\n",
            "Requirement already satisfied: cycler>=0.10 in /usr/local/lib/python3.9/dist-packages (from matplotlib>=2.2.4->niapy) (0.11.0)\n",
            "Requirement already satisfied: packaging>=20.0 in /usr/local/lib/python3.9/dist-packages (from matplotlib>=2.2.4->niapy) (23.0)\n",
            "Requirement already satisfied: contourpy>=1.0.1 in /usr/local/lib/python3.9/dist-packages (from matplotlib>=2.2.4->niapy) (1.0.7)\n",
            "Requirement already satisfied: python-dateutil>=2.7 in /usr/local/lib/python3.9/dist-packages (from matplotlib>=2.2.4->niapy) (2.8.2)\n",
            "Requirement already satisfied: importlib-resources>=3.2.0 in /usr/local/lib/python3.9/dist-packages (from matplotlib>=2.2.4->niapy) (5.12.0)\n",
            "Requirement already satisfied: pillow>=6.2.0 in /usr/local/lib/python3.9/dist-packages (from matplotlib>=2.2.4->niapy) (8.4.0)\n",
            "Requirement already satisfied: pyparsing>=2.3.1 in /usr/local/lib/python3.9/dist-packages (from matplotlib>=2.2.4->niapy) (3.0.9)\n",
            "Requirement already satisfied: et-xmlfile in /usr/local/lib/python3.9/dist-packages (from openpyxl>=3.0.3->niapy) (1.1.0)\n",
            "Requirement already satisfied: pytz>=2020.1 in /usr/local/lib/python3.9/dist-packages (from pandas>=0.24.2->niapy) (2022.7.1)\n",
            "Requirement already satisfied: zipp>=3.1.0 in /usr/local/lib/python3.9/dist-packages (from importlib-resources>=3.2.0->matplotlib>=2.2.4->niapy) (3.15.0)\n",
            "Requirement already satisfied: six>=1.5 in /usr/local/lib/python3.9/dist-packages (from python-dateutil>=2.7->matplotlib>=2.2.4->niapy) (1.16.0)\n"
          ]
        }
      ]
    },
    {
      "cell_type": "code",
      "execution_count": 8,
      "metadata": {
        "id": "I8rKWrgkaA2U"
      },
      "outputs": [],
      "source": [
        "#from sklearn.datasets import load_breast_cancer\n",
        "from sklearn.model_selection import train_test_split, cross_val_score\n",
        "from sklearn.svm import SVC\n",
        "import pandas as pd\n",
        "\n",
        "from niapy.problems import Problem\n",
        "from niapy.task import Task\n",
        "from niapy.algorithms.basic import ParticleSwarmOptimization\n",
        "\n",
        "\n",
        "class SVMFeatureSelection(Problem):\n",
        "    def __init__(self, X_train, y_train, alpha=0.99):\n",
        "        super().__init__(dimension=X_train.shape[1], lower=0, upper=1)\n",
        "        self.X_train = X_train\n",
        "        self.y_train = y_train\n",
        "        self.alpha = alpha\n",
        "\n",
        "    def _evaluate(self, x):\n",
        "        selected = x > 0.5\n",
        "        num_selected = selected.sum()\n",
        "        if num_selected == 0:\n",
        "            return 1.0\n",
        "        accuracy = cross_val_score(SVC(), self.X_train[:, selected], self.y_train, cv=2, n_jobs=-1).mean()\n",
        "        score = 1 - accuracy\n",
        "        num_features = self.X_train.shape[1]\n",
        "        return self.alpha * score + (1 - self.alpha) * (num_selected / num_features)"
      ]
    },
    {
      "cell_type": "code",
      "source": [
        "from random import sample\n",
        "Credit_data = pd.read_csv(\"/content/drive/MyDrive/Yang_DSCI441_Final_Project/dataset1_creditcard.csv\")\n"
      ],
      "metadata": {
        "id": "7FJkctLZ6JHn"
      },
      "execution_count": 9,
      "outputs": []
    },
    {
      "cell_type": "code",
      "source": [
        "Credit_data.shape"
      ],
      "metadata": {
        "colab": {
          "base_uri": "https://localhost:8080/"
        },
        "id": "7SDQ8ac0aHR-",
        "outputId": "cecdd5a0-39bf-468d-f36f-c81ff97153b9"
      },
      "execution_count": 10,
      "outputs": [
        {
          "output_type": "execute_result",
          "data": {
            "text/plain": [
              "(284807, 31)"
            ]
          },
          "metadata": {},
          "execution_count": 10
        }
      ]
    },
    {
      "cell_type": "code",
      "source": [
        "Credit_data1=Credit_data.sample(n=int(284807*0.1))\n",
        "Transaction = Credit_data1.drop(['Class'],axis ='columns')\n",
        "Label = Credit_data1 ['Class']\n",
        "feature_names = Transaction.columns"
      ],
      "metadata": {
        "id": "CjIrA5IKaMIG"
      },
      "execution_count": 29,
      "outputs": []
    },
    {
      "cell_type": "code",
      "source": [
        "Credit_data1.shape"
      ],
      "metadata": {
        "colab": {
          "base_uri": "https://localhost:8080/"
        },
        "id": "d1mLvhTrZnxO",
        "outputId": "cbd67331-c465-49c2-af05-cd0760282415"
      },
      "execution_count": 30,
      "outputs": [
        {
          "output_type": "execute_result",
          "data": {
            "text/plain": [
              "(28480, 31)"
            ]
          },
          "metadata": {},
          "execution_count": 30
        }
      ]
    },
    {
      "cell_type": "code",
      "source": [
        "a = Transaction.to_numpy()\n",
        "b = Label.to_numpy()\n",
        "c = feature_names.to_numpy()\n",
        "\n",
        "\n",
        "a_train, a_test, b_train, b_test = train_test_split(a, b, test_size=0.2, stratify=b, random_state=1234)\n",
        "\n",
        "problem = SVMFeatureSelection(a_train,b_train)\n",
        "task = Task(problem, max_iters=100)\n",
        "algorithm = ParticleSwarmOptimization(population_size=10, seed=1234)\n",
        "best_features, best_fitness = algorithm.run(task)\n",
        "\n",
        "selected_features = best_features > 0.5\n",
        "print('Number of selected features:', selected_features.sum())\n",
        "print('Selected features:', ', '.join(c[selected_features].tolist()))\n",
        "\n",
        "model_selected = SVC()\n",
        "model_all = SVC()\n",
        "\n",
        "model_selected.fit(a_train[:, selected_features], b_train)\n",
        "print('Subset accuracy:', model_selected.score(a_test[:, selected_features], b_test))\n",
        "\n",
        "model_all.fit(a_train, b_train)\n",
        "print('All Features Accuracy:', model_all.score(a_test, b_test))"
      ],
      "metadata": {
        "id": "oGMJWxxnaOkc",
        "colab": {
          "base_uri": "https://localhost:8080/"
        },
        "outputId": "fe8db427-d6d6-4bb7-e046-ab8a0a761b54"
      },
      "execution_count": 31,
      "outputs": [
        {
          "output_type": "stream",
          "name": "stdout",
          "text": [
            "Number of selected features: 4\n",
            "Selected features: V4, V5, V16, V18\n",
            "Subset accuracy: 0.9985955056179775\n",
            "All Features Accuracy: 0.9982443820224719\n"
          ]
        }
      ]
    }
  ]
}