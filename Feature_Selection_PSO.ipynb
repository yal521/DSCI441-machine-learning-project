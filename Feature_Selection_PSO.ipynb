{
  "nbformat": 4,
  "nbformat_minor": 0,
  "metadata": {
    "colab": {
      "provenance": [],
      "mount_file_id": "1v300kXskaXZbOLGe-OuK7CQCAz0yBy-G",
      "authorship_tag": "ABX9TyNe5BePXLlz4oSvTt+l05d1",
      "include_colab_link": true
    },
    "kernelspec": {
      "name": "python3",
      "display_name": "Python 3"
    },
    "language_info": {
      "name": "python"
    }
  },
  "cells": [
    {
      "cell_type": "markdown",
      "metadata": {
        "id": "view-in-github",
        "colab_type": "text"
      },
      "source": [
        "<a href=\"https://colab.research.google.com/github/yal521/DSCI441-machine-learning-project/blob/main/Feature_Selection_PSO.ipynb\" target=\"_parent\"><img src=\"https://colab.research.google.com/assets/colab-badge.svg\" alt=\"Open In Colab\"/></a>"
      ]
    },
    {
      "cell_type": "markdown",
      "source": [
        "Feature Selection：Particle Swarm Optimization"
      ],
      "metadata": {
        "id": "YtmFrmLiv5tF"
      }
    },
    {
      "cell_type": "code",
      "source": [
        "# install niapy for the use of swarm intelligence\n",
        "!pip install niapy --pre"
      ],
      "metadata": {
        "colab": {
          "base_uri": "https://localhost:8080/"
        },
        "id": "4aDBDZ_14NfT",
        "outputId": "b8c7db54-a282-404b-dd20-f09daa99e7c5"
      },
      "execution_count": null,
      "outputs": [
        {
          "output_type": "stream",
          "name": "stdout",
          "text": [
            "Looking in indexes: https://pypi.org/simple, https://us-python.pkg.dev/colab-wheels/public/simple/\n",
            "Requirement already satisfied: niapy in /usr/local/lib/python3.10/dist-packages (2.0.5)\n",
            "Requirement already satisfied: matplotlib>=2.2.4 in /usr/local/lib/python3.10/dist-packages (from niapy) (3.7.1)\n",
            "Requirement already satisfied: numpy>=1.17.0 in /usr/local/lib/python3.10/dist-packages (from niapy) (1.22.4)\n",
            "Requirement already satisfied: pandas>=0.24.2 in /usr/local/lib/python3.10/dist-packages (from niapy) (1.5.3)\n",
            "Requirement already satisfied: openpyxl>=3.0.3 in /usr/local/lib/python3.10/dist-packages (from niapy) (3.0.10)\n",
            "Requirement already satisfied: cycler>=0.10 in /usr/local/lib/python3.10/dist-packages (from matplotlib>=2.2.4->niapy) (0.11.0)\n",
            "Requirement already satisfied: kiwisolver>=1.0.1 in /usr/local/lib/python3.10/dist-packages (from matplotlib>=2.2.4->niapy) (1.4.4)\n",
            "Requirement already satisfied: pillow>=6.2.0 in /usr/local/lib/python3.10/dist-packages (from matplotlib>=2.2.4->niapy) (8.4.0)\n",
            "Requirement already satisfied: python-dateutil>=2.7 in /usr/local/lib/python3.10/dist-packages (from matplotlib>=2.2.4->niapy) (2.8.2)\n",
            "Requirement already satisfied: packaging>=20.0 in /usr/local/lib/python3.10/dist-packages (from matplotlib>=2.2.4->niapy) (23.1)\n",
            "Requirement already satisfied: pyparsing>=2.3.1 in /usr/local/lib/python3.10/dist-packages (from matplotlib>=2.2.4->niapy) (3.0.9)\n",
            "Requirement already satisfied: contourpy>=1.0.1 in /usr/local/lib/python3.10/dist-packages (from matplotlib>=2.2.4->niapy) (1.0.7)\n",
            "Requirement already satisfied: fonttools>=4.22.0 in /usr/local/lib/python3.10/dist-packages (from matplotlib>=2.2.4->niapy) (4.39.3)\n",
            "Requirement already satisfied: et-xmlfile in /usr/local/lib/python3.10/dist-packages (from openpyxl>=3.0.3->niapy) (1.1.0)\n",
            "Requirement already satisfied: pytz>=2020.1 in /usr/local/lib/python3.10/dist-packages (from pandas>=0.24.2->niapy) (2022.7.1)\n",
            "Requirement already satisfied: six>=1.5 in /usr/local/lib/python3.10/dist-packages (from python-dateutil>=2.7->matplotlib>=2.2.4->niapy) (1.16.0)\n"
          ]
        }
      ]
    },
    {
      "cell_type": "code",
      "execution_count": null,
      "metadata": {
        "id": "I8rKWrgkaA2U"
      },
      "outputs": [],
      "source": [
        "# Defining class SVMFeatureSelection\n",
        "\n",
        "from sklearn.model_selection import train_test_split, cross_val_score\n",
        "from sklearn.svm import SVC\n",
        "import pandas as pd\n",
        "\n",
        "from niapy.problems import Problem\n",
        "from niapy.task import Task\n",
        "from niapy.algorithms.basic import ParticleSwarmOptimization\n",
        "\n",
        "\n",
        "class SVMFeatureSelection(Problem):\n",
        "    def __init__(self, X_train, y_train, alpha=0.99):\n",
        "        super().__init__(dimension=X_train.shape[1], lower=0, upper=1)\n",
        "        self.X_train = X_train\n",
        "        self.y_train = y_train\n",
        "        self.alpha = alpha\n",
        "\n",
        "    def _evaluate(self, x):\n",
        "        selected = x > 0.5\n",
        "        num_selected = selected.sum()\n",
        "        if num_selected == 0:\n",
        "            return 1.0\n",
        "        accuracy = cross_val_score(SVC(), self.X_train[:, selected], self.y_train, cv=3, n_jobs=-1).mean()\n",
        "        score = 1 - accuracy\n",
        "        num_features = self.X_train.shape[1]\n",
        "        return self.alpha * score + (1 - self.alpha) * (num_selected / num_features)"
      ]
    },
    {
      "cell_type": "code",
      "source": [
        "import os\n",
        "import numpy as np\n",
        "import pandas as pd\n",
        "from google.colab import drive\n",
        "from random import sample\n",
        "drive.mount('/content/drive')\n",
        "os.chdir('/content/drive/MyDrive/Yang_DSCI441_Final_Project')\n",
        "Credit_data_TR = pd.read_csv(\"Credit_data_TR_after_SMOTE.csv\")\n",
        "Credit_data_Label = pd.read_csv(\"Credit_data_Label_after_SMOTE.csv\")"
      ],
      "metadata": {
        "colab": {
          "base_uri": "https://localhost:8080/"
        },
        "id": "ch3zuRpsb0TU",
        "outputId": "b41ca9fc-6e89-4d2e-ad52-f64a6fd76a44"
      },
      "execution_count": null,
      "outputs": [
        {
          "output_type": "stream",
          "name": "stdout",
          "text": [
            "Drive already mounted at /content/drive; to attempt to forcibly remount, call drive.mount(\"/content/drive\", force_remount=True).\n"
          ]
        }
      ]
    },
    {
      "cell_type": "code",
      "source": [
        "# extract a column as a list\n",
        "\n",
        "Class = Credit_data_Label['Class'].tolist()\n",
        "\n",
        "# print the resulting list\n",
        "# print(Class)\n",
        "\n",
        "# add the new list as a new column to the dataframe\n",
        "\n",
        "Credit_data_TR['Class'] = Class\n",
        "Credit_data3=Credit_data_TR\n",
        "\n",
        "# print the resulting dataframe\n",
        "# Credit_data3.head()\n",
        "\n",
        "Credit_data4 = Credit_data3.loc[Credit_data3['Class'] == 0].sample(n=int(500))\n",
        "Credit_data5 = Credit_data3.loc[Credit_data3['Class'] == 1].sample(n=int(500))\n",
        "Credit_data6 = pd.concat([Credit_data4, Credit_data5])\n",
        "Credit_data6.shape"
      ],
      "metadata": {
        "colab": {
          "base_uri": "https://localhost:8080/"
        },
        "id": "i4xrpCHs0oPO",
        "outputId": "48ba0c5a-99af-4cf4-ad7b-7b4392b56e9f"
      },
      "execution_count": null,
      "outputs": [
        {
          "output_type": "execute_result",
          "data": {
            "text/plain": [
              "(1000, 31)"
            ]
          },
          "metadata": {},
          "execution_count": 4
        }
      ]
    },
    {
      "cell_type": "code",
      "source": [
        "# Split Credit_data6 into feature parts and label parts\n",
        "Transaction = Credit_data6.drop(['Class'],axis ='columns')\n",
        "Label = Credit_data6 ['Class']\n",
        "feature_names = Transaction.columns"
      ],
      "metadata": {
        "id": "CjIrA5IKaMIG"
      },
      "execution_count": null,
      "outputs": []
    },
    {
      "cell_type": "code",
      "source": [
        "a = Transaction.to_numpy()\n",
        "b = Label.to_numpy()\n",
        "c = feature_names.to_numpy()\n",
        "\n",
        "\n",
        "a_train, a_test, b_train, b_test = train_test_split(a, b, test_size=0.20, stratify=b, random_state=1234)\n",
        "\n",
        "problem = SVMFeatureSelection(a_train,b_train)\n",
        "task = Task(problem, max_iters=100)\n",
        "algorithm = ParticleSwarmOptimization(population_size=10, seed=1234)\n",
        "best_features, best_fitness = algorithm.run(task)\n",
        "\n",
        "selected_features = best_features > 0.5\n",
        "print('Number of selected features:', selected_features.sum())\n",
        "print('Selected features:', ', '.join(c[selected_features].tolist()))\n",
        "\n",
        "model_selected = SVC()\n",
        "model_all = SVC()\n",
        "\n",
        "model_selected.fit(a_train[:, selected_features], b_train)\n",
        "print('Subset accuracy:', model_selected.score(a_test[:, selected_features], b_test))\n",
        "\n",
        "model_all.fit(a_train, b_train)\n",
        "print('All Features Accuracy:', model_all.score(a_test, b_test))"
      ],
      "metadata": {
        "colab": {
          "base_uri": "https://localhost:8080/"
        },
        "id": "JpOSJ7uk56LF",
        "outputId": "f99ffac0-fc68-4f7b-d76b-6844861cbc19"
      },
      "execution_count": null,
      "outputs": [
        {
          "output_type": "stream",
          "name": "stdout",
          "text": [
            "Number of selected features: 13\n",
            "Selected features: V1, V3, V6, V7, V9, V10, V11, V14, V17, V18, V19, V24, V26\n",
            "Subset accuracy: 0.995\n",
            "All Features Accuracy: 0.565\n"
          ]
        }
      ]
    }
  ]
}